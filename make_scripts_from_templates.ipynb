{
 "cells": [
  {
   "cell_type": "markdown",
   "metadata": {},
   "source": [
    "# Writing scripts for running the ChromBPNet pipeline\n",
    "This notebook takes in a set of file paths and generates the necessary bash scripts to run through the ChromBPNet pipeline specified in the README file.\n",
    "\n",
    "This notebook makes several assumptions\n",
    "\n",
    "1. You have fragments files (BED files indicating the mapping of each read pair) for each group you want to train a model. This can be cell types, conditions, etc. or any combinations of these.\n",
    "2. You have narrowPeak files for each group you want to train a model. Most of the time this should match grouping of the fragments files.\n",
    "3. "
   ]
  },
  {
   "cell_type": "markdown",
   "metadata": {},
   "source": [
    "# Set-up"
   ]
  },
  {
   "cell_type": "code",
   "execution_count": 1,
   "metadata": {},
   "outputs": [
    {
     "name": "stdout",
     "output_type": "stream",
     "text": [
      "The history saving thread hit an unexpected error (DatabaseError('database disk image is malformed')).History will not be written to the database.\n"
     ]
    }
   ],
   "source": [
    "# Imports\n",
    "import os\n",
    "import glob\n",
    "import yaml\n",
    "import pandas as pd"
   ]
  },
  {
   "cell_type": "code",
   "execution_count": 2,
   "metadata": {},
   "outputs": [],
   "source": [
    "# Input data paths\n",
    "path_fragments = \"/cellar/users/aklie/data/datasets/HPAP/fragments\"\n",
    "path_narrowPeaks = \"/cellar/users/aklie/data/datasets/HPAP/peaks\"\n",
    "\n",
    "# Genome information\n",
    "path_genome_fasta = \"/cellar/users/aklie/data/ref/genomes/hg38/hg38.fa\"\n",
    "path_chromsizes = \"/cellar/users/aklie/data/ref/genomes/hg38/hg38.chrom.sizes\"\n",
    "path_blacklist = \"/cellar/users/aklie/data/ref/genomes/hg38/blacklist/blacklist.bed.gz\"\n",
    "path_fold_dir = \"/cellar/users/aklie/data/ref/genomes/hg38/chrombpnet/splits\"\n",
    "\n",
    "# TF motif database\n",
    "path_meme_file = \"/cellar/users/aklie/data/datasets/igvf_sc-islet_10X-Multiome/ref/motifs.meme\"\n",
    "\n",
    "# Auxiliary scripts\n",
    "path_wigToBigWig = \"/cellar/users/aklie/opt/wigToBigWig\"\n",
    "path_contribution_averaging_script = \"/cellar/users/aklie/projects/ML4GLand/chrombpnet/scripts/average_importance_h5_over_folds.py\"\n",
    "path_pfm_script = \"/cellar/users/aklie/projects/ML4GLand/chrombpnet/scripts/modisco_to_pfm.py\"\n",
    "path_meme_script = \"/cellar/users/aklie/projects/ML4GLand/chrombpnet/scripts/pfm_to_meme.py\"\n",
    "path_variant_scorer = \"/cellar/users/aklie/opt/variant-scorer/src/variant_scoring.py\"\n",
    "\n",
    "# Output path\n",
    "path_out = \"/cellar/users/aklie/data/datasets/HPAP/models\"\n",
    "os.makedirs(path_out, exist_ok=True)"
   ]
  },
  {
   "cell_type": "code",
   "execution_count": 3,
   "metadata": {},
   "outputs": [],
   "source": [
    "# Params\n",
    "name = \"HPAP\""
   ]
  },
  {
   "cell_type": "markdown",
   "metadata": {},
   "source": [
    "# Find files"
   ]
  },
  {
   "cell_type": "code",
   "execution_count": 4,
   "metadata": {},
   "outputs": [
    {
     "data": {
      "text/plain": [
       "{'Schwann': '/cellar/users/aklie/data/datasets/HPAP/fragments/Schwann.bed',\n",
       " 'Ductal': '/cellar/users/aklie/data/datasets/HPAP/fragments/Ductal.bed',\n",
       " 'Acinar': '/cellar/users/aklie/data/datasets/HPAP/fragments/Acinar.bed',\n",
       " 'Delta': '/cellar/users/aklie/data/datasets/HPAP/fragments/Delta.bed',\n",
       " 'Endothelial': '/cellar/users/aklie/data/datasets/HPAP/fragments/Endothelial.bed',\n",
       " 'Q_Stellate': '/cellar/users/aklie/data/datasets/HPAP/fragments/Q_Stellate.bed',\n",
       " 'A_Stellate': '/cellar/users/aklie/data/datasets/HPAP/fragments/A_Stellate.bed',\n",
       " 'Gamma': '/cellar/users/aklie/data/datasets/HPAP/fragments/Gamma.bed',\n",
       " 'Alpha': '/cellar/users/aklie/data/datasets/HPAP/fragments/Alpha.bed',\n",
       " 'Beta': '/cellar/users/aklie/data/datasets/HPAP/fragments/Beta.bed',\n",
       " 'Immune': '/cellar/users/aklie/data/datasets/HPAP/fragments/Immune.bed',\n",
       " 'MUC5B_Ductal': '/cellar/users/aklie/data/datasets/HPAP/fragments/MUC5B_Ductal.bed'}"
      ]
     },
     "execution_count": 4,
     "metadata": {},
     "output_type": "execute_result"
    }
   ],
   "source": [
    "# Get a dictionary of fragments files for each group of interest\n",
    "fragments_dict = {}\n",
    "for f in glob.glob(f\"{path_fragments}/*.bed\"):\n",
    "    celltype = os.path.basename(f).split(\".\")[0]\n",
    "    fragments_dict[celltype] = f\n",
    "fragments_dict"
   ]
  },
  {
   "cell_type": "code",
   "execution_count": 5,
   "metadata": {},
   "outputs": [
    {
     "data": {
      "text/plain": [
       "{'Delta': '/cellar/users/aklie/data/datasets/HPAP/peaks/Delta_peaks.narrowPeak',\n",
       " 'Acinar': '/cellar/users/aklie/data/datasets/HPAP/peaks/Acinar_peaks.narrowPeak',\n",
       " 'Alpha': '/cellar/users/aklie/data/datasets/HPAP/peaks/Alpha_peaks.narrowPeak',\n",
       " 'Schwann': '/cellar/users/aklie/data/datasets/HPAP/peaks/Schwann_peaks.narrowPeak',\n",
       " 'MUC5B_Ductal': '/cellar/users/aklie/data/datasets/HPAP/peaks/MUC5B_Ductal_peaks.narrowPeak',\n",
       " 'Q_Stellate': '/cellar/users/aklie/data/datasets/HPAP/peaks/Q_Stellate_peaks.narrowPeak',\n",
       " 'Beta': '/cellar/users/aklie/data/datasets/HPAP/peaks/Beta_peaks.narrowPeak',\n",
       " 'Immune': '/cellar/users/aklie/data/datasets/HPAP/peaks/Immune_peaks.narrowPeak',\n",
       " 'Gamma': '/cellar/users/aklie/data/datasets/HPAP/peaks/Gamma_peaks.narrowPeak',\n",
       " 'Endothelial': '/cellar/users/aklie/data/datasets/HPAP/peaks/Endothelial_peaks.narrowPeak',\n",
       " 'A_Stellate': '/cellar/users/aklie/data/datasets/HPAP/peaks/A_Stellate_peaks.narrowPeak',\n",
       " 'Ductal': '/cellar/users/aklie/data/datasets/HPAP/peaks/Ductal_peaks.narrowPeak'}"
      ]
     },
     "execution_count": 5,
     "metadata": {},
     "output_type": "execute_result"
    }
   ],
   "source": [
    "# Get a dictionary of narrowPeak files for each group\n",
    "narrowPeaks_dict = {}\n",
    "for f in glob.glob(f\"{path_narrowPeaks}/*.narrowPeak\"):\n",
    "    celltype = os.path.basename(f).split(\"_peaks.narrowPeak\")[0]\n",
    "    narrowPeaks_dict[celltype] = f\n",
    "narrowPeaks_dict"
   ]
  },
  {
   "cell_type": "code",
   "execution_count": 6,
   "metadata": {},
   "outputs": [],
   "source": [
    "# Make sure keys are the same\n",
    "assert set(fragments_dict.keys()) == set(narrowPeaks_dict.keys())"
   ]
  },
  {
   "cell_type": "code",
   "execution_count": 7,
   "metadata": {},
   "outputs": [
    {
     "data": {
      "text/plain": [
       "['Schwann',\n",
       " 'Ductal',\n",
       " 'Acinar',\n",
       " 'Delta',\n",
       " 'Endothelial',\n",
       " 'Q_Stellate',\n",
       " 'A_Stellate',\n",
       " 'Gamma',\n",
       " 'Alpha',\n",
       " 'Beta',\n",
       " 'Immune',\n",
       " 'MUC5B_Ductal']"
      ]
     },
     "execution_count": 7,
     "metadata": {},
     "output_type": "execute_result"
    }
   ],
   "source": [
    "# Define the groups to train models on\n",
    "groups = list(fragments_dict.keys())\n",
    "groups"
   ]
  },
  {
   "cell_type": "markdown",
   "metadata": {},
   "source": [
    "# Negatives"
   ]
  },
  {
   "cell_type": "code",
   "execution_count": 8,
   "metadata": {},
   "outputs": [],
   "source": [
    "path_template = \"/cellar/users/aklie/projects/ML4GLand/chrombpnet/templates/negatives.txt\"\n",
    "path_scripts = \"/cellar/users/aklie/data/datasets/HPAP/bin/chrombpnet/scripts/negatives\"\n",
    "name = \"HPAP\""
   ]
  },
  {
   "cell_type": "code",
   "execution_count": 9,
   "metadata": {},
   "outputs": [
    {
     "name": "stdout",
     "output_type": "stream",
     "text": [
      "12 12 12 12 12\n"
     ]
    }
   ],
   "source": [
    "folds = 1\n",
    "celltypes = []\n",
    "fragments = []\n",
    "peaks = []\n",
    "output_dirs = []\n",
    "fold_lst = []\n",
    "for group in groups:\n",
    "    for i in range(folds):\n",
    "        outdir = f\"{path_out}/{group}/fold_{i}/negatives\"\n",
    "        os.makedirs(outdir, exist_ok=True)\n",
    "        celltypes.append(group)\n",
    "        fragments.append(fragments_dict[group])\n",
    "        peaks.append(narrowPeaks_dict[group])\n",
    "        output_dirs.append(outdir)\n",
    "        fold_lst.append(i)\n",
    "print(len(celltypes), len(fragments), len(peaks), len(output_dirs), len(fold_lst))"
   ]
  },
  {
   "cell_type": "code",
   "execution_count": 10,
   "metadata": {},
   "outputs": [
    {
     "name": "stdout",
     "output_type": "stream",
     "text": [
      "celltypes=(\n",
      "\tSchwann\n",
      "\tDuctal\n",
      "\tAcinar\n",
      "\tDelta\n",
      "\tEndothelial\n",
      "\tQ_Stellate\n",
      "\tA_Stellate\n",
      "\tGamma\n",
      "\tAlpha\n",
      "\tBeta\n",
      "\tImmune\n",
      "\tMUC5B_Ductal\n",
      ")\n",
      "peaks=(\n",
      "\t/cellar/users/aklie/data/datasets/HPAP/peaks/Schwann_peaks.narrowPeak\n",
      "\t/cellar/users/aklie/data/datasets/HPAP/peaks/Ductal_peaks.narrowPeak\n",
      "\t/cellar/users/aklie/data/datasets/HPAP/peaks/Acinar_peaks.narrowPeak\n",
      "\t/cellar/users/aklie/data/datasets/HPAP/peaks/Delta_peaks.narrowPeak\n",
      "\t/cellar/users/aklie/data/datasets/HPAP/peaks/Endothelial_peaks.narrowPeak\n",
      "\t/cellar/users/aklie/data/datasets/HPAP/peaks/Q_Stellate_peaks.narrowPeak\n",
      "\t/cellar/users/aklie/data/datasets/HPAP/peaks/A_Stellate_peaks.narrowPeak\n",
      "\t/cellar/users/aklie/data/datasets/HPAP/peaks/Gamma_peaks.narrowPeak\n",
      "\t/cellar/users/aklie/data/datasets/HPAP/peaks/Alpha_peaks.narrowPeak\n",
      "\t/cellar/users/aklie/data/datasets/HPAP/peaks/Beta_peaks.narrowPeak\n",
      "\t/cellar/users/aklie/data/datasets/HPAP/peaks/Immune_peaks.narrowPeak\n",
      "\t/cellar/users/aklie/data/datasets/HPAP/peaks/MUC5B_Ductal_peaks.narrowPeak\n",
      ")\n",
      "output_dirs=(\n",
      "\t/cellar/users/aklie/data/datasets/HPAP/models/Schwann/fold_0/negatives\n",
      "\t/cellar/users/aklie/data/datasets/HPAP/models/Ductal/fold_0/negatives\n",
      "\t/cellar/users/aklie/data/datasets/HPAP/models/Acinar/fold_0/negatives\n",
      "\t/cellar/users/aklie/data/datasets/HPAP/models/Delta/fold_0/negatives\n",
      "\t/cellar/users/aklie/data/datasets/HPAP/models/Endothelial/fold_0/negatives\n",
      "\t/cellar/users/aklie/data/datasets/HPAP/models/Q_Stellate/fold_0/negatives\n",
      "\t/cellar/users/aklie/data/datasets/HPAP/models/A_Stellate/fold_0/negatives\n",
      "\t/cellar/users/aklie/data/datasets/HPAP/models/Gamma/fold_0/negatives\n",
      "\t/cellar/users/aklie/data/datasets/HPAP/models/Alpha/fold_0/negatives\n",
      "\t/cellar/users/aklie/data/datasets/HPAP/models/Beta/fold_0/negatives\n",
      "\t/cellar/users/aklie/data/datasets/HPAP/models/Immune/fold_0/negatives\n",
      "\t/cellar/users/aklie/data/datasets/HPAP/models/MUC5B_Ductal/fold_0/negatives\n",
      ")\n",
      "folds=(\n",
      "\t0\n",
      "\t0\n",
      "\t0\n",
      "\t0\n",
      "\t0\n",
      "\t0\n",
      "\t0\n",
      "\t0\n",
      "\t0\n",
      "\t0\n",
      "\t0\n",
      "\t0\n",
      ")\n"
     ]
    }
   ],
   "source": [
    "# Print out celltypes in same way I would write a bash array so I can copy paste into a script\n",
    "celltypes_str=\"celltypes=(\\n\"\n",
    "for celltype in celltypes:\n",
    "    celltypes_str += f\"\\t{celltype}\\n\"\n",
    "celltypes_str += \")\"\n",
    "print(celltypes_str)\n",
    "\n",
    "# Samme for peaks\n",
    "peaks_str=\"peaks=(\\n\"\n",
    "for peak in peaks:\n",
    "    peaks_str += f\"\\t{peak}\\n\"\n",
    "peaks_str += \")\"\n",
    "print(peaks_str)\n",
    "\n",
    "# Samme for output_dirs\n",
    "output_dirs_str=\"output_dirs=(\\n\"\n",
    "for output_dir in output_dirs:\n",
    "    output_dirs_str += f\"\\t{output_dir}\\n\"\n",
    "output_dirs_str += \")\"\n",
    "print(output_dirs_str)\n",
    "\n",
    "#  Samme for fold_lst\n",
    "fold_lst_str=\"folds=(\\n\"\n",
    "for fold in fold_lst:\n",
    "    fold_lst_str += f\"\\t{fold}\\n\"\n",
    "fold_lst_str += \")\"\n",
    "print(fold_lst_str)"
   ]
  },
  {
   "cell_type": "code",
   "execution_count": 11,
   "metadata": {},
   "outputs": [
    {
     "data": {
      "text/plain": [
       "'#! /bin/bash\\n\\n#####\\n# Script to run chrombpnet negatives command across multiple peaksets as a SLURM array job\\n# USAGE: sbatch \\\\\\n#--job-name=negatives \\\\\\n#--partition carter-compute \\\\\\n#--output slurm_logs/%x.%A.%a.out \\\\\\n#--mem=16G \\\\\\n#-n 1 \\\\\\n#-t 02-00:00:00 \\\\\\n#--array=1-12%12 \\\\\\n#negatives.sh\\n#####\\n\\ndate\\necho -e \"Job ID: $SLURM_JOB_ID\\\\n\"\\n\\n# Set-up env\\nsource activate chrombpnet\\nexport LD_LIBRARY_PATH=$LD_LIBRARY_PATH:/cellar/users/aklie/opt/miniconda3/envs/chrombpnet/lib\\n\\n# file lists\\n{}\\n{}\\n{}\\n{}\\n\\n# Grab each for this SLURM task\\ncelltype=${{celltypes[$SLURM_ARRAY_TASK_ID - 1]}}\\npeak=${{peaks[$SLURM_ARRAY_TASK_ID - 1]}}\\nfold=${{folds[$SLURM_ARRAY_TASK_ID - 1]}}\\noutput_dir=${{output_dirs[$SLURM_ARRAY_TASK_ID - 1]}}\\n\\n# echo the celltype and peak\\necho -e \"Celltype: $celltype\"\\necho -e \"Peakset: $peak\"\\necho -e \"Fold: $fold\"\\necho -e \"Output directory: $output_dir\\\\n\"\\n\\n# make the output directory\\nmkdir -p $output_dir\\n\\n# Run cmd\\ncmd=\"chrombpnet prep nonpeaks \\\\\\n-g {} \\\\\\n-c {} \\\\\\n-p $peak \\\\\\n-fl {}/fold_${{fold}}.json \\\\\\n-br {} \\\\\\n-o $output_dir/${{celltype}}\"\\necho -e \"Running command:\\\\n$cmd\\\\n\"\\neval $cmd\\n\\n# Date\\ndate\\n'"
      ]
     },
     "execution_count": 11,
     "metadata": {},
     "output_type": "execute_result"
    }
   ],
   "source": [
    "# Read in template as a string\n",
    "template = open(path_template).read()\n",
    "template"
   ]
  },
  {
   "cell_type": "code",
   "execution_count": 12,
   "metadata": {},
   "outputs": [],
   "source": [
    "# Write the script\n",
    "with open(f\"{path_scripts}/{name}_negatives.sh\", \"w\") as f:\n",
    "    f.write(template.format(\n",
    "        celltypes_str,\n",
    "        peaks_str,\n",
    "        fold_lst_str,\n",
    "        output_dirs_str,\n",
    "        path_genome_fasta,\n",
    "        path_chromsizes,\n",
    "        path_fold_dir,\n",
    "        path_blacklist\n",
    "    ))"
   ]
  },
  {
   "cell_type": "markdown",
   "metadata": {},
   "source": [
    "# Bias models"
   ]
  },
  {
   "cell_type": "code",
   "execution_count": 13,
   "metadata": {},
   "outputs": [],
   "source": [
    "path_template = \"/cellar/users/aklie/projects/ML4GLand/chrombpnet/templates/bias_pipeline.txt\"\n",
    "path_scripts = \"/cellar/users/aklie/data/datasets/HPAP/bin/chrombpnet/scripts/bias_pipeline\"\n",
    "os.makedirs(path_scripts, exist_ok=True)\n",
    "name = \"HPAP\"\n",
    "beta = 0.3"
   ]
  },
  {
   "cell_type": "code",
   "execution_count": 14,
   "metadata": {},
   "outputs": [
    {
     "name": "stdout",
     "output_type": "stream",
     "text": [
      "negatives=(\n",
      "\t/cellar/users/aklie/data/datasets/HPAP/models/Schwann/fold_0/negatives/Schwann_negatives.bed\n",
      "\t/cellar/users/aklie/data/datasets/HPAP/models/Ductal/fold_0/negatives/Ductal_negatives.bed\n",
      "\t/cellar/users/aklie/data/datasets/HPAP/models/Acinar/fold_0/negatives/Acinar_negatives.bed\n",
      "\t/cellar/users/aklie/data/datasets/HPAP/models/Delta/fold_0/negatives/Delta_negatives.bed\n",
      "\t/cellar/users/aklie/data/datasets/HPAP/models/Endothelial/fold_0/negatives/Endothelial_negatives.bed\n",
      "\t/cellar/users/aklie/data/datasets/HPAP/models/Q_Stellate/fold_0/negatives/Q_Stellate_negatives.bed\n",
      "\t/cellar/users/aklie/data/datasets/HPAP/models/A_Stellate/fold_0/negatives/A_Stellate_negatives.bed\n",
      "\t/cellar/users/aklie/data/datasets/HPAP/models/Gamma/fold_0/negatives/Gamma_negatives.bed\n",
      "\t/cellar/users/aklie/data/datasets/HPAP/models/Alpha/fold_0/negatives/Alpha_negatives.bed\n",
      "\t/cellar/users/aklie/data/datasets/HPAP/models/Beta/fold_0/negatives/Beta_negatives.bed\n",
      "\t/cellar/users/aklie/data/datasets/HPAP/models/Immune/fold_0/negatives/Immune_negatives.bed\n",
      "\t/cellar/users/aklie/data/datasets/HPAP/models/MUC5B_Ductal/fold_0/negatives/MUC5B_Ductal_negatives.bed\n",
      ")\n"
     ]
    }
   ],
   "source": [
    "# Find negatives\n",
    "negatives = []\n",
    "for outdir in output_dirs:\n",
    "    group = outdir.split(\"/\")[-3]\n",
    "    negatives.append(f\"{outdir}/{group}_negatives.bed\")\n",
    "\n",
    "# Printable list\n",
    "negatives_str=\"negatives=(\\n\"\n",
    "for negative in negatives:\n",
    "    negatives_str += f\"\\t{negative}\\n\"\n",
    "negatives_str += \")\"\n",
    "print(negatives_str)"
   ]
  },
  {
   "cell_type": "code",
   "execution_count": 15,
   "metadata": {},
   "outputs": [
    {
     "name": "stdout",
     "output_type": "stream",
     "text": [
      "output_dirs=(\n",
      "\t/cellar/users/aklie/data/datasets/HPAP/models/Schwann/fold_0/bias_model/$beta\n",
      "\t/cellar/users/aklie/data/datasets/HPAP/models/Ductal/fold_0/bias_model/$beta\n",
      "\t/cellar/users/aklie/data/datasets/HPAP/models/Acinar/fold_0/bias_model/$beta\n",
      "\t/cellar/users/aklie/data/datasets/HPAP/models/Delta/fold_0/bias_model/$beta\n",
      "\t/cellar/users/aklie/data/datasets/HPAP/models/Endothelial/fold_0/bias_model/$beta\n",
      "\t/cellar/users/aklie/data/datasets/HPAP/models/Q_Stellate/fold_0/bias_model/$beta\n",
      "\t/cellar/users/aklie/data/datasets/HPAP/models/A_Stellate/fold_0/bias_model/$beta\n",
      "\t/cellar/users/aklie/data/datasets/HPAP/models/Gamma/fold_0/bias_model/$beta\n",
      "\t/cellar/users/aklie/data/datasets/HPAP/models/Alpha/fold_0/bias_model/$beta\n",
      "\t/cellar/users/aklie/data/datasets/HPAP/models/Beta/fold_0/bias_model/$beta\n",
      "\t/cellar/users/aklie/data/datasets/HPAP/models/Immune/fold_0/bias_model/$beta\n",
      "\t/cellar/users/aklie/data/datasets/HPAP/models/MUC5B_Ductal/fold_0/bias_model/$beta\n",
      ")\n"
     ]
    }
   ],
   "source": [
    "# Update output_dirs to replace \"negatives\" with bias_model/$beta\n",
    "output_dirs = [f\"{outdir.replace('/negatives', '')}/bias_model/$beta\" for outdir in output_dirs]\n",
    "\n",
    "# Same for output_dirs\n",
    "output_dirs_str=\"output_dirs=(\\n\"\n",
    "for output_dir in output_dirs:\n",
    "    output_dirs_str += f\"\\t{output_dir}\\n\"\n",
    "output_dirs_str += \")\"\n",
    "print(output_dirs_str)"
   ]
  },
  {
   "cell_type": "code",
   "execution_count": 16,
   "metadata": {},
   "outputs": [
    {
     "name": "stdout",
     "output_type": "stream",
     "text": [
      "fragments=(\n",
      "\t/cellar/users/aklie/data/datasets/HPAP/fragments/Schwann.bed\n",
      "\t/cellar/users/aklie/data/datasets/HPAP/fragments/Ductal.bed\n",
      "\t/cellar/users/aklie/data/datasets/HPAP/fragments/Acinar.bed\n",
      "\t/cellar/users/aklie/data/datasets/HPAP/fragments/Delta.bed\n",
      "\t/cellar/users/aklie/data/datasets/HPAP/fragments/Endothelial.bed\n",
      "\t/cellar/users/aklie/data/datasets/HPAP/fragments/Q_Stellate.bed\n",
      "\t/cellar/users/aklie/data/datasets/HPAP/fragments/A_Stellate.bed\n",
      "\t/cellar/users/aklie/data/datasets/HPAP/fragments/Gamma.bed\n",
      "\t/cellar/users/aklie/data/datasets/HPAP/fragments/Alpha.bed\n",
      "\t/cellar/users/aklie/data/datasets/HPAP/fragments/Beta.bed\n",
      "\t/cellar/users/aklie/data/datasets/HPAP/fragments/Immune.bed\n",
      "\t/cellar/users/aklie/data/datasets/HPAP/fragments/MUC5B_Ductal.bed\n",
      ")\n"
     ]
    }
   ],
   "source": [
    "# Same for fragments\n",
    "fragments_str=\"fragments=(\\n\"\n",
    "for fragment in fragments:\n",
    "    fragments_str += f\"\\t{fragment}\\n\"\n",
    "fragments_str += \")\"\n",
    "print(fragments_str)"
   ]
  },
  {
   "cell_type": "code",
   "execution_count": 17,
   "metadata": {},
   "outputs": [
    {
     "data": {
      "text/plain": [
       "'#! /bin/bash\\n\\n#####\\n# Script to run chrombpnet bias model pipeline across multiple fragment files as a SLURM array job\\n# USAGE: sbatch \\\\\\n#--job-name=bias_pipeline \\\\\\n#--account carter-gpu \\\\\\n#--partition carter-gpu \\\\\\n#--gpus=a30:1 \\\\\\n#--output slurm_logs/%x.%A.%a.out \\\\\\n#--mem=128G \\\\\\n#-n 4 \\\\\\n#-t 02-00:00:00 \\\\\\n#--array=1-12%12 \\\\\\n#bias_pipeline.sh\\n#####\\n\\ndate\\necho -e \"Job ID: $SLURM_JOB_ID\\\\n\"\\n\\n# Set-up env\\nsource activate chrombpnet\\nexport LD_LIBRARY_PATH=$LD_LIBRARY_PATH:/cellar/users/aklie/opt/miniconda3/envs/chrombpnet/lib\\npython -c \"import tensorflow as tf; print(tf.config.list_physical_devices(\\'GPU\\'))\"\\n\\n# file lists\\nbeta={}\\n{}\\n{}\\n{}\\n{}\\n{}\\n{}\\n\\n# Grab each for this SLURM task\\ncelltype=${{celltypes[$SLURM_ARRAY_TASK_ID - 1]}}\\nfragment=${{fragments[$SLURM_ARRAY_TASK_ID - 1]}}\\npeak=${{peaks[$SLURM_ARRAY_TASK_ID - 1]}}\\nfold=${{folds[$SLURM_ARRAY_TASK_ID - 1]}}\\nnegative=${{negatives[$SLURM_ARRAY_TASK_ID - 1]}}\\noutput_dir=${{output_dirs[$SLURM_ARRAY_TASK_ID - 1]}}\\n\\n# echo the celltype and peak\\necho -e \"Celltype: $celltype\"\\necho -e \"Fragment: $fragment\"\\necho -e \"Peakset: $peak\"\\necho -e \"Fold: $fold\"\\necho -e \"Negatives: $negative\"\\necho -e \"Output directory: $output_dir\\\\n\"\\n\\n# make the output directory\\nmkdir -p $output_dir\\n\\n# Run cmd\\ncmd=\"chrombpnet bias pipeline \\\\\\n-ifrag $fragment \\\\\\n-d \"ATAC\" \\\\\\n-g {} \\\\\\n-c {} \\\\\\n-p $peak \\\\\\n-n $negative \\\\\\n-fl {}/fold_${{fold}}.json \\\\\\n-b $beta \\\\\\n-o $output_dir \\\\\\n-fp $celltype\"\\necho -e \"Running command:\\\\n$cmd\\\\n\"\\neval $cmd\\n\\n# Date\\ndate\\n'"
      ]
     },
     "execution_count": 17,
     "metadata": {},
     "output_type": "execute_result"
    }
   ],
   "source": [
    "# Read in template as a string\n",
    "template = template = open(path_template).read()\n",
    "template"
   ]
  },
  {
   "cell_type": "code",
   "execution_count": 18,
   "metadata": {},
   "outputs": [],
   "source": [
    "# Write the script\n",
    "with open(f\"{path_scripts}/{name}_bias_pipeline.sh\", \"w\") as f:\n",
    "    f.write(template.format(\n",
    "        beta,\n",
    "        celltypes_str,\n",
    "        fragments_str,\n",
    "        peaks_str,\n",
    "        fold_lst_str,\n",
    "        negatives_str,\n",
    "        output_dirs_str,\n",
    "        path_genome_fasta,\n",
    "        path_chromsizes,\n",
    "        path_fold_dir,\n",
    "    ))\n"
   ]
  },
  {
   "cell_type": "markdown",
   "metadata": {},
   "source": [
    "# ChromBPNet models"
   ]
  },
  {
   "cell_type": "code",
   "execution_count": 19,
   "metadata": {},
   "outputs": [],
   "source": [
    "path_template = \"/cellar/users/aklie/projects/ML4GLand/chrombpnet/templates/chrombpnet_pipeline.txt\"\n",
    "path_scripts = \"/cellar/users/aklie/data/datasets/HPAP/bin/chrombpnet/scripts/chrombpnet_pipeline\"\n",
    "os.makedirs(path_scripts, exist_ok=True)\n",
    "name = \"HPAP\"\n",
    "beta = 0.3\n",
    "folds = 1"
   ]
  },
  {
   "cell_type": "code",
   "execution_count": 20,
   "metadata": {},
   "outputs": [
    {
     "name": "stdout",
     "output_type": "stream",
     "text": [
      "bias_models=(\n",
      "\t/cellar/users/aklie/data/datasets/HPAP/models/Beta/fold_0/bias_model/0.3/models/Beta_bias.h5\n",
      "\t/cellar/users/aklie/data/datasets/HPAP/models/Beta/fold_0/bias_model/0.3/models/Beta_bias.h5\n",
      "\t/cellar/users/aklie/data/datasets/HPAP/models/Beta/fold_0/bias_model/0.3/models/Beta_bias.h5\n",
      "\t/cellar/users/aklie/data/datasets/HPAP/models/Beta/fold_0/bias_model/0.3/models/Beta_bias.h5\n",
      "\t/cellar/users/aklie/data/datasets/HPAP/models/Beta/fold_0/bias_model/0.3/models/Beta_bias.h5\n",
      "\t/cellar/users/aklie/data/datasets/HPAP/models/Beta/fold_0/bias_model/0.3/models/Beta_bias.h5\n",
      "\t/cellar/users/aklie/data/datasets/HPAP/models/Beta/fold_0/bias_model/0.3/models/Beta_bias.h5\n",
      "\t/cellar/users/aklie/data/datasets/HPAP/models/Beta/fold_0/bias_model/0.3/models/Beta_bias.h5\n",
      "\t/cellar/users/aklie/data/datasets/HPAP/models/Beta/fold_0/bias_model/0.3/models/Beta_bias.h5\n",
      "\t/cellar/users/aklie/data/datasets/HPAP/models/Beta/fold_0/bias_model/0.3/models/Beta_bias.h5\n",
      "\t/cellar/users/aklie/data/datasets/HPAP/models/Beta/fold_0/bias_model/0.3/models/Beta_bias.h5\n",
      "\t/cellar/users/aklie/data/datasets/HPAP/models/Beta/fold_0/bias_model/0.3/models/Beta_bias.h5\n",
      ")\n"
     ]
    }
   ],
   "source": [
    "# Find the bias models and put into matching list\n",
    "bias_dir = \"/cellar/users/aklie/data/datasets/HPAP/models/Beta\"\n",
    "bias_models = {}\n",
    "f = glob.glob(f\"{bias_dir}/fold_*/bias_model/{beta}/models/*bias.h5\")\n",
    "for model in f:\n",
    "    fold = model.split(\"/\")[-5]\n",
    "    bias_models[fold] = model\n",
    "bias_models_lst = [bias_models[f\"fold_{fold}\"] for fold in fold_lst]\n",
    "\n",
    "# Same for bias_models\n",
    "bias_models_str=\"bias_models=(\\n\"\n",
    "for model in bias_models_lst:\n",
    "    bias_models_str += f\"\\t{model}\\n\"\n",
    "bias_models_str += \")\"\n",
    "print(bias_models_str)"
   ]
  },
  {
   "cell_type": "code",
   "execution_count": 21,
   "metadata": {},
   "outputs": [
    {
     "name": "stdout",
     "output_type": "stream",
     "text": [
      "output_dirs=(\n",
      "\t/cellar/users/aklie/data/datasets/HPAP/models/Schwann/fold_0/chrombpnet/0.3\n",
      "\t/cellar/users/aklie/data/datasets/HPAP/models/Ductal/fold_0/chrombpnet/0.3\n",
      "\t/cellar/users/aklie/data/datasets/HPAP/models/Acinar/fold_0/chrombpnet/0.3\n",
      "\t/cellar/users/aklie/data/datasets/HPAP/models/Delta/fold_0/chrombpnet/0.3\n",
      "\t/cellar/users/aklie/data/datasets/HPAP/models/Endothelial/fold_0/chrombpnet/0.3\n",
      "\t/cellar/users/aklie/data/datasets/HPAP/models/Q_Stellate/fold_0/chrombpnet/0.3\n",
      "\t/cellar/users/aklie/data/datasets/HPAP/models/A_Stellate/fold_0/chrombpnet/0.3\n",
      "\t/cellar/users/aklie/data/datasets/HPAP/models/Gamma/fold_0/chrombpnet/0.3\n",
      "\t/cellar/users/aklie/data/datasets/HPAP/models/Alpha/fold_0/chrombpnet/0.3\n",
      "\t/cellar/users/aklie/data/datasets/HPAP/models/Beta/fold_0/chrombpnet/0.3\n",
      "\t/cellar/users/aklie/data/datasets/HPAP/models/Immune/fold_0/chrombpnet/0.3\n",
      "\t/cellar/users/aklie/data/datasets/HPAP/models/MUC5B_Ductal/fold_0/chrombpnet/0.3\n",
      ")\n"
     ]
    }
   ],
   "source": [
    "# Update output_dirs to be \n",
    "output_dirs = []\n",
    "for group in groups:\n",
    "    for i in range(folds):\n",
    "        output_dirs.append(f\"{path_out}/{group}/fold_{i}/chrombpnet/{beta}\")\n",
    "\n",
    "# Same for output_dirs\n",
    "output_dirs_str=\"output_dirs=(\\n\"\n",
    "for output_dir in output_dirs:\n",
    "    output_dirs_str += f\"\\t{output_dir}\\n\"\n",
    "output_dirs_str += \")\"\n",
    "print(output_dirs_str)"
   ]
  },
  {
   "cell_type": "code",
   "execution_count": 22,
   "metadata": {},
   "outputs": [
    {
     "data": {
      "text/plain": [
       "'#! /bin/bash\\n\\n#####\\n# Script to run chrombpnet model pipeline across multiple fragment files as a SLURM array job\\n# USAGE: sbatch \\\\\\n#--job-name=chrombpnet_pipeline \\\\\\n#--account carter-gpu \\\\\\n#--partition carter-gpu \\\\\\n#--gpus=a30:1 \\\\\\n#--output slurm_logs/%x.%A.%a.out \\\\\\n#--mem=128G \\\\\\n#-n 4 \\\\\\n#-t 02-00:00:00 \\\\\\n#--array=1-12%12 \\\\\\n#chrombpnet_pipeline.sh\\n#####\\n\\ndate\\necho -e \"Job ID: $SLURM_JOB_ID\\\\n\"\\n\\n# Set-up env\\nsource activate chrombpnet\\nexport LD_LIBRARY_PATH=$LD_LIBRARY_PATH:/cellar/users/aklie/opt/miniconda3/envs/chrombpnet/lib\\npython -c \"import tensorflow as tf; print(tf.config.list_physical_devices(\\'GPU\\'))\"\\n\\n# file lists\\nbeta={}\\n{}\\n{}\\n{}\\n{}\\n{}\\n{}\\n{}\\n\\n# Grab each for this SLURM task\\ncelltype=${{celltypes[$SLURM_ARRAY_TASK_ID - 1]}}\\nfragment=${{fragments[$SLURM_ARRAY_TASK_ID - 1]}}\\npeak=${{peaks[$SLURM_ARRAY_TASK_ID - 1]}}\\nfold=${{folds[$SLURM_ARRAY_TASK_ID - 1]}}\\nnegative=${{negatives[$SLURM_ARRAY_TASK_ID - 1]}}\\nbias_model=${{bias_models[$SLURM_ARRAY_TASK_ID - 1]}}\\noutput_dir=${{output_dirs[$SLURM_ARRAY_TASK_ID - 1]}}\\n\\n# echo the celltype and peak\\necho -e \"Celltype: $celltype\"\\necho -e \"Fragment: $fragment\"\\necho -e \"Peakset: $peak\"\\necho -e \"Fold: $fold\"\\necho -e \"Negatives: $negative\"\\necho -e \"Bias model: $bias_model\"\\necho -e \"Output directory: $output_dir\\\\n\"\\n\\n# make the output directory\\nmkdir -p $output_dir\\n\\n# Run cmd\\ncmd=\"chrombpnet pipeline \\\\\\n-ifrag $fragment \\\\\\n-d \"ATAC\" \\\\\\n-g {} \\\\\\n-c {} \\\\\\n-p $peak \\\\\\n-n $negative \\\\\\n-fl {}/fold_${{fold}}.json \\\\\\n-b $bias_model \\\\\\n-o $output_dir\"\\necho -e \"Running command:\\\\n$cmd\\\\n\"\\neval $cmd\\n\\n# Date\\ndate\\n'"
      ]
     },
     "execution_count": 22,
     "metadata": {},
     "output_type": "execute_result"
    }
   ],
   "source": [
    "# Read in template as a string\n",
    "template = open(path_template).read()\n",
    "template"
   ]
  },
  {
   "cell_type": "code",
   "execution_count": 23,
   "metadata": {},
   "outputs": [],
   "source": [
    "# Write the script\n",
    "with open(f\"{path_scripts}/{name}_chrombpnet_pipeline.sh\", \"w\") as f:\n",
    "    f.write(template.format(\n",
    "        beta,\n",
    "        celltypes_str,\n",
    "        fragments_str,\n",
    "        peaks_str,\n",
    "        fold_lst_str,\n",
    "        negatives_str,\n",
    "        bias_models_str,\n",
    "        output_dirs_str,\n",
    "        path_genome_fasta,\n",
    "        path_chromsizes,\n",
    "        path_fold_dir,\n",
    "    ))"
   ]
  },
  {
   "cell_type": "markdown",
   "metadata": {},
   "source": [
    "# Predictions"
   ]
  },
  {
   "cell_type": "code",
   "execution_count": 24,
   "metadata": {},
   "outputs": [],
   "source": [
    "# Paths\n",
    "path_template = \"/cellar/users/aklie/projects/ML4GLand/chrombpnet/templates/predictions.txt\"\n",
    "path_scripts = \"/cellar/users/aklie/data/datasets/HPAP/bin/chrombpnet/scripts/predictions\"\n",
    "os.makedirs(path_scripts, exist_ok=True)\n",
    "name = \"HPAP\""
   ]
  },
  {
   "cell_type": "code",
   "execution_count": 25,
   "metadata": {},
   "outputs": [
    {
     "name": "stdout",
     "output_type": "stream",
     "text": [
      "bias_models=(\n",
      "\t/cellar/users/aklie/data/datasets/HPAP/models/Schwann/fold_0/chrombpnet/0.3/models/bias_model_scaled.h5\n",
      "\t/cellar/users/aklie/data/datasets/HPAP/models/Ductal/fold_0/chrombpnet/0.3/models/bias_model_scaled.h5\n",
      "\t/cellar/users/aklie/data/datasets/HPAP/models/Acinar/fold_0/chrombpnet/0.3/models/bias_model_scaled.h5\n",
      "\t/cellar/users/aklie/data/datasets/HPAP/models/Delta/fold_0/chrombpnet/0.3/models/bias_model_scaled.h5\n",
      "\t/cellar/users/aklie/data/datasets/HPAP/models/Endothelial/fold_0/chrombpnet/0.3/models/bias_model_scaled.h5\n",
      "\t/cellar/users/aklie/data/datasets/HPAP/models/Q_Stellate/fold_0/chrombpnet/0.3/models/bias_model_scaled.h5\n",
      "\t/cellar/users/aklie/data/datasets/HPAP/models/A_Stellate/fold_0/chrombpnet/0.3/models/bias_model_scaled.h5\n",
      "\t/cellar/users/aklie/data/datasets/HPAP/models/Gamma/fold_0/chrombpnet/0.3/models/bias_model_scaled.h5\n",
      "\t/cellar/users/aklie/data/datasets/HPAP/models/Alpha/fold_0/chrombpnet/0.3/models/bias_model_scaled.h5\n",
      "\t/cellar/users/aklie/data/datasets/HPAP/models/Beta/fold_0/chrombpnet/0.3/models/bias_model_scaled.h5\n",
      "\t/cellar/users/aklie/data/datasets/HPAP/models/Immune/fold_0/chrombpnet/0.3/models/bias_model_scaled.h5\n",
      "\t/cellar/users/aklie/data/datasets/HPAP/models/MUC5B_Ductal/fold_0/chrombpnet/0.3/models/bias_model_scaled.h5\n",
      ")\n"
     ]
    }
   ],
   "source": [
    "# Find bias models\n",
    "bias_models = []\n",
    "for outdir in output_dirs:\n",
    "    f = glob.glob(f\"{outdir}/models/bias_model_scaled.h5\")[0]\n",
    "    #f = f\"{outdir}/models/bias_model_scaled.h5\"\n",
    "    group = outdir.split(\"/\")[-3]\n",
    "    bias_models.append(f)\n",
    "\n",
    "# Same for bias_models\n",
    "bias_models_str=\"bias_models=(\\n\"\n",
    "for model in bias_models:\n",
    "    bias_models_str += f\"\\t{model}\\n\"\n",
    "bias_models_str += \")\"\n",
    "print(bias_models_str)"
   ]
  },
  {
   "cell_type": "code",
   "execution_count": 26,
   "metadata": {},
   "outputs": [
    {
     "name": "stdout",
     "output_type": "stream",
     "text": [
      "chrombpnet_models=(\n",
      "\t/cellar/users/aklie/data/datasets/HPAP/models/Schwann/fold_0/chrombpnet/0.3//models/chrombpnet.h5\n",
      "\t/cellar/users/aklie/data/datasets/HPAP/models/Ductal/fold_0/chrombpnet/0.3//models/chrombpnet.h5\n",
      "\t/cellar/users/aklie/data/datasets/HPAP/models/Acinar/fold_0/chrombpnet/0.3//models/chrombpnet.h5\n",
      "\t/cellar/users/aklie/data/datasets/HPAP/models/Delta/fold_0/chrombpnet/0.3//models/chrombpnet.h5\n",
      "\t/cellar/users/aklie/data/datasets/HPAP/models/Endothelial/fold_0/chrombpnet/0.3//models/chrombpnet.h5\n",
      "\t/cellar/users/aklie/data/datasets/HPAP/models/Q_Stellate/fold_0/chrombpnet/0.3//models/chrombpnet.h5\n",
      "\t/cellar/users/aklie/data/datasets/HPAP/models/A_Stellate/fold_0/chrombpnet/0.3//models/chrombpnet.h5\n",
      "\t/cellar/users/aklie/data/datasets/HPAP/models/Gamma/fold_0/chrombpnet/0.3//models/chrombpnet.h5\n",
      "\t/cellar/users/aklie/data/datasets/HPAP/models/Alpha/fold_0/chrombpnet/0.3//models/chrombpnet.h5\n",
      "\t/cellar/users/aklie/data/datasets/HPAP/models/Beta/fold_0/chrombpnet/0.3//models/chrombpnet.h5\n",
      "\t/cellar/users/aklie/data/datasets/HPAP/models/Immune/fold_0/chrombpnet/0.3//models/chrombpnet.h5\n",
      "\t/cellar/users/aklie/data/datasets/HPAP/models/MUC5B_Ductal/fold_0/chrombpnet/0.3//models/chrombpnet.h5\n",
      ")\n"
     ]
    }
   ],
   "source": [
    "# Find full chrombpnet models\n",
    "chrombpnet_models = []\n",
    "for outdir in output_dirs:\n",
    "    f = glob.glob(f\"{outdir}//models/chrombpnet.h5\")[0]\n",
    "    #f = f\"{outdir}/models/chrombpnet.h5\"\n",
    "    group = outdir.split(\"/\")[-3]\n",
    "    chrombpnet_models.append(f)\n",
    "\n",
    "# Same for chrombpnet_models\n",
    "chrombpnet_models_str=\"chrombpnet_models=(\\n\"\n",
    "for model in chrombpnet_models:\n",
    "    chrombpnet_models_str += f\"\\t{model}\\n\"\n",
    "chrombpnet_models_str += \")\"\n",
    "print(chrombpnet_models_str)"
   ]
  },
  {
   "cell_type": "code",
   "execution_count": 27,
   "metadata": {},
   "outputs": [
    {
     "name": "stdout",
     "output_type": "stream",
     "text": [
      "chrombpnet_nobias_models=(\n",
      "\t/cellar/users/aklie/data/datasets/HPAP/models/Schwann/fold_0/chrombpnet/0.3/models/chrombpnet_nobias.h5\n",
      "\t/cellar/users/aklie/data/datasets/HPAP/models/Ductal/fold_0/chrombpnet/0.3/models/chrombpnet_nobias.h5\n",
      "\t/cellar/users/aklie/data/datasets/HPAP/models/Acinar/fold_0/chrombpnet/0.3/models/chrombpnet_nobias.h5\n",
      "\t/cellar/users/aklie/data/datasets/HPAP/models/Delta/fold_0/chrombpnet/0.3/models/chrombpnet_nobias.h5\n",
      "\t/cellar/users/aklie/data/datasets/HPAP/models/Endothelial/fold_0/chrombpnet/0.3/models/chrombpnet_nobias.h5\n",
      "\t/cellar/users/aklie/data/datasets/HPAP/models/Q_Stellate/fold_0/chrombpnet/0.3/models/chrombpnet_nobias.h5\n",
      "\t/cellar/users/aklie/data/datasets/HPAP/models/A_Stellate/fold_0/chrombpnet/0.3/models/chrombpnet_nobias.h5\n",
      "\t/cellar/users/aklie/data/datasets/HPAP/models/Gamma/fold_0/chrombpnet/0.3/models/chrombpnet_nobias.h5\n",
      "\t/cellar/users/aklie/data/datasets/HPAP/models/Alpha/fold_0/chrombpnet/0.3/models/chrombpnet_nobias.h5\n",
      "\t/cellar/users/aklie/data/datasets/HPAP/models/Beta/fold_0/chrombpnet/0.3/models/chrombpnet_nobias.h5\n",
      "\t/cellar/users/aklie/data/datasets/HPAP/models/Immune/fold_0/chrombpnet/0.3/models/chrombpnet_nobias.h5\n",
      "\t/cellar/users/aklie/data/datasets/HPAP/models/MUC5B_Ductal/fold_0/chrombpnet/0.3/models/chrombpnet_nobias.h5\n",
      ")\n"
     ]
    }
   ],
   "source": [
    "# Find chrombpnet_nobias models\n",
    "chrombpnet_nobias_models = []\n",
    "for outdir in output_dirs:\n",
    "    f = glob.glob(f\"{outdir}/models/chrombpnet_nobias.h5\")[0]\n",
    "    #f = f\"{outdir}/models/chrombpnet_nobias.h5\"\n",
    "    group = outdir.split(\"/\")[-3]\n",
    "    chrombpnet_nobias_models.append(f)\n",
    "\n",
    "# Same for chrombpnet_nobias_models\n",
    "chrombpnet_nobias_models_str=\"chrombpnet_nobias_models=(\\n\"\n",
    "for model in chrombpnet_nobias_models:\n",
    "    chrombpnet_nobias_models_str += f\"\\t{model}\\n\"\n",
    "chrombpnet_nobias_models_str += \")\"\n",
    "print(chrombpnet_nobias_models_str)"
   ]
  },
  {
   "cell_type": "code",
   "execution_count": 28,
   "metadata": {},
   "outputs": [
    {
     "name": "stdout",
     "output_type": "stream",
     "text": [
      "output_dirs=(\n",
      "\t/cellar/users/aklie/data/datasets/HPAP/models/Schwann/fold_0/chrombpnet/0.3/predictions\n",
      "\t/cellar/users/aklie/data/datasets/HPAP/models/Ductal/fold_0/chrombpnet/0.3/predictions\n",
      "\t/cellar/users/aklie/data/datasets/HPAP/models/Acinar/fold_0/chrombpnet/0.3/predictions\n",
      "\t/cellar/users/aklie/data/datasets/HPAP/models/Delta/fold_0/chrombpnet/0.3/predictions\n",
      "\t/cellar/users/aklie/data/datasets/HPAP/models/Endothelial/fold_0/chrombpnet/0.3/predictions\n",
      "\t/cellar/users/aklie/data/datasets/HPAP/models/Q_Stellate/fold_0/chrombpnet/0.3/predictions\n",
      "\t/cellar/users/aklie/data/datasets/HPAP/models/A_Stellate/fold_0/chrombpnet/0.3/predictions\n",
      "\t/cellar/users/aklie/data/datasets/HPAP/models/Gamma/fold_0/chrombpnet/0.3/predictions\n",
      "\t/cellar/users/aklie/data/datasets/HPAP/models/Alpha/fold_0/chrombpnet/0.3/predictions\n",
      "\t/cellar/users/aklie/data/datasets/HPAP/models/Beta/fold_0/chrombpnet/0.3/predictions\n",
      "\t/cellar/users/aklie/data/datasets/HPAP/models/Immune/fold_0/chrombpnet/0.3/predictions\n",
      "\t/cellar/users/aklie/data/datasets/HPAP/models/MUC5B_Ductal/fold_0/chrombpnet/0.3/predictions\n",
      ")\n"
     ]
    }
   ],
   "source": [
    "# Add predictions to output_dirs\n",
    "output_dirs = [f\"{outdir}/predictions\" for outdir in output_dirs]\n",
    "\n",
    "# Same for output_dirs\n",
    "output_dirs_str=\"output_dirs=(\\n\"\n",
    "for output_dir in output_dirs:\n",
    "    output_dirs_str += f\"\\t{output_dir}\\n\"\n",
    "output_dirs_str += \")\"\n",
    "print(output_dirs_str)"
   ]
  },
  {
   "cell_type": "code",
   "execution_count": 29,
   "metadata": {},
   "outputs": [
    {
     "data": {
      "text/plain": [
       "'#! /bin/bash\\n\\n#####\\n# Script to make predictions with a chrombpnet model\\n# USAGE: sbatch \\\\\\n#--job-name=predictions \\\\\\n#--account carter-gpu \\\\\\n#--partition carter-gpu \\\\\\n#--gpus=a30:1 \\\\\\n#--output slurm_logs/%x.%A.%a.out \\\\\\n#--mem=32G \\\\\\n#-n 4 \\\\\\n#-t 02-00:00:00 \\\\\\n#--array=1-12%12 \\\\\\n#predictions.sh\\n#####\\n\\ndate\\necho -e \"Job ID: $SLURM_JOB_ID\\\\n\"\\n\\n# Set-up env\\nsource activate chrombpnet\\nexport LD_LIBRARY_PATH=$LD_LIBRARY_PATH:/cellar/users/aklie/opt/miniconda3/envs/chrombpnet/lib\\npython -c \"import tensorflow as tf; print(tf.config.list_physical_devices(\\'GPU\\'))\"\\n\\n# file lists\\n{}\\n{}\\n{}\\n{}\\n{}\\n{}\\n\\n# Grab each for this SLURM task\\ncelltype=${{celltypes[$SLURM_ARRAY_TASK_ID - 1]}}\\npeak=${{peaks[$SLURM_ARRAY_TASK_ID - 1]}}\\nbias_model=${{bias_models[$SLURM_ARRAY_TASK_ID - 1]}}\\nchrombpnet_model=${{chrombpnet_models[$SLURM_ARRAY_TASK_ID - 1]}}\\nchrombpnet_nobias_model=${{chrombpnet_nobias_models[$SLURM_ARRAY_TASK_ID - 1]}}\\noutput_dir=${{output_dirs[$SLURM_ARRAY_TASK_ID - 1]}}\\n\\n# echo the celltype and peak\\necho -e \"Celltype: $celltype\"\\necho -e \"Peakset: $peak\"\\necho -e \"Bias model: $bias_model\"\\necho -e \"Chrombpnet model: $chrombpnet_model\"\\necho -e \"Chrombpnet nobias model: $chrombpnet_nobias_model\"\\necho -e \"Output directory: $output_dir\\\\n\"\\n\\n# make the output directory\\nmkdir -p $output_dir\\n\\n# Run cmd\\ncmd=\"chrombpnet pred_bw \\\\\\n-bm $bias_model \\\\\\n-cm $chrombpnet_model \\\\\\n-cmb $chrombpnet_nobias_model \\\\\\n-g {} \\\\\\n-c {} \\\\\\n-r $peak \\\\\\n-op $output_dir/$celltype\"\\necho -e \"Running command:\\\\n$cmd\\\\n\"\\neval $cmd\\n\\n# Date\\ndate\\n'"
      ]
     },
     "execution_count": 29,
     "metadata": {},
     "output_type": "execute_result"
    }
   ],
   "source": [
    "# Read in template as a string\n",
    "template = open(path_template).read()\n",
    "template"
   ]
  },
  {
   "cell_type": "code",
   "execution_count": 30,
   "metadata": {},
   "outputs": [],
   "source": [
    "# Write the script\n",
    "with open(f\"{path_scripts}/{name}_predictions.sh\", \"w\") as f:\n",
    "    f.write(template.format(\n",
    "        celltypes_str,\n",
    "        peaks_str,\n",
    "        bias_models_str,\n",
    "        chrombpnet_models_str,\n",
    "        chrombpnet_nobias_models_str,\n",
    "        output_dirs_str,\n",
    "        path_genome_fasta,\n",
    "        path_chromsizes,\n",
    "    ))"
   ]
  },
  {
   "cell_type": "markdown",
   "metadata": {},
   "source": [
    "# Averaging predictions"
   ]
  },
  {
   "cell_type": "code",
   "execution_count": 31,
   "metadata": {},
   "outputs": [],
   "source": [
    "# Paths\n",
    "path_template = \"/cellar/users/aklie/projects/ML4GLand/chrombpnet/templates/average_predictions.txt\"\n",
    "path_scripts = \"/cellar/users/aklie/data/datasets/HPAP/bin/chrombpnet/scripts/predictions\"\n",
    "os.makedirs(path_scripts, exist_ok=True)\n",
    "name = \"HPAP\""
   ]
  },
  {
   "cell_type": "code",
   "execution_count": 32,
   "metadata": {},
   "outputs": [
    {
     "data": {
      "text/plain": [
       "{'Schwann': ['/cellar/users/aklie/data/datasets/HPAP/models/Schwann/fold_0/chrombpnet/0.3/predictions'],\n",
       " 'Ductal': ['/cellar/users/aklie/data/datasets/HPAP/models/Ductal/fold_0/chrombpnet/0.3/predictions'],\n",
       " 'Acinar': ['/cellar/users/aklie/data/datasets/HPAP/models/Acinar/fold_0/chrombpnet/0.3/predictions'],\n",
       " 'Delta': ['/cellar/users/aklie/data/datasets/HPAP/models/Delta/fold_0/chrombpnet/0.3/predictions'],\n",
       " 'Endothelial': ['/cellar/users/aklie/data/datasets/HPAP/models/Endothelial/fold_0/chrombpnet/0.3/predictions'],\n",
       " 'Q_Stellate': ['/cellar/users/aklie/data/datasets/HPAP/models/Q_Stellate/fold_0/chrombpnet/0.3/predictions'],\n",
       " 'A_Stellate': ['/cellar/users/aklie/data/datasets/HPAP/models/A_Stellate/fold_0/chrombpnet/0.3/predictions'],\n",
       " 'Gamma': ['/cellar/users/aklie/data/datasets/HPAP/models/Gamma/fold_0/chrombpnet/0.3/predictions'],\n",
       " 'Alpha': ['/cellar/users/aklie/data/datasets/HPAP/models/Alpha/fold_0/chrombpnet/0.3/predictions'],\n",
       " 'Beta': ['/cellar/users/aklie/data/datasets/HPAP/models/Beta/fold_0/chrombpnet/0.3/predictions'],\n",
       " 'Immune': ['/cellar/users/aklie/data/datasets/HPAP/models/Immune/fold_0/chrombpnet/0.3/predictions'],\n",
       " 'MUC5B_Ductal': ['/cellar/users/aklie/data/datasets/HPAP/models/MUC5B_Ductal/fold_0/chrombpnet/0.3/predictions']}"
      ]
     },
     "execution_count": 32,
     "metadata": {},
     "output_type": "execute_result"
    }
   ],
   "source": [
    "# group outdirs by celltype\n",
    "groups = {}\n",
    "for outdir in output_dirs:\n",
    "    group = outdir.split(\"/\")[-5]\n",
    "    if group not in groups:\n",
    "        groups[group] = []\n",
    "    groups[group].append(outdir)\n",
    "groups"
   ]
  },
  {
   "cell_type": "code",
   "execution_count": 33,
   "metadata": {},
   "outputs": [
    {
     "data": {
      "text/plain": [
       "'#! /bin/bash\\n\\n#####\\n# Script to make average prediction bigwigs over models\\n# USAGE: sbatch \\\\\\n#--job-name=average_predictions \\\\\\n#--partition carter-compute\\n#--output slurm_logs/%x.%A.%a.out \\\\\\n#--mem=16G \\\\\\n#-n 4 \\\\\\n#-t 02-00:00:00 \\\\\\n#average_predictions.sh\\n#####\\n\\ndate\\necho -e \"Job ID: $SLURM_JOB_ID\\\\n\"\\n\\n# Set-up env\\nsource activate eugene_tools\\nexport LD_LIBRARY_PATH=$LD_LIBRARY_PATH:/cellar/users/aklie/opt/miniconda3/envs/eugene_tools/lib\\n\\n# file lists\\ncelltype={}\\n{}\\n{}\\n{}\\noutput_dir={}\\n\\n# echo the celltype and peak\\necho -e \"Celltype: $celltype\"\\necho -e \"Bias preds: ${{bias_preds[@]}}\"\\necho -e \"Chrombpnet nobias preds: ${{chrombpnet_nobias_preds[@]}}\"\\necho -e \"Chrombpnet preds: ${{chrombpnet_preds[@]}}\"\\necho -e \"Output directory: $output_dir\\\\n\"\\n\\n# wigToBigWig\\nwigToBigWig={}\\nchromsizes={}\\n\\n# make the output directory\\nmkdir -p $output_dir\\n\\n# Run cmd for bias. If there are multiple bias predictions, take the mean. Else, just copy the file\\nif [ ${{#bias_preds[@]}} -eq 1 ]; then\\n    cmd=\"cp ${{bias_preds[0]}} $output_dir/${{celltype}}_bias.bw\"\\nelse\\n    cmd=\"wiggletools mean ${{bias_preds[@]}} > ${{celltype}}_temp_bias.wig && $wigToBigWig ${{celltype}}_temp_bias.wig $chromsizes $output_dir/${{celltype}}_bias.bw && rm -f ${{celltype}}_temp_bias.wig\"\\nfi\\necho -e \"Running command:\\\\n$cmd\\\\n\"\\neval $cmd\\n\\n# Run cmd for chrombpnet_nobias\\nif [ ${{#chrombpnet_nobias_preds[@]}} -eq 1 ]; then\\n    cmd=\"cp ${{chrombpnet_nobias_preds[0]}} $output_dir/${{celltype}}_chrombpnet_nobias.bw\"\\nelse\\n    cmd=\"wiggletools mean ${{chrombpnet_nobias_preds[@]}} > ${{celltype}}_temp_chrombpnet_nobias.wig && $wigToBigWig ${{celltype}}_temp_chrombpnet_nobias.wig $chromsizes $output_dir/${{celltype}}_chrombpnet_nobias.bw && rm -f ${{celltype}}_temp_chrombpnet_nobias.wig\"\\nfi\\necho -e \"Running command:\\\\n$cmd\\\\n\"\\neval $cmd\\n\\n# Run cmd for chrombpnet\\nif [ ${{#chrombpnet_preds[@]}} -eq 1 ]; then\\n    cmd=\"cp ${{chrombpnet_preds[0]}} $output_dir/${{celltype}}_chrombpnet.bw\"\\nelse\\n    cmd=\"wiggletools mean ${{chrombpnet_preds[@]}} > ${{celltype}}_temp_chrombpnet.wig && $wigToBigWig ${{celltype}}_temp_chrombpnet.wig $chromsizes $output_dir/${{celltype}}_chrombpnet.bw && rm -f ${{celltype}}_temp_chrombpnet.wig\"\\nfi\\necho -e \"Running command:\\\\n$cmd\\\\n\"\\neval $cmd\\n\\n# Date\\ndate\\n'"
      ]
     },
     "execution_count": 33,
     "metadata": {},
     "output_type": "execute_result"
    }
   ],
   "source": [
    "# Read in template as a string\n",
    "template = open(path_template).read()\n",
    "template"
   ]
  },
  {
   "cell_type": "code",
   "execution_count": 34,
   "metadata": {},
   "outputs": [
    {
     "name": "stdout",
     "output_type": "stream",
     "text": [
      "Schwann\n",
      "/cellar/users/aklie/data/datasets/HPAP/models/Schwann/average/predictions\n",
      "bias_preds=(\n",
      "\t/cellar/users/aklie/data/datasets/HPAP/models/Schwann/fold_0/chrombpnet/0.3/predictions/Schwann_bias.bw\n",
      ")\n",
      "chrombpnet_nobias_preds=(\n",
      "\t/cellar/users/aklie/data/datasets/HPAP/models/Schwann/fold_0/chrombpnet/0.3/predictions/Schwann_chrombpnet_nobias.bw\n",
      ")\n",
      "chrombpnet_preds=(\n",
      "\t/cellar/users/aklie/data/datasets/HPAP/models/Schwann/fold_0/chrombpnet/0.3/predictions/Schwann_chrombpnet.bw\n",
      ")\n",
      "Ductal\n",
      "/cellar/users/aklie/data/datasets/HPAP/models/Ductal/average/predictions\n",
      "bias_preds=(\n",
      "\t/cellar/users/aklie/data/datasets/HPAP/models/Ductal/fold_0/chrombpnet/0.3/predictions/Ductal_bias.bw\n",
      ")\n",
      "chrombpnet_nobias_preds=(\n",
      "\t/cellar/users/aklie/data/datasets/HPAP/models/Ductal/fold_0/chrombpnet/0.3/predictions/Ductal_chrombpnet_nobias.bw\n",
      ")\n",
      "chrombpnet_preds=(\n",
      "\t/cellar/users/aklie/data/datasets/HPAP/models/Ductal/fold_0/chrombpnet/0.3/predictions/Ductal_chrombpnet.bw\n",
      ")\n",
      "Acinar\n",
      "/cellar/users/aklie/data/datasets/HPAP/models/Acinar/average/predictions\n",
      "bias_preds=(\n",
      "\t/cellar/users/aklie/data/datasets/HPAP/models/Acinar/fold_0/chrombpnet/0.3/predictions/Acinar_bias.bw\n",
      ")\n",
      "chrombpnet_nobias_preds=(\n",
      "\t/cellar/users/aklie/data/datasets/HPAP/models/Acinar/fold_0/chrombpnet/0.3/predictions/Acinar_chrombpnet_nobias.bw\n",
      ")\n",
      "chrombpnet_preds=(\n",
      "\t/cellar/users/aklie/data/datasets/HPAP/models/Acinar/fold_0/chrombpnet/0.3/predictions/Acinar_chrombpnet.bw\n",
      ")\n",
      "Delta\n",
      "/cellar/users/aklie/data/datasets/HPAP/models/Delta/average/predictions\n",
      "bias_preds=(\n",
      "\t/cellar/users/aklie/data/datasets/HPAP/models/Delta/fold_0/chrombpnet/0.3/predictions/Delta_bias.bw\n",
      ")\n",
      "chrombpnet_nobias_preds=(\n",
      "\t/cellar/users/aklie/data/datasets/HPAP/models/Delta/fold_0/chrombpnet/0.3/predictions/Delta_chrombpnet_nobias.bw\n",
      ")\n",
      "chrombpnet_preds=(\n",
      "\t/cellar/users/aklie/data/datasets/HPAP/models/Delta/fold_0/chrombpnet/0.3/predictions/Delta_chrombpnet.bw\n",
      ")\n",
      "Endothelial\n",
      "/cellar/users/aklie/data/datasets/HPAP/models/Endothelial/average/predictions\n",
      "bias_preds=(\n",
      "\t/cellar/users/aklie/data/datasets/HPAP/models/Endothelial/fold_0/chrombpnet/0.3/predictions/Endothelial_bias.bw\n",
      ")\n",
      "chrombpnet_nobias_preds=(\n",
      "\t/cellar/users/aklie/data/datasets/HPAP/models/Endothelial/fold_0/chrombpnet/0.3/predictions/Endothelial_chrombpnet_nobias.bw\n",
      ")\n",
      "chrombpnet_preds=(\n",
      "\t/cellar/users/aklie/data/datasets/HPAP/models/Endothelial/fold_0/chrombpnet/0.3/predictions/Endothelial_chrombpnet.bw\n",
      ")\n",
      "Q_Stellate\n",
      "/cellar/users/aklie/data/datasets/HPAP/models/Q_Stellate/average/predictions\n",
      "bias_preds=(\n",
      "\t/cellar/users/aklie/data/datasets/HPAP/models/Q_Stellate/fold_0/chrombpnet/0.3/predictions/Q_Stellate_bias.bw\n",
      ")\n",
      "chrombpnet_nobias_preds=(\n",
      "\t/cellar/users/aklie/data/datasets/HPAP/models/Q_Stellate/fold_0/chrombpnet/0.3/predictions/Q_Stellate_chrombpnet_nobias.bw\n",
      ")\n",
      "chrombpnet_preds=(\n",
      "\t/cellar/users/aklie/data/datasets/HPAP/models/Q_Stellate/fold_0/chrombpnet/0.3/predictions/Q_Stellate_chrombpnet.bw\n",
      ")\n",
      "A_Stellate\n",
      "/cellar/users/aklie/data/datasets/HPAP/models/A_Stellate/average/predictions\n",
      "bias_preds=(\n",
      "\t/cellar/users/aklie/data/datasets/HPAP/models/A_Stellate/fold_0/chrombpnet/0.3/predictions/A_Stellate_bias.bw\n",
      ")\n",
      "chrombpnet_nobias_preds=(\n",
      "\t/cellar/users/aklie/data/datasets/HPAP/models/A_Stellate/fold_0/chrombpnet/0.3/predictions/A_Stellate_chrombpnet_nobias.bw\n",
      ")\n",
      "chrombpnet_preds=(\n",
      "\t/cellar/users/aklie/data/datasets/HPAP/models/A_Stellate/fold_0/chrombpnet/0.3/predictions/A_Stellate_chrombpnet.bw\n",
      ")\n",
      "Gamma\n",
      "/cellar/users/aklie/data/datasets/HPAP/models/Gamma/average/predictions\n",
      "bias_preds=(\n",
      "\t/cellar/users/aklie/data/datasets/HPAP/models/Gamma/fold_0/chrombpnet/0.3/predictions/Gamma_bias.bw\n",
      ")\n",
      "chrombpnet_nobias_preds=(\n",
      "\t/cellar/users/aklie/data/datasets/HPAP/models/Gamma/fold_0/chrombpnet/0.3/predictions/Gamma_chrombpnet_nobias.bw\n",
      ")\n",
      "chrombpnet_preds=(\n",
      "\t/cellar/users/aklie/data/datasets/HPAP/models/Gamma/fold_0/chrombpnet/0.3/predictions/Gamma_chrombpnet.bw\n",
      ")\n",
      "Alpha\n",
      "/cellar/users/aklie/data/datasets/HPAP/models/Alpha/average/predictions\n",
      "bias_preds=(\n",
      "\t/cellar/users/aklie/data/datasets/HPAP/models/Alpha/fold_0/chrombpnet/0.3/predictions/Alpha_bias.bw\n",
      ")\n",
      "chrombpnet_nobias_preds=(\n",
      "\t/cellar/users/aklie/data/datasets/HPAP/models/Alpha/fold_0/chrombpnet/0.3/predictions/Alpha_chrombpnet_nobias.bw\n",
      ")\n",
      "chrombpnet_preds=(\n",
      "\t/cellar/users/aklie/data/datasets/HPAP/models/Alpha/fold_0/chrombpnet/0.3/predictions/Alpha_chrombpnet.bw\n",
      ")\n",
      "Beta\n",
      "/cellar/users/aklie/data/datasets/HPAP/models/Beta/average/predictions\n",
      "bias_preds=(\n",
      "\t/cellar/users/aklie/data/datasets/HPAP/models/Beta/fold_0/chrombpnet/0.3/predictions/Beta_bias.bw\n",
      ")\n",
      "chrombpnet_nobias_preds=(\n",
      "\t/cellar/users/aklie/data/datasets/HPAP/models/Beta/fold_0/chrombpnet/0.3/predictions/Beta_chrombpnet_nobias.bw\n",
      ")\n",
      "chrombpnet_preds=(\n",
      "\t/cellar/users/aklie/data/datasets/HPAP/models/Beta/fold_0/chrombpnet/0.3/predictions/Beta_chrombpnet.bw\n",
      ")\n",
      "Immune\n",
      "/cellar/users/aklie/data/datasets/HPAP/models/Immune/average/predictions\n",
      "bias_preds=(\n",
      "\t/cellar/users/aklie/data/datasets/HPAP/models/Immune/fold_0/chrombpnet/0.3/predictions/Immune_bias.bw\n",
      ")\n",
      "chrombpnet_nobias_preds=(\n",
      "\t/cellar/users/aklie/data/datasets/HPAP/models/Immune/fold_0/chrombpnet/0.3/predictions/Immune_chrombpnet_nobias.bw\n",
      ")\n",
      "chrombpnet_preds=(\n",
      "\t/cellar/users/aklie/data/datasets/HPAP/models/Immune/fold_0/chrombpnet/0.3/predictions/Immune_chrombpnet.bw\n",
      ")\n",
      "MUC5B_Ductal\n",
      "/cellar/users/aklie/data/datasets/HPAP/models/MUC5B_Ductal/average/predictions\n",
      "bias_preds=(\n",
      "\t/cellar/users/aklie/data/datasets/HPAP/models/MUC5B_Ductal/fold_0/chrombpnet/0.3/predictions/MUC5B_Ductal_bias.bw\n",
      ")\n",
      "chrombpnet_nobias_preds=(\n",
      "\t/cellar/users/aklie/data/datasets/HPAP/models/MUC5B_Ductal/fold_0/chrombpnet/0.3/predictions/MUC5B_Ductal_chrombpnet_nobias.bw\n",
      ")\n",
      "chrombpnet_preds=(\n",
      "\t/cellar/users/aklie/data/datasets/HPAP/models/MUC5B_Ductal/fold_0/chrombpnet/0.3/predictions/MUC5B_Ductal_chrombpnet.bw\n",
      ")\n"
     ]
    }
   ],
   "source": [
    "# Write the script for each celltype\n",
    "for celltype, output_dirs_celltype in groups.items():\n",
    "    bias_preds = [f\"{outdir}/{celltype}_bias.bw\" for outdir in output_dirs_celltype]\n",
    "    chrombpnet_nobias_preds = [f\"{outdir}/{celltype}_chrombpnet_nobias.bw\" for outdir in output_dirs_celltype]\n",
    "    chrombpnet_preds = [f\"{outdir}/{celltype}_chrombpnet.bw\" for outdir in output_dirs_celltype]\n",
    "    output_dir = f\"{path_out}/{celltype}/average/predictions\"\n",
    "    os.makedirs(output_dir, exist_ok=True)\n",
    "    print(celltype)\n",
    "    print(output_dir)\n",
    "    bias_preds_str=\"bias_preds=(\\n\"\n",
    "    for model in bias_preds:\n",
    "        bias_preds_str += f\"\\t{model}\\n\"\n",
    "    bias_preds_str += \")\"\n",
    "    print(bias_preds_str)\n",
    "    chrombpnet_nobias_preds_str=\"chrombpnet_nobias_preds=(\\n\"\n",
    "    for model in chrombpnet_nobias_preds:\n",
    "        chrombpnet_nobias_preds_str += f\"\\t{model}\\n\"\n",
    "    chrombpnet_nobias_preds_str += \")\"\n",
    "    print(chrombpnet_nobias_preds_str)\n",
    "    chrombpnet_preds_str=\"chrombpnet_preds=(\\n\"\n",
    "    for model in chrombpnet_preds:\n",
    "        chrombpnet_preds_str += f\"\\t{model}\\n\"\n",
    "    chrombpnet_preds_str += \")\"\n",
    "    print(chrombpnet_preds_str)\n",
    "    with open(f\"{path_scripts}/{name}_{celltype}_average_predictions.sh\", \"w\") as f:\n",
    "        f.write(template.format(\n",
    "            celltype,\n",
    "            bias_preds_str,\n",
    "            chrombpnet_nobias_preds_str,\n",
    "            chrombpnet_preds_str,\n",
    "            output_dir,\n",
    "            path_wigToBigWig,\n",
    "            path_chromsizes\n",
    "        ))"
   ]
  },
  {
   "cell_type": "markdown",
   "metadata": {},
   "source": [
    "# Contributions"
   ]
  },
  {
   "cell_type": "code",
   "execution_count": 35,
   "metadata": {},
   "outputs": [],
   "source": [
    "path_template = \"/cellar/users/aklie/projects/ML4GLand/chrombpnet/templates/contributions.txt\"\n",
    "path_scripts = \"/cellar/users/aklie/data/datasets/HPAP/bin/chrombpnet/scripts/contributions\"\n",
    "os.makedirs(path_scripts, exist_ok=True)\n",
    "name = \"HPAP\""
   ]
  },
  {
   "cell_type": "code",
   "execution_count": 36,
   "metadata": {},
   "outputs": [
    {
     "name": "stdout",
     "output_type": "stream",
     "text": [
      "output_dirs=(\n",
      "\t/cellar/users/aklie/data/datasets/HPAP/models/Schwann/fold_0/chrombpnet/0.3/contributions\n",
      "\t/cellar/users/aklie/data/datasets/HPAP/models/Ductal/fold_0/chrombpnet/0.3/contributions\n",
      "\t/cellar/users/aklie/data/datasets/HPAP/models/Acinar/fold_0/chrombpnet/0.3/contributions\n",
      "\t/cellar/users/aklie/data/datasets/HPAP/models/Delta/fold_0/chrombpnet/0.3/contributions\n",
      "\t/cellar/users/aklie/data/datasets/HPAP/models/Endothelial/fold_0/chrombpnet/0.3/contributions\n",
      "\t/cellar/users/aklie/data/datasets/HPAP/models/Q_Stellate/fold_0/chrombpnet/0.3/contributions\n",
      "\t/cellar/users/aklie/data/datasets/HPAP/models/A_Stellate/fold_0/chrombpnet/0.3/contributions\n",
      "\t/cellar/users/aklie/data/datasets/HPAP/models/Gamma/fold_0/chrombpnet/0.3/contributions\n",
      "\t/cellar/users/aklie/data/datasets/HPAP/models/Alpha/fold_0/chrombpnet/0.3/contributions\n",
      "\t/cellar/users/aklie/data/datasets/HPAP/models/Beta/fold_0/chrombpnet/0.3/contributions\n",
      "\t/cellar/users/aklie/data/datasets/HPAP/models/Immune/fold_0/chrombpnet/0.3/contributions\n",
      "\t/cellar/users/aklie/data/datasets/HPAP/models/MUC5B_Ductal/fold_0/chrombpnet/0.3/contributions\n",
      ")\n"
     ]
    }
   ],
   "source": [
    "# Replace predictions with contributions\n",
    "output_dirs = [f\"{outdir.replace('predictions', 'contributions')}\" for outdir in output_dirs]\n",
    "\n",
    "# Same for output_dirs\n",
    "output_dirs_str=\"output_dirs=(\\n\"\n",
    "for output_dir in output_dirs:\n",
    "    output_dirs_str += f\"\\t{output_dir}\\n\"\n",
    "output_dirs_str += \")\"\n",
    "print(output_dirs_str)"
   ]
  },
  {
   "cell_type": "code",
   "execution_count": 37,
   "metadata": {},
   "outputs": [
    {
     "data": {
      "text/plain": [
       "'#! /bin/bash\\n\\n#####\\n# Script to make contributions bigwigs with one or more chrombpnet models\\n# USAGE: sbatch \\\\\\n#--job-name=contributions \\\\\\n#--account carter-gpu \\\\\\n#--partition carter-gpu \\\\\\n#--gpus=a30:1 \\\\\\n#--output slurm_logs/%x.%A.%a.out \\\\\\n#--mem=32G \\\\\\n#-n 4 \\\\\\n#-t 02-00:00:00 \\\\\\n#--array=1-12%12 \\\\\\n#contributions.sh\\n#####\\n\\ndate\\necho -e \"Job ID: $SLURM_JOB_ID\\\\n\"\\n\\n# Set-up env\\nsource activate chrombpnet\\nexport LD_LIBRARY_PATH=$LD_LIBRARY_PATH:/cellar/users/aklie/opt/miniconda3/envs/chrombpnet/lib\\npython -c \"import tensorflow as tf; print(tf.config.list_physical_devices(\\'GPU\\'))\"\\n\\n# file lists\\n{}\\n{}\\n{}\\n{}\\n\\n\\n# Grab each for this SLURM task\\ncelltype=${{celltypes[$SLURM_ARRAY_TASK_ID - 1]}}\\npeak=${{peaks[$SLURM_ARRAY_TASK_ID - 1]}}\\nchrombpnet_nobias_model=${{chrombpnet_nobias_models[$SLURM_ARRAY_TASK_ID - 1]}}\\noutput_dir=${{output_dirs[$SLURM_ARRAY_TASK_ID - 1]}}\\n\\n# echo the celltype and peak\\necho -e \"Celltype: $celltype\"\\necho -e \"Peakset: $peak\"\\necho -e \"Chrombpnet nobias model: $chrombpnet_nobias_model\"\\necho -e \"Output directory: $output_dir\\\\n\"\\n\\n# make the output directory\\nmkdir -p $output_dir\\n\\n# Run cmd\\ncmd=\"chrombpnet contribs_bw \\\\\\n-m $chrombpnet_nobias_model \\\\\\n-g {} \\\\\\n-c {} \\\\\\n-r $peak \\\\\\n-op $output_dir/$celltype\"\\necho -e \"Running command:\\\\n$cmd\\\\n\"\\neval $cmd\\n\\n# Date\\ndate\\n'"
      ]
     },
     "execution_count": 37,
     "metadata": {},
     "output_type": "execute_result"
    }
   ],
   "source": [
    "# read in template as a string\n",
    "template = open(path_template).read()\n",
    "template"
   ]
  },
  {
   "cell_type": "code",
   "execution_count": 38,
   "metadata": {},
   "outputs": [],
   "source": [
    "# Write the script\n",
    "with open(f\"{path_scripts}/{name}_contributions.sh\", \"w\") as f:\n",
    "    f.write(template.format(\n",
    "        celltypes_str,\n",
    "        peaks_str,\n",
    "        chrombpnet_nobias_models_str,\n",
    "        output_dirs_str,\n",
    "        path_genome_fasta,\n",
    "        path_chromsizes,\n",
    "    ))"
   ]
  },
  {
   "cell_type": "markdown",
   "metadata": {},
   "source": [
    "# Averaging contributions"
   ]
  },
  {
   "cell_type": "code",
   "execution_count": 39,
   "metadata": {},
   "outputs": [],
   "source": [
    "path_template = \"/cellar/users/aklie/projects/ML4GLand/chrombpnet/templates/average_contributions.txt\"\n",
    "path_scripts = \"/cellar/users/aklie/data/datasets/HPAP/bin/chrombpnet/scripts/contributions\"\n",
    "os.makedirs(path_scripts, exist_ok=True)\n",
    "name = \"HPAP\"\n",
    "window=400"
   ]
  },
  {
   "cell_type": "code",
   "execution_count": 40,
   "metadata": {},
   "outputs": [
    {
     "data": {
      "text/plain": [
       "{'Schwann': ['/cellar/users/aklie/data/datasets/HPAP/models/Schwann/fold_0/chrombpnet/0.3/contributions'],\n",
       " 'Ductal': ['/cellar/users/aklie/data/datasets/HPAP/models/Ductal/fold_0/chrombpnet/0.3/contributions'],\n",
       " 'Acinar': ['/cellar/users/aklie/data/datasets/HPAP/models/Acinar/fold_0/chrombpnet/0.3/contributions'],\n",
       " 'Delta': ['/cellar/users/aklie/data/datasets/HPAP/models/Delta/fold_0/chrombpnet/0.3/contributions'],\n",
       " 'Endothelial': ['/cellar/users/aklie/data/datasets/HPAP/models/Endothelial/fold_0/chrombpnet/0.3/contributions'],\n",
       " 'Q_Stellate': ['/cellar/users/aklie/data/datasets/HPAP/models/Q_Stellate/fold_0/chrombpnet/0.3/contributions'],\n",
       " 'A_Stellate': ['/cellar/users/aklie/data/datasets/HPAP/models/A_Stellate/fold_0/chrombpnet/0.3/contributions'],\n",
       " 'Gamma': ['/cellar/users/aklie/data/datasets/HPAP/models/Gamma/fold_0/chrombpnet/0.3/contributions'],\n",
       " 'Alpha': ['/cellar/users/aklie/data/datasets/HPAP/models/Alpha/fold_0/chrombpnet/0.3/contributions'],\n",
       " 'Beta': ['/cellar/users/aklie/data/datasets/HPAP/models/Beta/fold_0/chrombpnet/0.3/contributions'],\n",
       " 'Immune': ['/cellar/users/aklie/data/datasets/HPAP/models/Immune/fold_0/chrombpnet/0.3/contributions'],\n",
       " 'MUC5B_Ductal': ['/cellar/users/aklie/data/datasets/HPAP/models/MUC5B_Ductal/fold_0/chrombpnet/0.3/contributions']}"
      ]
     },
     "execution_count": 40,
     "metadata": {},
     "output_type": "execute_result"
    }
   ],
   "source": [
    "# group outdirs by celltype\n",
    "groups = {}\n",
    "for outdir in output_dirs:\n",
    "    group = outdir.split(\"/\")[-5]\n",
    "    if group not in groups:\n",
    "        groups[group] = []\n",
    "    groups[group].append(outdir)\n",
    "groups"
   ]
  },
  {
   "cell_type": "code",
   "execution_count": 41,
   "metadata": {},
   "outputs": [
    {
     "data": {
      "text/plain": [
       "'#! /bin/bash\\n\\n#####\\n# Script to compute averaged contributions and profiles across folds\\n# USAGE: sbatch \\\\\\n#--job-name=avg_contributions \\\\\\n#--account=carter-compute \\\\\\n#--output=slurm_logs/%x.%A.out \\\\\\n#--mem=128G \\\\\\n#-n 4 \\\\\\n#-t 02-00:00:00 \\\\\\n#average_contributions.sh\\n#####\\n\\ndate\\necho -e \"Job ID: $SLURM_JOB_ID\\\\\\\\n\"\\n\\n# Set up environment\\nsource activate eugene_tools\\nexport LD_LIBRARY_PATH=$LD_LIBRARY_PATH:/cellar/users/aklie/opt/miniconda3/envs/eugene_tools/lib\\n\\n# Define input files\\ncelltype={}\\n{}\\n{}\\n{}\\n{}\\noutput_dir={}\\nwindow={}\\n\\n# Create output directory\\nmkdir -p $output_dir\\n\\n# Define paths\\nwigToBigWig={}\\nchromsizes={}\\npath_script={}\\n\\n# Compute mean bigwig for counts. If there are multiple bias predictions, take the mean. Else, just copy the file\\nif [ ${{#counts[@]}} -eq 1 ]; then\\n    cmd=\"cp ${{counts[0]}} $output_dir/${{celltype}}_counts.bw\"\\nelse\\n    cmd=\"wiggletools mean ${{counts[@]}} > ${{celltype}}_temp_counts.wig && $wigToBigWig ${{celltype}}_temp_counts.wig $chromsizes $output_dir/${{celltype}}_counts.bw && rm -f ${{celltype}}_temp_counts.wig\"\\nfi\\necho -e \"Running command:\\\\\\\\n$cmd\\\\\\\\n\"\\neval $cmd\\n\\n# Compute mean bigwig for profile\\nif [ ${{#profile[@]}} -eq 1 ]; then\\n    cmd=\"cp ${{profile[0]}} $output_dir/${{celltype}}_profile.bw\"\\nelse\\n    cmd=\"wiggletools mean ${{profile[@]}} > ${{celltype}}_temp_profile.wig && $wigToBigWig ${{celltype}}_temp_profile.wig $chromsizes $output_dir/${{celltype}}_profile.bw && rm -f ${{celltype}}_temp_profile.wig\"\\nfi\\necho -e \"Running command:\\\\\\\\n$cmd\\\\\\\\n\"\\neval $cmd\\n\\n# Compute mean contributions in HDF5 format, if there are multiple files, run the script, else just copy the file\\nif [ ${{#counts_h5[@]}} -eq 1 ]; then\\n    cmd=\"cp ${{counts_h5[0]}} $output_dir/${{celltype}}_counts.h5\"\\nelse\\n    cmd=\"python $path_script --files ${{counts_h5[@]}} --output_file $output_dir/${{celltype}}_counts.h5 --window $window\"\\nfi\\necho -e \"Running command:\\\\\\\\n$cmd\\\\\\\\n\"\\neval $cmd\\n\\n# Compute mean profile in HDF5 format\\nif [ ${{#profile_h5[@]}} -eq 1 ]; then\\n    cmd=\"cp ${{profile_h5[0]}} $output_dir/${{celltype}}_profile.h5\"\\nelse\\n    cmd=\"python $path_script --files ${{profile_h5[@]}} --output_file $output_dir/${{celltype}}_profile.h5 --window $window\"\\nfi\\necho -e \"Running command:\\\\\\\\n$cmd\\\\\\\\n\"\\neval $cmd\\n\\n# Completion message\\ndate\\n'"
      ]
     },
     "execution_count": 41,
     "metadata": {},
     "output_type": "execute_result"
    }
   ],
   "source": [
    "# read in template as a string\n",
    "template = open(path_template).read()\n",
    "template"
   ]
  },
  {
   "cell_type": "code",
   "execution_count": 42,
   "metadata": {},
   "outputs": [
    {
     "name": "stdout",
     "output_type": "stream",
     "text": [
      "counts=(\n",
      "\t/cellar/users/aklie/data/datasets/HPAP/models/Schwann/fold_0/chrombpnet/0.3/contributions/Schwann.counts_scores.bw\n",
      ")\n",
      "profile=(\n",
      "\t/cellar/users/aklie/data/datasets/HPAP/models/Schwann/fold_0/chrombpnet/0.3/contributions/Schwann.profile_scores.bw\n",
      ")\n",
      "counts_h5=(\n",
      "\t/cellar/users/aklie/data/datasets/HPAP/models/Schwann/fold_0/chrombpnet/0.3/contributions/Schwann.counts_scores.h5\n",
      ")\n",
      "profile_h5=(\n",
      "\t/cellar/users/aklie/data/datasets/HPAP/models/Schwann/fold_0/chrombpnet/0.3/contributions/Schwann.profile_scores.h5\n",
      ")\n",
      "counts=(\n",
      "\t/cellar/users/aklie/data/datasets/HPAP/models/Ductal/fold_0/chrombpnet/0.3/contributions/Ductal.counts_scores.bw\n",
      ")\n",
      "profile=(\n",
      "\t/cellar/users/aklie/data/datasets/HPAP/models/Ductal/fold_0/chrombpnet/0.3/contributions/Ductal.profile_scores.bw\n",
      ")\n",
      "counts_h5=(\n",
      "\t/cellar/users/aklie/data/datasets/HPAP/models/Ductal/fold_0/chrombpnet/0.3/contributions/Ductal.counts_scores.h5\n",
      ")\n",
      "profile_h5=(\n",
      "\t/cellar/users/aklie/data/datasets/HPAP/models/Ductal/fold_0/chrombpnet/0.3/contributions/Ductal.profile_scores.h5\n",
      ")\n",
      "counts=(\n",
      "\t/cellar/users/aklie/data/datasets/HPAP/models/Acinar/fold_0/chrombpnet/0.3/contributions/Acinar.counts_scores.bw\n",
      ")\n",
      "profile=(\n",
      "\t/cellar/users/aklie/data/datasets/HPAP/models/Acinar/fold_0/chrombpnet/0.3/contributions/Acinar.profile_scores.bw\n",
      ")\n",
      "counts_h5=(\n",
      "\t/cellar/users/aklie/data/datasets/HPAP/models/Acinar/fold_0/chrombpnet/0.3/contributions/Acinar.counts_scores.h5\n",
      ")\n",
      "profile_h5=(\n",
      "\t/cellar/users/aklie/data/datasets/HPAP/models/Acinar/fold_0/chrombpnet/0.3/contributions/Acinar.profile_scores.h5\n",
      ")\n",
      "counts=(\n",
      "\t/cellar/users/aklie/data/datasets/HPAP/models/Delta/fold_0/chrombpnet/0.3/contributions/Delta.counts_scores.bw\n",
      ")\n",
      "profile=(\n",
      "\t/cellar/users/aklie/data/datasets/HPAP/models/Delta/fold_0/chrombpnet/0.3/contributions/Delta.profile_scores.bw\n",
      ")\n",
      "counts_h5=(\n",
      "\t/cellar/users/aklie/data/datasets/HPAP/models/Delta/fold_0/chrombpnet/0.3/contributions/Delta.counts_scores.h5\n",
      ")\n",
      "profile_h5=(\n",
      "\t/cellar/users/aklie/data/datasets/HPAP/models/Delta/fold_0/chrombpnet/0.3/contributions/Delta.profile_scores.h5\n",
      ")\n",
      "counts=(\n",
      "\t/cellar/users/aklie/data/datasets/HPAP/models/Endothelial/fold_0/chrombpnet/0.3/contributions/Endothelial.counts_scores.bw\n",
      ")\n",
      "profile=(\n",
      "\t/cellar/users/aklie/data/datasets/HPAP/models/Endothelial/fold_0/chrombpnet/0.3/contributions/Endothelial.profile_scores.bw\n",
      ")\n",
      "counts_h5=(\n",
      "\t/cellar/users/aklie/data/datasets/HPAP/models/Endothelial/fold_0/chrombpnet/0.3/contributions/Endothelial.counts_scores.h5\n",
      ")\n",
      "profile_h5=(\n",
      "\t/cellar/users/aklie/data/datasets/HPAP/models/Endothelial/fold_0/chrombpnet/0.3/contributions/Endothelial.profile_scores.h5\n",
      ")\n",
      "counts=(\n",
      "\t/cellar/users/aklie/data/datasets/HPAP/models/Q_Stellate/fold_0/chrombpnet/0.3/contributions/Q_Stellate.counts_scores.bw\n",
      ")\n",
      "profile=(\n",
      "\t/cellar/users/aklie/data/datasets/HPAP/models/Q_Stellate/fold_0/chrombpnet/0.3/contributions/Q_Stellate.profile_scores.bw\n",
      ")\n",
      "counts_h5=(\n",
      "\t/cellar/users/aklie/data/datasets/HPAP/models/Q_Stellate/fold_0/chrombpnet/0.3/contributions/Q_Stellate.counts_scores.h5\n",
      ")\n",
      "profile_h5=(\n",
      "\t/cellar/users/aklie/data/datasets/HPAP/models/Q_Stellate/fold_0/chrombpnet/0.3/contributions/Q_Stellate.profile_scores.h5\n",
      ")\n",
      "counts=(\n",
      "\t/cellar/users/aklie/data/datasets/HPAP/models/A_Stellate/fold_0/chrombpnet/0.3/contributions/A_Stellate.counts_scores.bw\n",
      ")\n",
      "profile=(\n",
      "\t/cellar/users/aklie/data/datasets/HPAP/models/A_Stellate/fold_0/chrombpnet/0.3/contributions/A_Stellate.profile_scores.bw\n",
      ")\n",
      "counts_h5=(\n",
      "\t/cellar/users/aklie/data/datasets/HPAP/models/A_Stellate/fold_0/chrombpnet/0.3/contributions/A_Stellate.counts_scores.h5\n",
      ")\n",
      "profile_h5=(\n",
      "\t/cellar/users/aklie/data/datasets/HPAP/models/A_Stellate/fold_0/chrombpnet/0.3/contributions/A_Stellate.profile_scores.h5\n",
      ")\n",
      "counts=(\n",
      "\t/cellar/users/aklie/data/datasets/HPAP/models/Gamma/fold_0/chrombpnet/0.3/contributions/Gamma.counts_scores.bw\n",
      ")\n",
      "profile=(\n",
      "\t/cellar/users/aklie/data/datasets/HPAP/models/Gamma/fold_0/chrombpnet/0.3/contributions/Gamma.profile_scores.bw\n",
      ")\n",
      "counts_h5=(\n",
      "\t/cellar/users/aklie/data/datasets/HPAP/models/Gamma/fold_0/chrombpnet/0.3/contributions/Gamma.counts_scores.h5\n",
      ")\n",
      "profile_h5=(\n",
      "\t/cellar/users/aklie/data/datasets/HPAP/models/Gamma/fold_0/chrombpnet/0.3/contributions/Gamma.profile_scores.h5\n",
      ")\n",
      "counts=(\n",
      "\t/cellar/users/aklie/data/datasets/HPAP/models/Alpha/fold_0/chrombpnet/0.3/contributions/Alpha.counts_scores.bw\n",
      ")\n",
      "profile=(\n",
      "\t/cellar/users/aklie/data/datasets/HPAP/models/Alpha/fold_0/chrombpnet/0.3/contributions/Alpha.profile_scores.bw\n",
      ")\n",
      "counts_h5=(\n",
      "\t/cellar/users/aklie/data/datasets/HPAP/models/Alpha/fold_0/chrombpnet/0.3/contributions/Alpha.counts_scores.h5\n",
      ")\n",
      "profile_h5=(\n",
      "\t/cellar/users/aklie/data/datasets/HPAP/models/Alpha/fold_0/chrombpnet/0.3/contributions/Alpha.profile_scores.h5\n",
      ")\n",
      "counts=(\n",
      "\t/cellar/users/aklie/data/datasets/HPAP/models/Beta/fold_0/chrombpnet/0.3/contributions/Beta.counts_scores.bw\n",
      ")\n",
      "profile=(\n",
      "\t/cellar/users/aklie/data/datasets/HPAP/models/Beta/fold_0/chrombpnet/0.3/contributions/Beta.profile_scores.bw\n",
      ")\n",
      "counts_h5=(\n",
      "\t/cellar/users/aklie/data/datasets/HPAP/models/Beta/fold_0/chrombpnet/0.3/contributions/Beta.counts_scores.h5\n",
      ")\n",
      "profile_h5=(\n",
      "\t/cellar/users/aklie/data/datasets/HPAP/models/Beta/fold_0/chrombpnet/0.3/contributions/Beta.profile_scores.h5\n",
      ")\n",
      "counts=(\n",
      "\t/cellar/users/aklie/data/datasets/HPAP/models/Immune/fold_0/chrombpnet/0.3/contributions/Immune.counts_scores.bw\n",
      ")\n",
      "profile=(\n",
      "\t/cellar/users/aklie/data/datasets/HPAP/models/Immune/fold_0/chrombpnet/0.3/contributions/Immune.profile_scores.bw\n",
      ")\n",
      "counts_h5=(\n",
      "\t/cellar/users/aklie/data/datasets/HPAP/models/Immune/fold_0/chrombpnet/0.3/contributions/Immune.counts_scores.h5\n",
      ")\n",
      "profile_h5=(\n",
      "\t/cellar/users/aklie/data/datasets/HPAP/models/Immune/fold_0/chrombpnet/0.3/contributions/Immune.profile_scores.h5\n",
      ")\n",
      "counts=(\n",
      "\t/cellar/users/aklie/data/datasets/HPAP/models/MUC5B_Ductal/fold_0/chrombpnet/0.3/contributions/MUC5B_Ductal.counts_scores.bw\n",
      ")\n",
      "profile=(\n",
      "\t/cellar/users/aklie/data/datasets/HPAP/models/MUC5B_Ductal/fold_0/chrombpnet/0.3/contributions/MUC5B_Ductal.profile_scores.bw\n",
      ")\n",
      "counts_h5=(\n",
      "\t/cellar/users/aklie/data/datasets/HPAP/models/MUC5B_Ductal/fold_0/chrombpnet/0.3/contributions/MUC5B_Ductal.counts_scores.h5\n",
      ")\n",
      "profile_h5=(\n",
      "\t/cellar/users/aklie/data/datasets/HPAP/models/MUC5B_Ductal/fold_0/chrombpnet/0.3/contributions/MUC5B_Ductal.profile_scores.h5\n",
      ")\n"
     ]
    }
   ],
   "source": [
    "# Write the script for each celltype\n",
    "for celltype, output_dirs_celltype in groups.items():\n",
    "    counts = [f\"{outdir}/{celltype}.counts_scores.bw\" for outdir in output_dirs_celltype]\n",
    "    profile = [f\"{outdir}/{celltype}.profile_scores.bw\" for outdir in output_dirs_celltype]\n",
    "    counts_h5 = [f\"{outdir}/{celltype}.counts_scores.h5\" for outdir in output_dirs_celltype]\n",
    "    profile_h5 = [f\"{outdir}/{celltype}.profile_scores.h5\" for outdir in output_dirs_celltype]\n",
    "    output_dir = f\"{path_out}/{celltype}/average/contributions\"\n",
    "    os.makedirs(output_dir, exist_ok=True)\n",
    "\n",
    "    counts_str=\"counts=(\\n\"\n",
    "    for model in counts:\n",
    "        counts_str += f\"\\t{model}\\n\"\n",
    "    counts_str += \")\"\n",
    "    print(counts_str)\n",
    "\n",
    "    profile_str=\"profile=(\\n\"\n",
    "    for model in profile:\n",
    "        profile_str += f\"\\t{model}\\n\"\n",
    "    profile_str += \")\"\n",
    "    print(profile_str)\n",
    "\n",
    "    counts_h5_str=\"counts_h5=(\\n\"\n",
    "    for model in counts_h5:\n",
    "        counts_h5_str += f\"\\t{model}\\n\"\n",
    "    counts_h5_str += \")\"\n",
    "    print(counts_h5_str)\n",
    "\n",
    "    profile_h5_str=\"profile_h5=(\\n\"\n",
    "    for model in profile_h5:\n",
    "        profile_h5_str += f\"\\t{model}\\n\"\n",
    "    profile_h5_str += \")\"\n",
    "    print(profile_h5_str)\n",
    "\n",
    "    with open(f\"{path_scripts}/{name}_{celltype}_average_contributions.sh\", \"w\") as f:\n",
    "        f.write(template.format(\n",
    "            celltype,\n",
    "            counts_str,\n",
    "            profile_str,\n",
    "            counts_h5_str,\n",
    "            profile_h5_str,\n",
    "            output_dir,\n",
    "            window,\n",
    "            path_wigToBigWig,\n",
    "            path_chromsizes,\n",
    "            path_contribution_averaging_script,\n",
    "        ))"
   ]
  },
  {
   "cell_type": "markdown",
   "metadata": {},
   "source": [
    "# De novo motif discovery"
   ]
  },
  {
   "cell_type": "code",
   "execution_count": 43,
   "metadata": {},
   "outputs": [],
   "source": [
    "path_template = \"/cellar/users/aklie/projects/ML4GLand/chrombpnet/templates/motif_discovery.txt\"\n",
    "path_scripts = \"/cellar/users/aklie/data/datasets/HPAP/bin/chrombpnet/scripts/motifs\"\n",
    "os.makedirs(path_scripts, exist_ok=True)\n",
    "name = \"HPAP\"\n",
    "n_seqlets = 100000\n",
    "leiden_res = 2\n",
    "window = 400"
   ]
  },
  {
   "cell_type": "code",
   "execution_count": 44,
   "metadata": {},
   "outputs": [
    {
     "data": {
      "text/plain": [
       "'#! /bin/bash\\n\\n#####\\n# Script to run de novo motif discovery on contributions\\n# USAGE: sbatch \\\\\\n#--job-name=motif_discovery \\\\\\n#--partition=carter-compute \\\\\\n#--output=slurm_logs/%x.%A.%a.out \\\\\\n#--array=1-12%12 \\\\\\n#--mem=128G \\\\\\n#-n 4 \\\\\\n#-t 02-00:00:00 \\\\\\n#motif_discovery.sh\\n#####\\n\\ndate\\necho -e \"Job ID: $SLURM_JOB_ID\\\\n\"\\n\\n# Set up environment\\nsource activate eugene_tools\\nexport LD_LIBRARY_PATH=$LD_LIBRARY_PATH:$HOME/opt/miniconda3/lib/\\nexport LD_LIBRARY_PATH=/cm/shared/apps/slurm/current/lib64\\nNUMBA_NUM_THREADS=$SLURM_CPUS_PER_TASK\\n\\n# Define input files\\n{}\\n{}\\n{}\\n{}\\nn_seqlets={}\\nleiden_res={}\\nwindow={}\\n\\n# Make the fold the slurm task id - 1\\ncelltype=${{celltypes[$SLURM_ARRAY_TASK_ID - 1]}}\\ninput_h5=${{input_h5s[$SLURM_ARRAY_TASK_ID - 1]}}\\noutput_dir=${{output_dirs[$SLURM_ARRAY_TASK_ID - 1]}}\\ntype=${{types[$SLURM_ARRAY_TASK_ID - 1]}}\\n\\n# Create output directory\\nmkdir -p $output_dir\\n\\n# Run motifs cmd\\ncmd=\"modisco motifs \\\\\\n-i $input_h5 \\\\\\n-n $n_seqlets \\\\\\n-o $output_dir/${{celltype}}.${{type}}.modisco.h5 \\\\\\n-l $leiden_res \\\\\\n-w $window \\\\\\n-v\"\\necho -e $cmd\\neval $cmd\\n\\n# Run report cmd\\ncmd=\"modisco report \\\\\\n-i $output_dir/${{celltype}}.${{type}}.modisco.h5 \\\\\\n-o $output_dir/${{celltype}}.${{type}}.modisco.report/ \\\\\\n-s $output_dir/${{celltype}}.${{type}}.modisco.report/ \\\\\\n-m {}\"\\necho -e $cmd\\neval $cmd\\n\\n# Run pfm generation script\\nmkdir -p $output_dir/pfms/$type\\npath_pfm_script={}\\ncmd=\"python $path_pfm_script \\\\\\n-m $output_dir/${{celltype}}.${{type}}.modisco.h5 \\\\\\n-o $output_dir/pfms/$type \\\\\\n-op ${{celltype}}.${{type}} \\\\\\n-f 2\"\\necho -e $cmd\\neval $cmd\\n\\n# Consolidate pfms\\ntemp_file=\"$output_dir/pfms/$type/${{celltype}}.${{type}}.tmp.pfm\"\\nfinal_file=\"$output_dir/pfms/$type/${{celltype}}.${{type}}.pfm\"\\n\\n# Ensure final file does not exist\\nrm -f \"$final_file\"\\n\\n# Concatenate files with better formatting\\nfor x in \"$output_dir/pfms/$type\"/${{celltype}}.${{type}}*.pfm; do\\n  echo \">$(basename \"$x\")\" >> \"$temp_file\"\\n  cat \"$x\" >> \"$temp_file\"\\ndone\\n\\n# Move to final destination safely\\nmv \"$temp_file\" \"$final_file\"\\n\\necho \"Final consolidated PFM file: $final_file\"\\n\\n# Completion message\\ndate\\n'"
      ]
     },
     "execution_count": 44,
     "metadata": {},
     "output_type": "execute_result"
    }
   ],
   "source": [
    "# read in template as a string\n",
    "template = open(path_template).read()\n",
    "template"
   ]
  },
  {
   "cell_type": "code",
   "execution_count": 45,
   "metadata": {},
   "outputs": [
    {
     "name": "stdout",
     "output_type": "stream",
     "text": [
      "input_h5s=(\n",
      "\t/cellar/users/aklie/data/datasets/HPAP/models/Schwann/average/contributions/Schwann_counts.h5\n",
      "\t/cellar/users/aklie/data/datasets/HPAP/models/Schwann/average/contributions/Schwann_profile.h5\n",
      "\t/cellar/users/aklie/data/datasets/HPAP/models/Ductal/average/contributions/Ductal_counts.h5\n",
      "\t/cellar/users/aklie/data/datasets/HPAP/models/Ductal/average/contributions/Ductal_profile.h5\n",
      "\t/cellar/users/aklie/data/datasets/HPAP/models/Acinar/average/contributions/Acinar_counts.h5\n",
      "\t/cellar/users/aklie/data/datasets/HPAP/models/Acinar/average/contributions/Acinar_profile.h5\n",
      "\t/cellar/users/aklie/data/datasets/HPAP/models/Delta/average/contributions/Delta_counts.h5\n",
      "\t/cellar/users/aklie/data/datasets/HPAP/models/Delta/average/contributions/Delta_profile.h5\n",
      "\t/cellar/users/aklie/data/datasets/HPAP/models/Endothelial/average/contributions/Endothelial_counts.h5\n",
      "\t/cellar/users/aklie/data/datasets/HPAP/models/Endothelial/average/contributions/Endothelial_profile.h5\n",
      "\t/cellar/users/aklie/data/datasets/HPAP/models/Q_Stellate/average/contributions/Q_Stellate_counts.h5\n",
      "\t/cellar/users/aklie/data/datasets/HPAP/models/Q_Stellate/average/contributions/Q_Stellate_profile.h5\n",
      "\t/cellar/users/aklie/data/datasets/HPAP/models/A_Stellate/average/contributions/A_Stellate_counts.h5\n",
      "\t/cellar/users/aklie/data/datasets/HPAP/models/A_Stellate/average/contributions/A_Stellate_profile.h5\n",
      "\t/cellar/users/aklie/data/datasets/HPAP/models/Gamma/average/contributions/Gamma_counts.h5\n",
      "\t/cellar/users/aklie/data/datasets/HPAP/models/Gamma/average/contributions/Gamma_profile.h5\n",
      "\t/cellar/users/aklie/data/datasets/HPAP/models/Alpha/average/contributions/Alpha_counts.h5\n",
      "\t/cellar/users/aklie/data/datasets/HPAP/models/Alpha/average/contributions/Alpha_profile.h5\n",
      "\t/cellar/users/aklie/data/datasets/HPAP/models/Beta/average/contributions/Beta_counts.h5\n",
      "\t/cellar/users/aklie/data/datasets/HPAP/models/Beta/average/contributions/Beta_profile.h5\n",
      "\t/cellar/users/aklie/data/datasets/HPAP/models/Immune/average/contributions/Immune_counts.h5\n",
      "\t/cellar/users/aklie/data/datasets/HPAP/models/Immune/average/contributions/Immune_profile.h5\n",
      "\t/cellar/users/aklie/data/datasets/HPAP/models/MUC5B_Ductal/average/contributions/MUC5B_Ductal_counts.h5\n",
      "\t/cellar/users/aklie/data/datasets/HPAP/models/MUC5B_Ductal/average/contributions/MUC5B_Ductal_profile.h5\n",
      ")\n"
     ]
    }
   ],
   "source": [
    "# Find each cell types averaged contributions\n",
    "avg_contributions = []\n",
    "for group in groups:\n",
    "    avg_contributions.append(f\"{path_out}/{group}/average/contributions/{group}_counts.h5\")\n",
    "    avg_contributions.append(f\"{path_out}/{group}/average/contributions/{group}_profile.h5\")\n",
    "\n",
    "avg_contributions_str=\"input_h5s=(\\n\"\n",
    "for model in avg_contributions:\n",
    "    avg_contributions_str += f\"\\t{model}\\n\"\n",
    "avg_contributions_str += \")\"\n",
    "print(avg_contributions_str)"
   ]
  },
  {
   "cell_type": "code",
   "execution_count": 46,
   "metadata": {},
   "outputs": [
    {
     "name": "stdout",
     "output_type": "stream",
     "text": [
      "celltypes=(\n",
      "\tSchwann\n",
      "\tSchwann\n",
      "\tDuctal\n",
      "\tDuctal\n",
      "\tAcinar\n",
      "\tAcinar\n",
      "\tDelta\n",
      "\tDelta\n",
      "\tEndothelial\n",
      "\tEndothelial\n",
      "\tQ_Stellate\n",
      "\tQ_Stellate\n",
      "\tA_Stellate\n",
      "\tA_Stellate\n",
      "\tGamma\n",
      "\tGamma\n",
      "\tAlpha\n",
      "\tAlpha\n",
      "\tBeta\n",
      "\tBeta\n",
      "\tImmune\n",
      "\tImmune\n",
      "\tMUC5B_Ductal\n",
      "\tMUC5B_Ductal\n",
      ")\n"
     ]
    }
   ],
   "source": [
    "# celltypes x2\n",
    "celltypes_str=\"celltypes=(\\n\"\n",
    "for celltype in groups.keys():\n",
    "    celltypes_str += f\"\\t{celltype}\\n\"\n",
    "    celltypes_str += f\"\\t{celltype}\\n\"\n",
    "celltypes_str += \")\"\n",
    "print(celltypes_str)"
   ]
  },
  {
   "cell_type": "code",
   "execution_count": 47,
   "metadata": {},
   "outputs": [
    {
     "name": "stdout",
     "output_type": "stream",
     "text": [
      "output_dirs=(\n",
      "\t/cellar/users/aklie/data/datasets/HPAP/models/Schwann/average/motifs\n",
      "\t/cellar/users/aklie/data/datasets/HPAP/models/Schwann/average/motifs\n",
      "\t/cellar/users/aklie/data/datasets/HPAP/models/Ductal/average/motifs\n",
      "\t/cellar/users/aklie/data/datasets/HPAP/models/Ductal/average/motifs\n",
      "\t/cellar/users/aklie/data/datasets/HPAP/models/Acinar/average/motifs\n",
      "\t/cellar/users/aklie/data/datasets/HPAP/models/Acinar/average/motifs\n",
      "\t/cellar/users/aklie/data/datasets/HPAP/models/Delta/average/motifs\n",
      "\t/cellar/users/aklie/data/datasets/HPAP/models/Delta/average/motifs\n",
      "\t/cellar/users/aklie/data/datasets/HPAP/models/Endothelial/average/motifs\n",
      "\t/cellar/users/aklie/data/datasets/HPAP/models/Endothelial/average/motifs\n",
      "\t/cellar/users/aklie/data/datasets/HPAP/models/Q_Stellate/average/motifs\n",
      "\t/cellar/users/aklie/data/datasets/HPAP/models/Q_Stellate/average/motifs\n",
      "\t/cellar/users/aklie/data/datasets/HPAP/models/A_Stellate/average/motifs\n",
      "\t/cellar/users/aklie/data/datasets/HPAP/models/A_Stellate/average/motifs\n",
      "\t/cellar/users/aklie/data/datasets/HPAP/models/Gamma/average/motifs\n",
      "\t/cellar/users/aklie/data/datasets/HPAP/models/Gamma/average/motifs\n",
      "\t/cellar/users/aklie/data/datasets/HPAP/models/Alpha/average/motifs\n",
      "\t/cellar/users/aklie/data/datasets/HPAP/models/Alpha/average/motifs\n",
      "\t/cellar/users/aklie/data/datasets/HPAP/models/Beta/average/motifs\n",
      "\t/cellar/users/aklie/data/datasets/HPAP/models/Beta/average/motifs\n",
      "\t/cellar/users/aklie/data/datasets/HPAP/models/Immune/average/motifs\n",
      "\t/cellar/users/aklie/data/datasets/HPAP/models/Immune/average/motifs\n",
      "\t/cellar/users/aklie/data/datasets/HPAP/models/MUC5B_Ductal/average/motifs\n",
      "\t/cellar/users/aklie/data/datasets/HPAP/models/MUC5B_Ductal/average/motifs\n",
      ")\n"
     ]
    }
   ],
   "source": [
    "# Make the output dirs x 2 \n",
    "output_dirs = []\n",
    "for group in groups:\n",
    "    output_dirs.append(f\"{path_out}/{group}/average/motifs\")\n",
    "\n",
    "output_dirs_str=\"output_dirs=(\\n\"\n",
    "for model in output_dirs:\n",
    "    output_dirs_str += f\"\\t{model}\\n\"\n",
    "    output_dirs_str += f\"\\t{model}\\n\"\n",
    "output_dirs_str += \")\"\n",
    "print(output_dirs_str)"
   ]
  },
  {
   "cell_type": "code",
   "execution_count": 48,
   "metadata": {},
   "outputs": [
    {
     "name": "stdout",
     "output_type": "stream",
     "text": [
      "types=(\n",
      "\tcounts\n",
      "\tprofile\n",
      "\tcounts\n",
      "\tprofile\n",
      "\tcounts\n",
      "\tprofile\n",
      "\tcounts\n",
      "\tprofile\n",
      "\tcounts\n",
      "\tprofile\n",
      "\tcounts\n",
      "\tprofile\n",
      "\tcounts\n",
      "\tprofile\n",
      "\tcounts\n",
      "\tprofile\n",
      "\tcounts\n",
      "\tprofile\n",
      "\tcounts\n",
      "\tprofile\n",
      "\tcounts\n",
      "\tprofile\n",
      "\tcounts\n",
      "\tprofile\n",
      ")\n"
     ]
    }
   ],
   "source": [
    "# get one of each of type: counts and profile\n",
    "types = []\n",
    "for group in groups:\n",
    "    types.append(\"counts\")\n",
    "    types.append(\"profile\")\n",
    "types_str=\"types=(\\n\"\n",
    "for model in types:\n",
    "    types_str += f\"\\t{model}\\n\"\n",
    "types_str += \")\"\n",
    "print(types_str)"
   ]
  },
  {
   "cell_type": "code",
   "execution_count": 49,
   "metadata": {},
   "outputs": [],
   "source": [
    "# Write the script\n",
    "with open(f\"{path_scripts}/{name}_motif_discovery.sh\", \"w\") as f:\n",
    "    f.write(template.format(\n",
    "        celltypes_str,\n",
    "        avg_contributions_str,\n",
    "        output_dirs_str,\n",
    "        types_str,\n",
    "        n_seqlets,\n",
    "        leiden_res,\n",
    "        window,\n",
    "        path_meme_file,\n",
    "        path_pfm_script,\n",
    "    ))"
   ]
  },
  {
   "cell_type": "markdown",
   "metadata": {},
   "source": [
    "# Motif clustering"
   ]
  },
  {
   "cell_type": "code",
   "execution_count": 50,
   "metadata": {},
   "outputs": [],
   "source": [
    "path_template = \"/cellar/users/aklie/projects/ML4GLand/chrombpnet/templates/motif_clustering.txt\"\n",
    "path_scripts = \"/cellar/users/aklie/data/datasets/HPAP/bin/chrombpnet/scripts/motifs\"\n",
    "os.makedirs(path_scripts, exist_ok=True)\n",
    "name = \"HPAP\"\n",
    "t = 0.999"
   ]
  },
  {
   "cell_type": "code",
   "execution_count": 51,
   "metadata": {},
   "outputs": [
    {
     "name": "stdout",
     "output_type": "stream",
     "text": [
      "paths_pfm=(\n",
      "\t/cellar/users/aklie/data/datasets/HPAP/models/Schwann/average/motifs/pfms/counts/Schwann.counts.pfm\n",
      "\t/cellar/users/aklie/data/datasets/HPAP/models/Schwann/average/motifs/pfms/profile/Schwann.profile.pfm\n",
      "\t/cellar/users/aklie/data/datasets/HPAP/models/Ductal/average/motifs/pfms/counts/Ductal.counts.pfm\n",
      "\t/cellar/users/aklie/data/datasets/HPAP/models/Ductal/average/motifs/pfms/profile/Ductal.profile.pfm\n",
      "\t/cellar/users/aklie/data/datasets/HPAP/models/Acinar/average/motifs/pfms/counts/Acinar.counts.pfm\n",
      "\t/cellar/users/aklie/data/datasets/HPAP/models/Acinar/average/motifs/pfms/profile/Acinar.profile.pfm\n",
      "\t/cellar/users/aklie/data/datasets/HPAP/models/Delta/average/motifs/pfms/counts/Delta.counts.pfm\n",
      "\t/cellar/users/aklie/data/datasets/HPAP/models/Delta/average/motifs/pfms/profile/Delta.profile.pfm\n",
      "\t/cellar/users/aklie/data/datasets/HPAP/models/Endothelial/average/motifs/pfms/counts/Endothelial.counts.pfm\n",
      "\t/cellar/users/aklie/data/datasets/HPAP/models/Endothelial/average/motifs/pfms/profile/Endothelial.profile.pfm\n",
      "\t/cellar/users/aklie/data/datasets/HPAP/models/Q_Stellate/average/motifs/pfms/counts/Q_Stellate.counts.pfm\n",
      "\t/cellar/users/aklie/data/datasets/HPAP/models/Q_Stellate/average/motifs/pfms/profile/Q_Stellate.profile.pfm\n",
      "\t/cellar/users/aklie/data/datasets/HPAP/models/A_Stellate/average/motifs/pfms/counts/A_Stellate.counts.pfm\n",
      "\t/cellar/users/aklie/data/datasets/HPAP/models/A_Stellate/average/motifs/pfms/profile/A_Stellate.profile.pfm\n",
      "\t/cellar/users/aklie/data/datasets/HPAP/models/Gamma/average/motifs/pfms/counts/Gamma.counts.pfm\n",
      "\t/cellar/users/aklie/data/datasets/HPAP/models/Gamma/average/motifs/pfms/profile/Gamma.profile.pfm\n",
      "\t/cellar/users/aklie/data/datasets/HPAP/models/Alpha/average/motifs/pfms/counts/Alpha.counts.pfm\n",
      "\t/cellar/users/aklie/data/datasets/HPAP/models/Alpha/average/motifs/pfms/profile/Alpha.profile.pfm\n",
      "\t/cellar/users/aklie/data/datasets/HPAP/models/Beta/average/motifs/pfms/counts/Beta.counts.pfm\n",
      "\t/cellar/users/aklie/data/datasets/HPAP/models/Beta/average/motifs/pfms/profile/Beta.profile.pfm\n",
      "\t/cellar/users/aklie/data/datasets/HPAP/models/Immune/average/motifs/pfms/counts/Immune.counts.pfm\n",
      "\t/cellar/users/aklie/data/datasets/HPAP/models/Immune/average/motifs/pfms/profile/Immune.profile.pfm\n",
      "\t/cellar/users/aklie/data/datasets/HPAP/models/MUC5B_Ductal/average/motifs/pfms/counts/MUC5B_Ductal.counts.pfm\n",
      "\t/cellar/users/aklie/data/datasets/HPAP/models/MUC5B_Ductal/average/motifs/pfms/profile/MUC5B_Ductal.profile.pfm\n",
      ")\n"
     ]
    }
   ],
   "source": [
    "# Find paths to pfms\n",
    "paths_pfm = []\n",
    "for group in groups:\n",
    "    paths_pfm.append(f\"{path_out}/{group}/average/motifs/pfms/counts/{group}.counts.pfm\")\n",
    "    paths_pfm.append(f\"{path_out}/{group}/average/motifs/pfms/profile/{group}.profile.pfm\")\n",
    "paths_pfm_str=\"paths_pfm=(\\n\"\n",
    "for model in paths_pfm:\n",
    "    paths_pfm_str += f\"\\t{model}\\n\"\n",
    "paths_pfm_str += \")\"\n",
    "print(paths_pfm_str)"
   ]
  },
  {
   "cell_type": "code",
   "execution_count": 52,
   "metadata": {},
   "outputs": [],
   "source": [
    "# Read in template as a string\n",
    "template = open(path_template).read()"
   ]
  },
  {
   "cell_type": "code",
   "execution_count": 53,
   "metadata": {},
   "outputs": [],
   "source": [
    "# Write the script\n",
    "with open(f\"{path_scripts}/{name}_motif_clustering.sh\", \"w\") as f:\n",
    "    f.write(template.format(\n",
    "        paths_pfm_str,\n",
    "        path_out + \"/motifs\",\n",
    "        t,\n",
    "        path_meme_script,\n",
    "        path_meme_file\n",
    "    ))"
   ]
  },
  {
   "cell_type": "markdown",
   "metadata": {},
   "source": [
    "# Create a master list of annotated motifs to use for hit calling"
   ]
  },
  {
   "cell_type": "code",
   "execution_count": 210,
   "metadata": {},
   "outputs": [],
   "source": [
    "path_clustered_motifs = \"/cellar/users/aklie/data/datasets/igvf_sc-islet_10X-Multiome/results/8_chrombpnet/rna_celltype_250k/motifs/cluster/cluster_key.txt\"\n",
    "path_initial_annotations = \"/cellar/users/aklie/data/datasets/igvf_sc-islet_10X-Multiome/results/8_chrombpnet/rna_celltype_250k/motifs/tfs_initial.txt\""
   ]
  },
  {
   "cell_type": "code",
   "execution_count": null,
   "metadata": {},
   "outputs": [],
   "source": [
    "initial_annotations = pd.read_csv(path_initial_annotations, sep=\"\\t\", header=None, names=[\"cluster_name\", \"tomtom_annotation\"])\n",
    "initial_annotations"
   ]
  },
  {
   "cell_type": "code",
   "execution_count": null,
   "metadata": {},
   "outputs": [],
   "source": [
    "clustered_motifs = pd.read_csv(path_clustered_motifs, sep=\"\\t\", header=None, names=[\"cluster_name\", \"pfm_names\"])\n",
    "clustered_motifs[\"pfm_names\"] = clustered_motifs[\"pfm_names\"].str.split(\",\")\n",
    "clustered_motifs = clustered_motifs.explode(\"pfm_names\")\n",
    "clustered_motifs[\"cell_type\"] = clustered_motifs[\"pfm_names\"].str.extract(r\"(SC\\..*?)\\.\")\n",
    "clustered_motifs[\"model_type\"] = clustered_motifs[\"pfm_names\"].str.extract(r\"\\.(counts|profile)\")\n",
    "clustered_motifs[\"modisco_name\"] = clustered_motifs[\"pfm_names\"].str.split(\".\").str[-2]\n",
    "clustered_motifs[\"modisco_name\"] = \"pos_patterns.\" + clustered_motifs[\"modisco_name\"]\n",
    "clustered_motifs = clustered_motifs.merge(initial_annotations, on=\"cluster_name\", how=\"left\")\n",
    "clustered_motifs"
   ]
  },
  {
   "cell_type": "code",
   "execution_count": null,
   "metadata": {},
   "outputs": [],
   "source": [
    "# Save tab-delimeted 2 column file for SC.beta counts [modisco_name, tomtom_annotation in 2nd]\n",
    "subset = clustered_motifs[clustered_motifs[\"model_type\"] == \"counts\"]\n",
    "subset = subset[subset[\"cell_type\"] == \"SC.beta\"]\n",
    "subset[\"tomtom_annotation_number\"] = subset.groupby(\"tomtom_annotation\").cumcount().astype(str).replace(\"0\", \"\")\n",
    "msk = subset[\"tomtom_annotation_number\"] != \"\"\n",
    "subset.loc[msk, \"tomtom_annotation\"] = subset.loc[msk, \"tomtom_annotation\"] + \"_\" + subset.loc[msk, \"tomtom_annotation_number\"]\n",
    "subset = subset[[\"modisco_name\", \"tomtom_annotation\"]]\n",
    "subset.to_csv(\"/cellar/users/aklie/data/datasets/igvf_sc-islet_10X-Multiome/results/8_chrombpnet/rna_celltype_250k/SC.beta/average/motifs/hits/counts/custom_motif_names.txt\", sep=\"\\t\", header=False, index=False)"
   ]
  },
  {
   "cell_type": "code",
   "execution_count": null,
   "metadata": {},
   "outputs": [],
   "source": [
    "subset[\"tomtom_annotation\"].value_counts()"
   ]
  },
  {
   "cell_type": "markdown",
   "metadata": {},
   "source": [
    "# Motif hit calling"
   ]
  },
  {
   "cell_type": "code",
   "execution_count": 54,
   "metadata": {},
   "outputs": [],
   "source": [
    "path_template = \"/cellar/users/aklie/projects/ML4GLand/chrombpnet/templates/motif_hits.txt\"\n",
    "path_scripts = \"/cellar/users/aklie/data/datasets/HPAP/bin/chrombpnet/scripts/motifs\"\n",
    "os.makedirs(path_scripts, exist_ok=True)\n",
    "name = \"HPAP\"\n",
    "t = 0.999"
   ]
  },
  {
   "cell_type": "code",
   "execution_count": 55,
   "metadata": {},
   "outputs": [
    {
     "name": "stdout",
     "output_type": "stream",
     "text": [
      "celltypes=(\n",
      "\tSchwann\n",
      "\tSchwann\n",
      "\tDuctal\n",
      "\tDuctal\n",
      "\tAcinar\n",
      "\tAcinar\n",
      "\tDelta\n",
      "\tDelta\n",
      "\tEndothelial\n",
      "\tEndothelial\n",
      "\tQ_Stellate\n",
      "\tQ_Stellate\n",
      "\tA_Stellate\n",
      "\tA_Stellate\n",
      "\tGamma\n",
      "\tGamma\n",
      "\tAlpha\n",
      "\tAlpha\n",
      "\tBeta\n",
      "\tBeta\n",
      "\tImmune\n",
      "\tImmune\n",
      "\tMUC5B_Ductal\n",
      "\tMUC5B_Ductal\n",
      ")\n",
      "peaks=(\n",
      "\t/cellar/users/aklie/data/datasets/HPAP/peaks/Schwann_peaks.narrowPeak\n",
      "\t/cellar/users/aklie/data/datasets/HPAP/peaks/Schwann_peaks.narrowPeak\n",
      "\t/cellar/users/aklie/data/datasets/HPAP/peaks/Ductal_peaks.narrowPeak\n",
      "\t/cellar/users/aklie/data/datasets/HPAP/peaks/Ductal_peaks.narrowPeak\n",
      "\t/cellar/users/aklie/data/datasets/HPAP/peaks/Acinar_peaks.narrowPeak\n",
      "\t/cellar/users/aklie/data/datasets/HPAP/peaks/Acinar_peaks.narrowPeak\n",
      "\t/cellar/users/aklie/data/datasets/HPAP/peaks/Delta_peaks.narrowPeak\n",
      "\t/cellar/users/aklie/data/datasets/HPAP/peaks/Delta_peaks.narrowPeak\n",
      "\t/cellar/users/aklie/data/datasets/HPAP/peaks/Endothelial_peaks.narrowPeak\n",
      "\t/cellar/users/aklie/data/datasets/HPAP/peaks/Endothelial_peaks.narrowPeak\n",
      "\t/cellar/users/aklie/data/datasets/HPAP/peaks/Q_Stellate_peaks.narrowPeak\n",
      "\t/cellar/users/aklie/data/datasets/HPAP/peaks/Q_Stellate_peaks.narrowPeak\n",
      "\t/cellar/users/aklie/data/datasets/HPAP/peaks/A_Stellate_peaks.narrowPeak\n",
      "\t/cellar/users/aklie/data/datasets/HPAP/peaks/A_Stellate_peaks.narrowPeak\n",
      "\t/cellar/users/aklie/data/datasets/HPAP/peaks/Gamma_peaks.narrowPeak\n",
      "\t/cellar/users/aklie/data/datasets/HPAP/peaks/Gamma_peaks.narrowPeak\n",
      "\t/cellar/users/aklie/data/datasets/HPAP/peaks/Alpha_peaks.narrowPeak\n",
      "\t/cellar/users/aklie/data/datasets/HPAP/peaks/Alpha_peaks.narrowPeak\n",
      "\t/cellar/users/aklie/data/datasets/HPAP/peaks/Beta_peaks.narrowPeak\n",
      "\t/cellar/users/aklie/data/datasets/HPAP/peaks/Beta_peaks.narrowPeak\n",
      "\t/cellar/users/aklie/data/datasets/HPAP/peaks/Immune_peaks.narrowPeak\n",
      "\t/cellar/users/aklie/data/datasets/HPAP/peaks/Immune_peaks.narrowPeak\n",
      "\t/cellar/users/aklie/data/datasets/HPAP/peaks/MUC5B_Ductal_peaks.narrowPeak\n",
      "\t/cellar/users/aklie/data/datasets/HPAP/peaks/MUC5B_Ductal_peaks.narrowPeak\n",
      ")\n",
      "input_h5s=(\n",
      "\t/cellar/users/aklie/data/datasets/HPAP/models/Schwann/average/contributions/Schwann_counts.h5\n",
      "\t/cellar/users/aklie/data/datasets/HPAP/models/Schwann/average/contributions/Schwann_profile.h5\n",
      "\t/cellar/users/aklie/data/datasets/HPAP/models/Ductal/average/contributions/Ductal_counts.h5\n",
      "\t/cellar/users/aklie/data/datasets/HPAP/models/Ductal/average/contributions/Ductal_profile.h5\n",
      "\t/cellar/users/aklie/data/datasets/HPAP/models/Acinar/average/contributions/Acinar_counts.h5\n",
      "\t/cellar/users/aklie/data/datasets/HPAP/models/Acinar/average/contributions/Acinar_profile.h5\n",
      "\t/cellar/users/aklie/data/datasets/HPAP/models/Delta/average/contributions/Delta_counts.h5\n",
      "\t/cellar/users/aklie/data/datasets/HPAP/models/Delta/average/contributions/Delta_profile.h5\n",
      "\t/cellar/users/aklie/data/datasets/HPAP/models/Endothelial/average/contributions/Endothelial_counts.h5\n",
      "\t/cellar/users/aklie/data/datasets/HPAP/models/Endothelial/average/contributions/Endothelial_profile.h5\n",
      "\t/cellar/users/aklie/data/datasets/HPAP/models/Q_Stellate/average/contributions/Q_Stellate_counts.h5\n",
      "\t/cellar/users/aklie/data/datasets/HPAP/models/Q_Stellate/average/contributions/Q_Stellate_profile.h5\n",
      "\t/cellar/users/aklie/data/datasets/HPAP/models/A_Stellate/average/contributions/A_Stellate_counts.h5\n",
      "\t/cellar/users/aklie/data/datasets/HPAP/models/A_Stellate/average/contributions/A_Stellate_profile.h5\n",
      "\t/cellar/users/aklie/data/datasets/HPAP/models/Gamma/average/contributions/Gamma_counts.h5\n",
      "\t/cellar/users/aklie/data/datasets/HPAP/models/Gamma/average/contributions/Gamma_profile.h5\n",
      "\t/cellar/users/aklie/data/datasets/HPAP/models/Alpha/average/contributions/Alpha_counts.h5\n",
      "\t/cellar/users/aklie/data/datasets/HPAP/models/Alpha/average/contributions/Alpha_profile.h5\n",
      "\t/cellar/users/aklie/data/datasets/HPAP/models/Beta/average/contributions/Beta_counts.h5\n",
      "\t/cellar/users/aklie/data/datasets/HPAP/models/Beta/average/contributions/Beta_profile.h5\n",
      "\t/cellar/users/aklie/data/datasets/HPAP/models/Immune/average/contributions/Immune_counts.h5\n",
      "\t/cellar/users/aklie/data/datasets/HPAP/models/Immune/average/contributions/Immune_profile.h5\n",
      "\t/cellar/users/aklie/data/datasets/HPAP/models/MUC5B_Ductal/average/contributions/MUC5B_Ductal_counts.h5\n",
      "\t/cellar/users/aklie/data/datasets/HPAP/models/MUC5B_Ductal/average/contributions/MUC5B_Ductal_profile.h5\n",
      ")\n",
      "modiscos=(\n",
      "\t/cellar/users/aklie/data/datasets/HPAP/models/Schwann/average/motifs/Schwann.counts.modisco.h5\n",
      "\t/cellar/users/aklie/data/datasets/HPAP/models/Schwann/average/motifs/Schwann.profile.modisco.h5\n",
      "\t/cellar/users/aklie/data/datasets/HPAP/models/Ductal/average/motifs/Ductal.counts.modisco.h5\n",
      "\t/cellar/users/aklie/data/datasets/HPAP/models/Ductal/average/motifs/Ductal.profile.modisco.h5\n",
      "\t/cellar/users/aklie/data/datasets/HPAP/models/Acinar/average/motifs/Acinar.counts.modisco.h5\n",
      "\t/cellar/users/aklie/data/datasets/HPAP/models/Acinar/average/motifs/Acinar.profile.modisco.h5\n",
      "\t/cellar/users/aklie/data/datasets/HPAP/models/Delta/average/motifs/Delta.counts.modisco.h5\n",
      "\t/cellar/users/aklie/data/datasets/HPAP/models/Delta/average/motifs/Delta.profile.modisco.h5\n",
      "\t/cellar/users/aklie/data/datasets/HPAP/models/Endothelial/average/motifs/Endothelial.counts.modisco.h5\n",
      "\t/cellar/users/aklie/data/datasets/HPAP/models/Endothelial/average/motifs/Endothelial.profile.modisco.h5\n",
      "\t/cellar/users/aklie/data/datasets/HPAP/models/Q_Stellate/average/motifs/Q_Stellate.counts.modisco.h5\n",
      "\t/cellar/users/aklie/data/datasets/HPAP/models/Q_Stellate/average/motifs/Q_Stellate.profile.modisco.h5\n",
      "\t/cellar/users/aklie/data/datasets/HPAP/models/A_Stellate/average/motifs/A_Stellate.counts.modisco.h5\n",
      "\t/cellar/users/aklie/data/datasets/HPAP/models/A_Stellate/average/motifs/A_Stellate.profile.modisco.h5\n",
      "\t/cellar/users/aklie/data/datasets/HPAP/models/Gamma/average/motifs/Gamma.counts.modisco.h5\n",
      "\t/cellar/users/aklie/data/datasets/HPAP/models/Gamma/average/motifs/Gamma.profile.modisco.h5\n",
      "\t/cellar/users/aklie/data/datasets/HPAP/models/Alpha/average/motifs/Alpha.counts.modisco.h5\n",
      "\t/cellar/users/aklie/data/datasets/HPAP/models/Alpha/average/motifs/Alpha.profile.modisco.h5\n",
      "\t/cellar/users/aklie/data/datasets/HPAP/models/Beta/average/motifs/Beta.counts.modisco.h5\n",
      "\t/cellar/users/aklie/data/datasets/HPAP/models/Beta/average/motifs/Beta.profile.modisco.h5\n",
      "\t/cellar/users/aklie/data/datasets/HPAP/models/Immune/average/motifs/Immune.counts.modisco.h5\n",
      "\t/cellar/users/aklie/data/datasets/HPAP/models/Immune/average/motifs/Immune.profile.modisco.h5\n",
      "\t/cellar/users/aklie/data/datasets/HPAP/models/MUC5B_Ductal/average/motifs/MUC5B_Ductal.counts.modisco.h5\n",
      "\t/cellar/users/aklie/data/datasets/HPAP/models/MUC5B_Ductal/average/motifs/MUC5B_Ductal.profile.modisco.h5\n",
      ")\n",
      "types=(\n",
      "\tcounts\n",
      "\tprofile\n",
      "\tcounts\n",
      "\tprofile\n",
      "\tcounts\n",
      "\tprofile\n",
      "\tcounts\n",
      "\tprofile\n",
      "\tcounts\n",
      "\tprofile\n",
      "\tcounts\n",
      "\tprofile\n",
      "\tcounts\n",
      "\tprofile\n",
      "\tcounts\n",
      "\tprofile\n",
      "\tcounts\n",
      "\tprofile\n",
      "\tcounts\n",
      "\tprofile\n",
      "\tcounts\n",
      "\tprofile\n",
      "\tcounts\n",
      "\tprofile\n",
      ")\n",
      "output_dirs=(\n",
      "\t/cellar/users/aklie/data/datasets/HPAP/models/Schwann/average/motifs/hits/counts\n",
      "\t/cellar/users/aklie/data/datasets/HPAP/models/Schwann/average/motifs/hits/profile\n",
      "\t/cellar/users/aklie/data/datasets/HPAP/models/Ductal/average/motifs/hits/counts\n",
      "\t/cellar/users/aklie/data/datasets/HPAP/models/Ductal/average/motifs/hits/profile\n",
      "\t/cellar/users/aklie/data/datasets/HPAP/models/Acinar/average/motifs/hits/counts\n",
      "\t/cellar/users/aklie/data/datasets/HPAP/models/Acinar/average/motifs/hits/profile\n",
      "\t/cellar/users/aklie/data/datasets/HPAP/models/Delta/average/motifs/hits/counts\n",
      "\t/cellar/users/aklie/data/datasets/HPAP/models/Delta/average/motifs/hits/profile\n",
      "\t/cellar/users/aklie/data/datasets/HPAP/models/Endothelial/average/motifs/hits/counts\n",
      "\t/cellar/users/aklie/data/datasets/HPAP/models/Endothelial/average/motifs/hits/profile\n",
      "\t/cellar/users/aklie/data/datasets/HPAP/models/Q_Stellate/average/motifs/hits/counts\n",
      "\t/cellar/users/aklie/data/datasets/HPAP/models/Q_Stellate/average/motifs/hits/profile\n",
      "\t/cellar/users/aklie/data/datasets/HPAP/models/A_Stellate/average/motifs/hits/counts\n",
      "\t/cellar/users/aklie/data/datasets/HPAP/models/A_Stellate/average/motifs/hits/profile\n",
      "\t/cellar/users/aklie/data/datasets/HPAP/models/Gamma/average/motifs/hits/counts\n",
      "\t/cellar/users/aklie/data/datasets/HPAP/models/Gamma/average/motifs/hits/profile\n",
      "\t/cellar/users/aklie/data/datasets/HPAP/models/Alpha/average/motifs/hits/counts\n",
      "\t/cellar/users/aklie/data/datasets/HPAP/models/Alpha/average/motifs/hits/profile\n",
      "\t/cellar/users/aklie/data/datasets/HPAP/models/Beta/average/motifs/hits/counts\n",
      "\t/cellar/users/aklie/data/datasets/HPAP/models/Beta/average/motifs/hits/profile\n",
      "\t/cellar/users/aklie/data/datasets/HPAP/models/Immune/average/motifs/hits/counts\n",
      "\t/cellar/users/aklie/data/datasets/HPAP/models/Immune/average/motifs/hits/profile\n",
      "\t/cellar/users/aklie/data/datasets/HPAP/models/MUC5B_Ductal/average/motifs/hits/counts\n",
      "\t/cellar/users/aklie/data/datasets/HPAP/models/MUC5B_Ductal/average/motifs/hits/profile\n",
      ")\n"
     ]
    }
   ],
   "source": [
    "# Cell types\n",
    "celltypes_str=\"celltypes=(\\n\"\n",
    "for celltype in groups.keys():\n",
    "    celltypes_str += f\"\\t{celltype}\\n\"\n",
    "    celltypes_str += f\"\\t{celltype}\\n\"\n",
    "celltypes_str += \")\"\n",
    "print(celltypes_str)\n",
    "\n",
    "# Find peaks corresponding to modisco celltypes\n",
    "peaks = []\n",
    "for group in groups:\n",
    "    peaks.append(narrowPeaks_dict[group])\n",
    "    peaks.append(narrowPeaks_dict[group])\n",
    "peaks_str=\"peaks=(\\n\"\n",
    "for model in peaks:\n",
    "    peaks_str += f\"\\t{model}\\n\"\n",
    "peaks_str += \")\"\n",
    "print(peaks_str)\n",
    "\n",
    "# Find each cell types averaged contributions\n",
    "avg_contributions = []\n",
    "for group in groups:\n",
    "    avg_contributions.append(f\"{path_out}/{group}/average/contributions/{group}_counts.h5\")\n",
    "    avg_contributions.append(f\"{path_out}/{group}/average/contributions/{group}_profile.h5\")\n",
    "avg_contributions_str=\"input_h5s=(\\n\"\n",
    "for model in avg_contributions:\n",
    "    avg_contributions_str += f\"\\t{model}\\n\"\n",
    "avg_contributions_str += \")\"\n",
    "print(avg_contributions_str)\n",
    "\n",
    "# Find paths to modiscos\n",
    "modiscos = []\n",
    "for group in groups:\n",
    "    modiscos.append(f\"{path_out}/{group}/average/motifs/{group}.counts.modisco.h5\")\n",
    "    modiscos.append(f\"{path_out}/{group}/average/motifs/{group}.profile.modisco.h5\")\n",
    "modiscos_str=\"modiscos=(\\n\"\n",
    "for model in modiscos:\n",
    "    modiscos_str += f\"\\t{model}\\n\"\n",
    "modiscos_str += \")\"\n",
    "print(modiscos_str)\n",
    "\n",
    "# types\n",
    "types = []\n",
    "for group in groups:\n",
    "    types.append(\"counts\")\n",
    "    types.append(\"profile\")\n",
    "types_str=\"types=(\\n\"\n",
    "for model in types:\n",
    "    types_str += f\"\\t{model}\\n\"\n",
    "types_str += \")\"\n",
    "print(types_str)\n",
    "\n",
    "# output_dirs\n",
    "output_dirs = []\n",
    "for group in groups:\n",
    "    output_dirs.append(f\"{path_out}/{group}/average/motifs/hits/counts\")\n",
    "    output_dirs.append(f\"{path_out}/{group}/average/motifs/hits/profile\")\n",
    "output_dirs_str=\"output_dirs=(\\n\"\n",
    "for model in output_dirs:\n",
    "    output_dirs_str += f\"\\t{model}\\n\"\n",
    "output_dirs_str += \")\"\n",
    "print(output_dirs_str)"
   ]
  },
  {
   "cell_type": "code",
   "execution_count": 56,
   "metadata": {},
   "outputs": [
    {
     "data": {
      "text/plain": [
       "'#! /bin/bash\\n\\n#####\\n# Script to run motif hit calling\\n# USAGE: sbatch \\\\\\n#--job-name=motif_hits \\\\\\n#--partition=carter-gpu \\\\\\n#--account=carter-gpu \\\\\\n#--gpus=a30:1 \\\\\\n#--output=slurm_logs/%x.%A.%a.out \\\\\\n#--mem=128G \\\\\\n#-n 4 \\\\\\n#-t 02-00:00:00 \\\\\\n#--array=1-12%12 \\\\\\n#motif_hits.sh\\n#####\\n\\ndate\\necho -e \"Job ID: $SLURM_JOB_ID\\\\n\"\\n\\n# Configure environment\\nsource activate finemo_gpu\\nexport LD_LIBRARY_PATH=$LD_LIBRARY_PATH:$HOME/opt/miniconda3/envs/finemo_gpu/lib/\\n\\n# Define input files\\n{}\\n{}\\n{}\\n{}\\n{}\\n{}\\nwindow={}\\n\\n# Make the fold the slurm task id - 1\\ncelltype=${{celltypes[$SLURM_ARRAY_TASK_ID - 1]}}\\npeak=${{peaks[$SLURM_ARRAY_TASK_ID - 1]}}\\ninput_h5=${{input_h5s[$SLURM_ARRAY_TASK_ID - 1]}}\\nmodisco=${{modiscos[$SLURM_ARRAY_TASK_ID - 1]}}\\ntype=${{types[$SLURM_ARRAY_TASK_ID - 1]}}\\noutput_dir=${{output_dirs[$SLURM_ARRAY_TASK_ID - 1]}}\\n\\n# Create output directory\\nmkdir -p $output_dir\\n\\n# Run cmd to preprocess\\ncmd=\"finemo extract-regions-chrombpnet-h5 \\\\\\n-c $input_h5 \\\\\\n-o $output_dir/${{celltype}}.${{type}}.finemo.npz \\\\\\n-w $window\"\\necho -e \"Running command:\\\\n$cmd\\\\n\"\\neval $cmd\\n\\n# Run cmd to call hits\\ncmd=\"finemo call-hits \\\\\\n-r $output_dir/${{celltype}}.${{type}}.finemo.npz \\\\\\n-m $modisco \\\\\\n-o $output_dir \\\\\\n-p $peak\"\\necho -e \"Running command:\\\\n$cmd\\\\n\"\\neval $cmd\\n\\n# Run cmd for report\\ncmd=\"finemo report \\\\\\n-r $output_dir/${{celltype}}.${{type}}.finemo.npz \\\\\\n-p $peak \\\\\\n-H $output_dir/hits.tsv \\\\\\n-m $modisco \\\\\\n-o $output_dir/report \\\\\\n-W $window\"\\necho -e \"Running command:\\\\n$cmd\\\\n\"\\neval $cmd\\n\\n# Completion message\\ndate'"
      ]
     },
     "execution_count": 56,
     "metadata": {},
     "output_type": "execute_result"
    }
   ],
   "source": [
    "# Read in template as a string\n",
    "template = open(path_template).read()\n",
    "template"
   ]
  },
  {
   "cell_type": "code",
   "execution_count": 57,
   "metadata": {},
   "outputs": [],
   "source": [
    "# Write the script\n",
    "with open(f\"{path_scripts}/{name}_motif_hits.sh\", \"w\") as f:\n",
    "    f.write(template.format(\n",
    "        celltypes_str,\n",
    "        peaks_str,\n",
    "        avg_contributions_str,\n",
    "        modiscos_str,\n",
    "        types_str,\n",
    "        output_dirs_str,\n",
    "        window,\n",
    "    ))"
   ]
  },
  {
   "cell_type": "markdown",
   "metadata": {},
   "source": [
    "# Variant scoring"
   ]
  },
  {
   "cell_type": "code",
   "execution_count": 58,
   "metadata": {},
   "outputs": [],
   "source": [
    "# Paths\n",
    "path_template = \"/cellar/users/aklie/projects/ML4GLand/chrombpnet/templates/variant_scoring.txt\"\n",
    "path_scripts = \"/cellar/users/aklie/data/datasets/HPAP/bin/chrombpnet/scripts/variant_scoring\"\n",
    "os.makedirs(path_scripts, exist_ok=True)"
   ]
  },
  {
   "cell_type": "code",
   "execution_count": 59,
   "metadata": {},
   "outputs": [
    {
     "data": {
      "text/plain": [
       "{'T1D_Chiou_2021_cred_set': '/cellar/users/aklie/data/ref/variants/dbSNP/ENCFF250UJY.minimal.snps.chrombpnet.bed',\n",
       " 'eg_SuSIE_95_CS_meta_T1D_137_signals': '/cellar/users/aklie/data/ref/variants/T1D/T1D_Chiou_2021_cred_set.wGWAS_info.minimal.snps.chrombpnet.bed',\n",
       " '2hGlu_MAGIC': '/cellar/users/aklie/data/ref/variants/T1D/eg_SuSIE_95_CS_meta_T1D_137_signals.minimal.snps.chrombpnet.bed',\n",
       " 'HbA1c_MAGIC': '/cellar/users/aklie/data/ref/variants/MAGIC/2hGlu_MAGIC_trans_ancestry_pseudo_credset.LDproxyRsq0.8.wGWAS_info.minimal.snps.chrombpnet.bed',\n",
       " 'FG_MAGIC': '/cellar/users/aklie/data/ref/variants/MAGIC/HbA1c_MAGIC_trans_ancestry_pseudo_credset.LDproxyRsq0.8.wGWAS_info.minimal.snps.chrombpnet.bed',\n",
       " 'FI_MAGIC': '/cellar/users/aklie/data/ref/variants/MAGIC/FG_MAGIC_trans_ancestry_pseudo_credset.LDproxyRsq0.8.wGWAS_info.minimal.snps.chrombpnet.bed',\n",
       " 'T2D_DIAMANTE_multiancestry': '/cellar/users/aklie/data/ref/variants/MAGIC/FI_MAGIC_trans_ancestry_pseudo_credset.LDproxyRsq0.8.wGWAS_info.minimal.snps.chrombpnet.bed',\n",
       " 'ENCFF250UJY': '/cellar/users/aklie/data/ref/variants/T2D/T2D_DIAMANTE_multiancestry.cred99.hg38.wGWAS_info.minimal.snps.chrombpnet.bed'}"
      ]
     },
     "execution_count": 59,
     "metadata": {},
     "output_type": "execute_result"
    }
   ],
   "source": [
    "paths_variants = glob.glob(\"/cellar/users/aklie/data/ref/variants/*/*minimal.snps.chrombpnet*.bed\")\n",
    "paths_variants = [f for f in paths_variants if \"TOPMed\" not in f]\n",
    "names_variants = [\"T1D_Chiou_2021_cred_set\", \"eg_SuSIE_95_CS_meta_T1D_137_signals\", \"2hGlu_MAGIC\", \"HbA1c_MAGIC\", \"FG_MAGIC\", \"FI_MAGIC\", \"T2D_DIAMANTE_multiancestry\", \"ENCFF250UJY\"]\n",
    "dict(zip(names_variants, paths_variants))"
   ]
  },
  {
   "cell_type": "code",
   "execution_count": 60,
   "metadata": {},
   "outputs": [
    {
     "name": "stdout",
     "output_type": "stream",
     "text": [
      "output_dirs=(\n",
      "\t/cellar/users/aklie/data/datasets/HPAP/models/Schwann/fold_0/chrombpnet/0.3\n",
      "\t/cellar/users/aklie/data/datasets/HPAP/models/Ductal/fold_0/chrombpnet/0.3\n",
      "\t/cellar/users/aklie/data/datasets/HPAP/models/Acinar/fold_0/chrombpnet/0.3\n",
      "\t/cellar/users/aklie/data/datasets/HPAP/models/Delta/fold_0/chrombpnet/0.3\n",
      "\t/cellar/users/aklie/data/datasets/HPAP/models/Endothelial/fold_0/chrombpnet/0.3\n",
      "\t/cellar/users/aklie/data/datasets/HPAP/models/Q_Stellate/fold_0/chrombpnet/0.3\n",
      "\t/cellar/users/aklie/data/datasets/HPAP/models/A_Stellate/fold_0/chrombpnet/0.3\n",
      "\t/cellar/users/aklie/data/datasets/HPAP/models/Gamma/fold_0/chrombpnet/0.3\n",
      "\t/cellar/users/aklie/data/datasets/HPAP/models/Alpha/fold_0/chrombpnet/0.3\n",
      "\t/cellar/users/aklie/data/datasets/HPAP/models/Beta/fold_0/chrombpnet/0.3\n",
      "\t/cellar/users/aklie/data/datasets/HPAP/models/Immune/fold_0/chrombpnet/0.3\n",
      "\t/cellar/users/aklie/data/datasets/HPAP/models/MUC5B_Ductal/fold_0/chrombpnet/0.3\n",
      ")\n"
     ]
    }
   ],
   "source": [
    "# Update output_dirs to be \n",
    "output_dirs = []\n",
    "for group in groups:\n",
    "    for i in range(folds):\n",
    "        output_dirs.append(f\"{path_out}/{group}/fold_{i}/chrombpnet/{beta}\")\n",
    "\n",
    "# Same for output_dirs\n",
    "output_dirs_str=\"output_dirs=(\\n\"\n",
    "for output_dir in output_dirs:\n",
    "    output_dirs_str += f\"\\t{output_dir}\\n\"\n",
    "output_dirs_str += \")\"\n",
    "print(output_dirs_str)"
   ]
  },
  {
   "cell_type": "code",
   "execution_count": 61,
   "metadata": {},
   "outputs": [
    {
     "name": "stdout",
     "output_type": "stream",
     "text": [
      "chrombpnet_nobias_models=(\n",
      "\t/cellar/users/aklie/data/datasets/HPAP/models/Schwann/fold_0/chrombpnet/0.3/models/chrombpnet_nobias.h5\n",
      "\t/cellar/users/aklie/data/datasets/HPAP/models/Ductal/fold_0/chrombpnet/0.3/models/chrombpnet_nobias.h5\n",
      "\t/cellar/users/aklie/data/datasets/HPAP/models/Acinar/fold_0/chrombpnet/0.3/models/chrombpnet_nobias.h5\n",
      "\t/cellar/users/aklie/data/datasets/HPAP/models/Delta/fold_0/chrombpnet/0.3/models/chrombpnet_nobias.h5\n",
      "\t/cellar/users/aklie/data/datasets/HPAP/models/Endothelial/fold_0/chrombpnet/0.3/models/chrombpnet_nobias.h5\n",
      "\t/cellar/users/aklie/data/datasets/HPAP/models/Q_Stellate/fold_0/chrombpnet/0.3/models/chrombpnet_nobias.h5\n",
      "\t/cellar/users/aklie/data/datasets/HPAP/models/A_Stellate/fold_0/chrombpnet/0.3/models/chrombpnet_nobias.h5\n",
      "\t/cellar/users/aklie/data/datasets/HPAP/models/Gamma/fold_0/chrombpnet/0.3/models/chrombpnet_nobias.h5\n",
      "\t/cellar/users/aklie/data/datasets/HPAP/models/Alpha/fold_0/chrombpnet/0.3/models/chrombpnet_nobias.h5\n",
      "\t/cellar/users/aklie/data/datasets/HPAP/models/Beta/fold_0/chrombpnet/0.3/models/chrombpnet_nobias.h5\n",
      "\t/cellar/users/aklie/data/datasets/HPAP/models/Immune/fold_0/chrombpnet/0.3/models/chrombpnet_nobias.h5\n",
      "\t/cellar/users/aklie/data/datasets/HPAP/models/MUC5B_Ductal/fold_0/chrombpnet/0.3/models/chrombpnet_nobias.h5\n",
      ")\n"
     ]
    }
   ],
   "source": [
    "# Find chrombpnet_nobias models\n",
    "chrombpnet_nobias_models = []\n",
    "for outdir in output_dirs:\n",
    "    f = glob.glob(f\"{outdir}/models/chrombpnet_nobias.h5\")[0]\n",
    "    group = outdir.split(\"/\")[-3]\n",
    "    chrombpnet_nobias_models.append(f)\n",
    "\n",
    "# Same for chrombpnet_nobias_models\n",
    "chrombpnet_nobias_models_str=\"chrombpnet_nobias_models=(\\n\"\n",
    "for model in chrombpnet_nobias_models:\n",
    "    chrombpnet_nobias_models_str += f\"\\t{model}\\n\"\n",
    "chrombpnet_nobias_models_str += \")\"\n",
    "print(chrombpnet_nobias_models_str)"
   ]
  },
  {
   "cell_type": "code",
   "execution_count": 62,
   "metadata": {},
   "outputs": [
    {
     "name": "stdout",
     "output_type": "stream",
     "text": [
      "celltypes=(\n",
      "\tSchwann\n",
      "\tDuctal\n",
      "\tAcinar\n",
      "\tDelta\n",
      "\tEndothelial\n",
      "\tQ_Stellate\n",
      "\tA_Stellate\n",
      "\tGamma\n",
      "\tAlpha\n",
      "\tBeta\n",
      "\tImmune\n",
      "\tMUC5B_Ductal\n",
      ")\n"
     ]
    }
   ],
   "source": [
    "# Define the groups to train models on\n",
    "groups = list(fragments_dict.keys())\n",
    "\n",
    "celltypes_str=\"celltypes=(\\n\"\n",
    "for celltype in groups:\n",
    "    for i in range(folds):\n",
    "        celltypes_str += f\"\\t{celltype}\\n\"\n",
    "celltypes_str += \")\"\n",
    "print(celltypes_str)"
   ]
  },
  {
   "cell_type": "code",
   "execution_count": 63,
   "metadata": {},
   "outputs": [
    {
     "data": {
      "text/plain": [
       "'#! /bin/bash\\n\\n#####\\n# Script to get variant scores with a trained chrombpnet model\\n# USAGE: sbatch \\\\\\n#--job-name=variant_scoring \\\\\\n#--account carter-gpu \\\\\\n#--partition carter-gpu \\\\\\n#--gpus=a30:1 \\\\\\n#--output slurm_logs/%x.%A.%a.out \\\\\\n#--mem=32G \\\\\\n#-n 4 \\\\\\n#-t 02-00:00:00 \\\\\\n#--array=1-12%12 \\\\\\n#variant_scoring.sh\\n#####\\n\\ndate\\necho -e \"Job ID: $SLURM_JOB_ID\\\\n\"\\n\\n# Set-up env\\nsource activate chrombpnet\\nexport LD_LIBRARY_PATH=$LD_LIBRARY_PATH:/cellar/users/aklie/opt/miniconda3/envs/chrombpnet/lib\\npython -c \"import tensorflow as tf; print(tf.config.list_physical_devices(\\'GPU\\'))\"\\n\\n# file lists\\n{}\\n{}\\n{}\\nlist={}\\nrandom_seed={}\\n\\n# Grab each for this SLURM task\\ncelltype=${{celltypes[$SLURM_ARRAY_TASK_ID - 1]}}\\nchrombpnet_nobias_model=${{chrombpnet_nobias_models[$SLURM_ARRAY_TASK_ID - 1]}}\\noutput_dir=${{output_dirs[$SLURM_ARRAY_TASK_ID - 1]}}\\n\\n# echo the celltype and peak\\necho -e \"Celltype: $celltype\"\\necho -e \"Model path: $chrombpnet_nobias_model\"\\necho -e \"Output directory: $output_dir\\\\n\"\\necho -e \"Variant list: $list\"\\necho -e \"Random seed: $random_seed\\\\n\"\\n\\n# make the output directory\\nmkdir -p $output_dir\\n\\n# Run cmd\\nvariant_scoring_script={}\\ncmd=\"python $variant_scoring_script \\\\\\n-l $list \\\\\\n-g {} \\\\\\n-m $chrombpnet_nobias_model \\\\\\n-o $output_dir/${{celltype}} \\\\\\n-s {} \\\\\\n-r $random_seed \\\\\\n-sc bed\"\\necho -e \"Running command:\\\\n$cmd\\\\n\"\\neval $cmd\\n\\n# Date\\ndate\\n'"
      ]
     },
     "execution_count": 63,
     "metadata": {},
     "output_type": "execute_result"
    }
   ],
   "source": [
    "# Get template\n",
    "template = open(path_template).read()\n",
    "template"
   ]
  },
  {
   "cell_type": "code",
   "execution_count": 64,
   "metadata": {},
   "outputs": [
    {
     "name": "stdout",
     "output_type": "stream",
     "text": [
      "output_dirs=(\n",
      "\t/cellar/users/aklie/data/datasets/HPAP/models/Schwann/fold_0/chrombpnet/0.3/variant_scoring/T1D_Chiou_2021_cred_set\n",
      "\t/cellar/users/aklie/data/datasets/HPAP/models/Ductal/fold_0/chrombpnet/0.3/variant_scoring/T1D_Chiou_2021_cred_set\n",
      "\t/cellar/users/aklie/data/datasets/HPAP/models/Acinar/fold_0/chrombpnet/0.3/variant_scoring/T1D_Chiou_2021_cred_set\n",
      "\t/cellar/users/aklie/data/datasets/HPAP/models/Delta/fold_0/chrombpnet/0.3/variant_scoring/T1D_Chiou_2021_cred_set\n",
      "\t/cellar/users/aklie/data/datasets/HPAP/models/Endothelial/fold_0/chrombpnet/0.3/variant_scoring/T1D_Chiou_2021_cred_set\n",
      "\t/cellar/users/aklie/data/datasets/HPAP/models/Q_Stellate/fold_0/chrombpnet/0.3/variant_scoring/T1D_Chiou_2021_cred_set\n",
      "\t/cellar/users/aklie/data/datasets/HPAP/models/A_Stellate/fold_0/chrombpnet/0.3/variant_scoring/T1D_Chiou_2021_cred_set\n",
      "\t/cellar/users/aklie/data/datasets/HPAP/models/Gamma/fold_0/chrombpnet/0.3/variant_scoring/T1D_Chiou_2021_cred_set\n",
      "\t/cellar/users/aklie/data/datasets/HPAP/models/Alpha/fold_0/chrombpnet/0.3/variant_scoring/T1D_Chiou_2021_cred_set\n",
      "\t/cellar/users/aklie/data/datasets/HPAP/models/Beta/fold_0/chrombpnet/0.3/variant_scoring/T1D_Chiou_2021_cred_set\n",
      "\t/cellar/users/aklie/data/datasets/HPAP/models/Immune/fold_0/chrombpnet/0.3/variant_scoring/T1D_Chiou_2021_cred_set\n",
      "\t/cellar/users/aklie/data/datasets/HPAP/models/MUC5B_Ductal/fold_0/chrombpnet/0.3/variant_scoring/T1D_Chiou_2021_cred_set\n",
      ")\n",
      "output_dirs=(\n",
      "\t/cellar/users/aklie/data/datasets/HPAP/models/Schwann/fold_0/chrombpnet/0.3/variant_scoring/eg_SuSIE_95_CS_meta_T1D_137_signals\n",
      "\t/cellar/users/aklie/data/datasets/HPAP/models/Ductal/fold_0/chrombpnet/0.3/variant_scoring/eg_SuSIE_95_CS_meta_T1D_137_signals\n",
      "\t/cellar/users/aklie/data/datasets/HPAP/models/Acinar/fold_0/chrombpnet/0.3/variant_scoring/eg_SuSIE_95_CS_meta_T1D_137_signals\n",
      "\t/cellar/users/aklie/data/datasets/HPAP/models/Delta/fold_0/chrombpnet/0.3/variant_scoring/eg_SuSIE_95_CS_meta_T1D_137_signals\n",
      "\t/cellar/users/aklie/data/datasets/HPAP/models/Endothelial/fold_0/chrombpnet/0.3/variant_scoring/eg_SuSIE_95_CS_meta_T1D_137_signals\n",
      "\t/cellar/users/aklie/data/datasets/HPAP/models/Q_Stellate/fold_0/chrombpnet/0.3/variant_scoring/eg_SuSIE_95_CS_meta_T1D_137_signals\n",
      "\t/cellar/users/aklie/data/datasets/HPAP/models/A_Stellate/fold_0/chrombpnet/0.3/variant_scoring/eg_SuSIE_95_CS_meta_T1D_137_signals\n",
      "\t/cellar/users/aklie/data/datasets/HPAP/models/Gamma/fold_0/chrombpnet/0.3/variant_scoring/eg_SuSIE_95_CS_meta_T1D_137_signals\n",
      "\t/cellar/users/aklie/data/datasets/HPAP/models/Alpha/fold_0/chrombpnet/0.3/variant_scoring/eg_SuSIE_95_CS_meta_T1D_137_signals\n",
      "\t/cellar/users/aklie/data/datasets/HPAP/models/Beta/fold_0/chrombpnet/0.3/variant_scoring/eg_SuSIE_95_CS_meta_T1D_137_signals\n",
      "\t/cellar/users/aklie/data/datasets/HPAP/models/Immune/fold_0/chrombpnet/0.3/variant_scoring/eg_SuSIE_95_CS_meta_T1D_137_signals\n",
      "\t/cellar/users/aklie/data/datasets/HPAP/models/MUC5B_Ductal/fold_0/chrombpnet/0.3/variant_scoring/eg_SuSIE_95_CS_meta_T1D_137_signals\n",
      ")\n",
      "output_dirs=(\n",
      "\t/cellar/users/aklie/data/datasets/HPAP/models/Schwann/fold_0/chrombpnet/0.3/variant_scoring/2hGlu_MAGIC\n",
      "\t/cellar/users/aklie/data/datasets/HPAP/models/Ductal/fold_0/chrombpnet/0.3/variant_scoring/2hGlu_MAGIC\n",
      "\t/cellar/users/aklie/data/datasets/HPAP/models/Acinar/fold_0/chrombpnet/0.3/variant_scoring/2hGlu_MAGIC\n",
      "\t/cellar/users/aklie/data/datasets/HPAP/models/Delta/fold_0/chrombpnet/0.3/variant_scoring/2hGlu_MAGIC\n",
      "\t/cellar/users/aklie/data/datasets/HPAP/models/Endothelial/fold_0/chrombpnet/0.3/variant_scoring/2hGlu_MAGIC\n",
      "\t/cellar/users/aklie/data/datasets/HPAP/models/Q_Stellate/fold_0/chrombpnet/0.3/variant_scoring/2hGlu_MAGIC\n",
      "\t/cellar/users/aklie/data/datasets/HPAP/models/A_Stellate/fold_0/chrombpnet/0.3/variant_scoring/2hGlu_MAGIC\n",
      "\t/cellar/users/aklie/data/datasets/HPAP/models/Gamma/fold_0/chrombpnet/0.3/variant_scoring/2hGlu_MAGIC\n",
      "\t/cellar/users/aklie/data/datasets/HPAP/models/Alpha/fold_0/chrombpnet/0.3/variant_scoring/2hGlu_MAGIC\n",
      "\t/cellar/users/aklie/data/datasets/HPAP/models/Beta/fold_0/chrombpnet/0.3/variant_scoring/2hGlu_MAGIC\n",
      "\t/cellar/users/aklie/data/datasets/HPAP/models/Immune/fold_0/chrombpnet/0.3/variant_scoring/2hGlu_MAGIC\n",
      "\t/cellar/users/aklie/data/datasets/HPAP/models/MUC5B_Ductal/fold_0/chrombpnet/0.3/variant_scoring/2hGlu_MAGIC\n",
      ")\n",
      "output_dirs=(\n",
      "\t/cellar/users/aklie/data/datasets/HPAP/models/Schwann/fold_0/chrombpnet/0.3/variant_scoring/HbA1c_MAGIC\n",
      "\t/cellar/users/aklie/data/datasets/HPAP/models/Ductal/fold_0/chrombpnet/0.3/variant_scoring/HbA1c_MAGIC\n",
      "\t/cellar/users/aklie/data/datasets/HPAP/models/Acinar/fold_0/chrombpnet/0.3/variant_scoring/HbA1c_MAGIC\n",
      "\t/cellar/users/aklie/data/datasets/HPAP/models/Delta/fold_0/chrombpnet/0.3/variant_scoring/HbA1c_MAGIC\n",
      "\t/cellar/users/aklie/data/datasets/HPAP/models/Endothelial/fold_0/chrombpnet/0.3/variant_scoring/HbA1c_MAGIC\n",
      "\t/cellar/users/aklie/data/datasets/HPAP/models/Q_Stellate/fold_0/chrombpnet/0.3/variant_scoring/HbA1c_MAGIC\n",
      "\t/cellar/users/aklie/data/datasets/HPAP/models/A_Stellate/fold_0/chrombpnet/0.3/variant_scoring/HbA1c_MAGIC\n",
      "\t/cellar/users/aklie/data/datasets/HPAP/models/Gamma/fold_0/chrombpnet/0.3/variant_scoring/HbA1c_MAGIC\n",
      "\t/cellar/users/aklie/data/datasets/HPAP/models/Alpha/fold_0/chrombpnet/0.3/variant_scoring/HbA1c_MAGIC\n",
      "\t/cellar/users/aklie/data/datasets/HPAP/models/Beta/fold_0/chrombpnet/0.3/variant_scoring/HbA1c_MAGIC\n",
      "\t/cellar/users/aklie/data/datasets/HPAP/models/Immune/fold_0/chrombpnet/0.3/variant_scoring/HbA1c_MAGIC\n",
      "\t/cellar/users/aklie/data/datasets/HPAP/models/MUC5B_Ductal/fold_0/chrombpnet/0.3/variant_scoring/HbA1c_MAGIC\n",
      ")\n",
      "output_dirs=(\n",
      "\t/cellar/users/aklie/data/datasets/HPAP/models/Schwann/fold_0/chrombpnet/0.3/variant_scoring/FG_MAGIC\n",
      "\t/cellar/users/aklie/data/datasets/HPAP/models/Ductal/fold_0/chrombpnet/0.3/variant_scoring/FG_MAGIC\n",
      "\t/cellar/users/aklie/data/datasets/HPAP/models/Acinar/fold_0/chrombpnet/0.3/variant_scoring/FG_MAGIC\n",
      "\t/cellar/users/aklie/data/datasets/HPAP/models/Delta/fold_0/chrombpnet/0.3/variant_scoring/FG_MAGIC\n",
      "\t/cellar/users/aklie/data/datasets/HPAP/models/Endothelial/fold_0/chrombpnet/0.3/variant_scoring/FG_MAGIC\n",
      "\t/cellar/users/aklie/data/datasets/HPAP/models/Q_Stellate/fold_0/chrombpnet/0.3/variant_scoring/FG_MAGIC\n",
      "\t/cellar/users/aklie/data/datasets/HPAP/models/A_Stellate/fold_0/chrombpnet/0.3/variant_scoring/FG_MAGIC\n",
      "\t/cellar/users/aklie/data/datasets/HPAP/models/Gamma/fold_0/chrombpnet/0.3/variant_scoring/FG_MAGIC\n",
      "\t/cellar/users/aklie/data/datasets/HPAP/models/Alpha/fold_0/chrombpnet/0.3/variant_scoring/FG_MAGIC\n",
      "\t/cellar/users/aklie/data/datasets/HPAP/models/Beta/fold_0/chrombpnet/0.3/variant_scoring/FG_MAGIC\n",
      "\t/cellar/users/aklie/data/datasets/HPAP/models/Immune/fold_0/chrombpnet/0.3/variant_scoring/FG_MAGIC\n",
      "\t/cellar/users/aklie/data/datasets/HPAP/models/MUC5B_Ductal/fold_0/chrombpnet/0.3/variant_scoring/FG_MAGIC\n",
      ")\n",
      "output_dirs=(\n",
      "\t/cellar/users/aklie/data/datasets/HPAP/models/Schwann/fold_0/chrombpnet/0.3/variant_scoring/FI_MAGIC\n",
      "\t/cellar/users/aklie/data/datasets/HPAP/models/Ductal/fold_0/chrombpnet/0.3/variant_scoring/FI_MAGIC\n",
      "\t/cellar/users/aklie/data/datasets/HPAP/models/Acinar/fold_0/chrombpnet/0.3/variant_scoring/FI_MAGIC\n",
      "\t/cellar/users/aklie/data/datasets/HPAP/models/Delta/fold_0/chrombpnet/0.3/variant_scoring/FI_MAGIC\n",
      "\t/cellar/users/aklie/data/datasets/HPAP/models/Endothelial/fold_0/chrombpnet/0.3/variant_scoring/FI_MAGIC\n",
      "\t/cellar/users/aklie/data/datasets/HPAP/models/Q_Stellate/fold_0/chrombpnet/0.3/variant_scoring/FI_MAGIC\n",
      "\t/cellar/users/aklie/data/datasets/HPAP/models/A_Stellate/fold_0/chrombpnet/0.3/variant_scoring/FI_MAGIC\n",
      "\t/cellar/users/aklie/data/datasets/HPAP/models/Gamma/fold_0/chrombpnet/0.3/variant_scoring/FI_MAGIC\n",
      "\t/cellar/users/aklie/data/datasets/HPAP/models/Alpha/fold_0/chrombpnet/0.3/variant_scoring/FI_MAGIC\n",
      "\t/cellar/users/aklie/data/datasets/HPAP/models/Beta/fold_0/chrombpnet/0.3/variant_scoring/FI_MAGIC\n",
      "\t/cellar/users/aklie/data/datasets/HPAP/models/Immune/fold_0/chrombpnet/0.3/variant_scoring/FI_MAGIC\n",
      "\t/cellar/users/aklie/data/datasets/HPAP/models/MUC5B_Ductal/fold_0/chrombpnet/0.3/variant_scoring/FI_MAGIC\n",
      ")\n",
      "output_dirs=(\n",
      "\t/cellar/users/aklie/data/datasets/HPAP/models/Schwann/fold_0/chrombpnet/0.3/variant_scoring/T2D_DIAMANTE_multiancestry\n",
      "\t/cellar/users/aklie/data/datasets/HPAP/models/Ductal/fold_0/chrombpnet/0.3/variant_scoring/T2D_DIAMANTE_multiancestry\n",
      "\t/cellar/users/aklie/data/datasets/HPAP/models/Acinar/fold_0/chrombpnet/0.3/variant_scoring/T2D_DIAMANTE_multiancestry\n",
      "\t/cellar/users/aklie/data/datasets/HPAP/models/Delta/fold_0/chrombpnet/0.3/variant_scoring/T2D_DIAMANTE_multiancestry\n",
      "\t/cellar/users/aklie/data/datasets/HPAP/models/Endothelial/fold_0/chrombpnet/0.3/variant_scoring/T2D_DIAMANTE_multiancestry\n",
      "\t/cellar/users/aklie/data/datasets/HPAP/models/Q_Stellate/fold_0/chrombpnet/0.3/variant_scoring/T2D_DIAMANTE_multiancestry\n",
      "\t/cellar/users/aklie/data/datasets/HPAP/models/A_Stellate/fold_0/chrombpnet/0.3/variant_scoring/T2D_DIAMANTE_multiancestry\n",
      "\t/cellar/users/aklie/data/datasets/HPAP/models/Gamma/fold_0/chrombpnet/0.3/variant_scoring/T2D_DIAMANTE_multiancestry\n",
      "\t/cellar/users/aklie/data/datasets/HPAP/models/Alpha/fold_0/chrombpnet/0.3/variant_scoring/T2D_DIAMANTE_multiancestry\n",
      "\t/cellar/users/aklie/data/datasets/HPAP/models/Beta/fold_0/chrombpnet/0.3/variant_scoring/T2D_DIAMANTE_multiancestry\n",
      "\t/cellar/users/aklie/data/datasets/HPAP/models/Immune/fold_0/chrombpnet/0.3/variant_scoring/T2D_DIAMANTE_multiancestry\n",
      "\t/cellar/users/aklie/data/datasets/HPAP/models/MUC5B_Ductal/fold_0/chrombpnet/0.3/variant_scoring/T2D_DIAMANTE_multiancestry\n",
      ")\n",
      "output_dirs=(\n",
      "\t/cellar/users/aklie/data/datasets/HPAP/models/Schwann/fold_0/chrombpnet/0.3/variant_scoring/ENCFF250UJY\n",
      "\t/cellar/users/aklie/data/datasets/HPAP/models/Ductal/fold_0/chrombpnet/0.3/variant_scoring/ENCFF250UJY\n",
      "\t/cellar/users/aklie/data/datasets/HPAP/models/Acinar/fold_0/chrombpnet/0.3/variant_scoring/ENCFF250UJY\n",
      "\t/cellar/users/aklie/data/datasets/HPAP/models/Delta/fold_0/chrombpnet/0.3/variant_scoring/ENCFF250UJY\n",
      "\t/cellar/users/aklie/data/datasets/HPAP/models/Endothelial/fold_0/chrombpnet/0.3/variant_scoring/ENCFF250UJY\n",
      "\t/cellar/users/aklie/data/datasets/HPAP/models/Q_Stellate/fold_0/chrombpnet/0.3/variant_scoring/ENCFF250UJY\n",
      "\t/cellar/users/aklie/data/datasets/HPAP/models/A_Stellate/fold_0/chrombpnet/0.3/variant_scoring/ENCFF250UJY\n",
      "\t/cellar/users/aklie/data/datasets/HPAP/models/Gamma/fold_0/chrombpnet/0.3/variant_scoring/ENCFF250UJY\n",
      "\t/cellar/users/aklie/data/datasets/HPAP/models/Alpha/fold_0/chrombpnet/0.3/variant_scoring/ENCFF250UJY\n",
      "\t/cellar/users/aklie/data/datasets/HPAP/models/Beta/fold_0/chrombpnet/0.3/variant_scoring/ENCFF250UJY\n",
      "\t/cellar/users/aklie/data/datasets/HPAP/models/Immune/fold_0/chrombpnet/0.3/variant_scoring/ENCFF250UJY\n",
      "\t/cellar/users/aklie/data/datasets/HPAP/models/MUC5B_Ductal/fold_0/chrombpnet/0.3/variant_scoring/ENCFF250UJY\n",
      ")\n"
     ]
    }
   ],
   "source": [
    "# for each variant list\n",
    "for path_variant, name_variant in zip(paths_variants, names_variants):\n",
    "\n",
    "    # Output dirs are the same as the chrombpnet_nobias models\n",
    "    output_dirs_str=\"output_dirs=(\\n\"\n",
    "    for output_dir in output_dirs:\n",
    "        output_dirs_str += f\"\\t{output_dir}/variant_scoring/{name_variant}\\n\"\n",
    "    output_dirs_str += \")\"\n",
    "    print(output_dirs_str)\n",
    "\n",
    "    # Write the script\n",
    "    with open(f\"{path_scripts}/{name}_{name_variant}_variant_scoring.sh\", \"w\") as f:\n",
    "        f.write(template.format(\n",
    "            celltypes_str,\n",
    "            chrombpnet_nobias_models_str,\n",
    "            output_dirs_str,\n",
    "            path_variant,\n",
    "            1234,\n",
    "            path_variant_scorer,\n",
    "            path_genome_fasta,\n",
    "            path_chromsizes,\n",
    "        ))"
   ]
  },
  {
   "cell_type": "markdown",
   "metadata": {},
   "source": [
    "# DONE!"
   ]
  },
  {
   "cell_type": "markdown",
   "metadata": {},
   "source": [
    "---"
   ]
  },
  {
   "cell_type": "code",
   "execution_count": 59,
   "metadata": {},
   "outputs": [],
   "source": [
    "folds = 1\n",
    "celltypes = []\n",
    "peaks = []\n",
    "output_dirs = []\n",
    "fold_lst = []\n",
    "for group in groups:\n",
    "    for i in range(folds):\n",
    "        # Make a fold_{fold} directory\n",
    "        outdir = f\"{path_out}/{group}/fold_{i}/negatives\"\n",
    "        os.makedirs(outdir, exist_ok=True)\n",
    "        peakset = narrowPeaks[group]\n",
    "        celltypes.append(group)\n",
    "        peaks.append(peakset)\n",
    "        output_dirs.append(outdir)\n",
    "        fold_lst.append(i)"
   ]
  },
  {
   "cell_type": "code",
   "execution_count": 60,
   "metadata": {},
   "outputs": [],
   "source": [
    "# Print out celltypes in same way I would write a bash array so I can copy paste into a script\n",
    "print(\"celltypes=(\")\n",
    "for celltype in celltypes:\n",
    "    print(f\"    {celltype}\")\n",
    "print(\")\")"
   ]
  },
  {
   "cell_type": "code",
   "execution_count": 61,
   "metadata": {},
   "outputs": [],
   "source": [
    "# Samme for peaks\n",
    "print(\"peaks=(\")\n",
    "for peak in peaks:\n",
    "    print(f\"    {peak}\")\n",
    "print(\")\")"
   ]
  },
  {
   "cell_type": "code",
   "execution_count": 62,
   "metadata": {},
   "outputs": [],
   "source": [
    "# Samme for output_dirs\n",
    "print(\"output_dirs=(\")\n",
    "for outdir in output_dirs:\n",
    "    print(f\"    {outdir}\")\n",
    "print(\")\")"
   ]
  },
  {
   "cell_type": "code",
   "execution_count": 63,
   "metadata": {},
   "outputs": [],
   "source": [
    "#  Samme for fold_lst\n",
    "print(\"folds=(\")\n",
    "for fold in fold_lst:\n",
    "    print(f\"    {fold}\")\n",
    "print(\")\")"
   ]
  },
  {
   "cell_type": "markdown",
   "metadata": {},
   "source": [
    "# Bias models"
   ]
  },
  {
   "cell_type": "code",
   "execution_count": 72,
   "metadata": {},
   "outputs": [],
   "source": [
    "# Find negatives\n",
    "negatives = {}\n",
    "for outdir in output_dirs:\n",
    "    group = outdir.split(\"/\")[-3]\n",
    "    negatives[group] = f\"{outdir}/{group}_negatives.bed\""
   ]
  },
  {
   "cell_type": "code",
   "execution_count": 76,
   "metadata": {},
   "outputs": [],
   "source": [
    "# Update output_dirs to replace \"negatives\" with bias_model/$beta\n",
    "output_dirs = [f\"{outdir.replace(\"negatives/\", \"\")}/bias_model/$beta\" for outdir in output_dirs]"
   ]
  },
  {
   "cell_type": "code",
   "execution_count": 77,
   "metadata": {},
   "outputs": [],
   "source": [
    "# Same for neegatives\n",
    "print(\"negatives=(\")\n",
    "for negative in negatives.values():\n",
    "    print(f\"    {negative}\")\n",
    "print(\")\")"
   ]
  },
  {
   "cell_type": "code",
   "execution_count": 78,
   "metadata": {},
   "outputs": [],
   "source": [
    "# Same for output_dirs\n",
    "print(\"output_dirs=(\")\n",
    "for outdir in output_dirs:\n",
    "    print(f\"    {outdir}\")\n",
    "print(\")\")"
   ]
  },
  {
   "cell_type": "code",
   "execution_count": 79,
   "metadata": {},
   "outputs": [],
   "source": [
    "# Same for fragments\n",
    "print(\"fragments=(\")\n",
    "for fragment in fragments.values():\n",
    "    print(f\"    {fragment}\")\n",
    "print(\")\")"
   ]
  },
  {
   "cell_type": "markdown",
   "metadata": {},
   "source": [
    "# Prep dataset config"
   ]
  },
  {
   "cell_type": "code",
   "execution_count": 7,
   "metadata": {},
   "outputs": [],
   "source": [
    "# path to template config file\n",
    "path_config = \"/cellar/users/aklie/data/datasets/igvf_sc-islet_10X-Multiome/bin/8_sequence_models/configs/prep_dataset_template.yaml\""
   ]
  },
  {
   "cell_type": "code",
   "execution_count": 8,
   "metadata": {},
   "outputs": [],
   "source": [
    "# load template config\n",
    "config = yaml.safe_load(open(path_config, 'r'))\n",
    "config"
   ]
  },
  {
   "cell_type": "code",
   "execution_count": 9,
   "metadata": {},
   "outputs": [],
   "source": [
    "# Only use these signal betas\n",
    "signal_betas = [0.5]"
   ]
  },
  {
   "cell_type": "code",
   "execution_count": 25,
   "metadata": {},
   "outputs": [],
   "source": [
    "config_paths = []\n",
    "for i, group in enumerate(groups):\n",
    "    for signal_beta in signal_betas:\n",
    "        out_dir = os.path.join(path_out, group, \"prep_dataset\", f\"{signal_beta}\")\n",
    "        os.makedirs(out_dir, exist_ok=True)\n",
    "        curr_out = os.path.join(out_dir, f\"{group}.yaml\")\n",
    "        curr_config = config.copy()\n",
    "        curr_config[\"name\"] = group\n",
    "        curr_config[\"seqdata\"][\"bws\"] = [unstranded_bws[group]]\n",
    "        curr_config[\"seqdata\"][\"bw_names\"] = [group]\n",
    "        curr_config[\"seqdata\"][\"loci\"] = narrowPeaks[celltypes[i]]\n",
    "        curr_config[\"negatives\"][\"signal\"] = curr_config[\"seqdata\"][\"bws\"][0]\n",
    "        curr_config['negatives']['signal_beta'] = round(float(signal_beta), 1)\n",
    "        with open(curr_out, 'w') as f:\n",
    "            yaml.dump(curr_config, f)\n",
    "        print(curr_out)\n",
    "        config_paths.append(curr_out)"
   ]
  },
  {
   "cell_type": "code",
   "execution_count": 27,
   "metadata": {},
   "outputs": [],
   "source": [
    "# Make a dataframe with paths of configs in first column and output directory in second column\n",
    "df = pd.DataFrame()\n",
    "df[\"config\"] = config_paths\n",
    "df[\"out_dir\"] = [os.path.dirname(p) for p in config_paths]\n",
    "df.to_csv(\"/cellar/users/aklie/data/datasets/igvf_sc-islet_10X-Multiome/bin/8_sequence_models/metadata/prep_dataset_celltype+condition+timepoint.tsv\", sep=\"\\t\", index=False, header=False)"
   ]
  },
  {
   "cell_type": "markdown",
   "metadata": {},
   "source": [
    "# Bpnet fit configs"
   ]
  },
  {
   "cell_type": "code",
   "execution_count": 12,
   "metadata": {},
   "outputs": [],
   "source": [
    "# path to template config file\n",
    "path_config = \"/cellar/users/aklie/data/datasets/igvf_sc-islet_10X-Multiome/bin/8_sequence_models/configs/bpnet_fit_template.yaml\""
   ]
  },
  {
   "cell_type": "code",
   "execution_count": 13,
   "metadata": {},
   "outputs": [],
   "source": [
    "# load template config\n",
    "config = yaml.safe_load(open(path_config, 'r'))\n",
    "config"
   ]
  },
  {
   "cell_type": "code",
   "execution_count": 16,
   "metadata": {},
   "outputs": [],
   "source": [
    "# Grab paths of seqdatas from the previous step\n",
    "seqdatas = {}\n",
    "for f in glob.glob(os.path.join(path_out, \"*\", \"prep_dataset\", \"*\", \"*.minimal.seqdata\")):\n",
    "    signal_beta = float(f.split(\"/\")[-2])\n",
    "    group = os.path.basename(f).split(\".minimal.seqdata\")[0]\n",
    "    if group not in seqdatas:\n",
    "        seqdatas[group] = {}\n",
    "    seqdatas[group][signal_beta] = f\n",
    "seqdatas"
   ]
  },
  {
   "cell_type": "code",
   "execution_count": 17,
   "metadata": {},
   "outputs": [],
   "source": [
    "# How many folds?\n",
    "folds = 5"
   ]
  },
  {
   "cell_type": "code",
   "execution_count": 18,
   "metadata": {},
   "outputs": [],
   "source": [
    "# Which signal betas to use?\n",
    "signal_betas = [0.5]"
   ]
  },
  {
   "cell_type": "code",
   "execution_count": 21,
   "metadata": {},
   "outputs": [],
   "source": [
    "# Make config files\n",
    "config_paths = []\n",
    "for i, group in enumerate(groups):\n",
    "    if group not in seqdatas:\n",
    "        continue\n",
    "    for signal_beta in signal_betas:\n",
    "        for fold in range(folds):\n",
    "            out_dir = os.path.join(path_out, group, \"bpnet_fit\", f\"fold_{fold}\", f\"{signal_beta}\")\n",
    "            os.makedirs(out_dir, exist_ok=True)\n",
    "            curr_out = os.path.join(out_dir, f\"{group}_fold_{fold}.yaml\")\n",
    "            curr_config = config.copy()\n",
    "            curr_config[\"name\"] = group\n",
    "            curr_config[\"seqdata\"][\"path\"] = seqdatas[group][signal_beta]\n",
    "            curr_config[\"seqdata\"][\"fold\"] = f\"fold_{fold}\"\n",
    "            with open(curr_out, 'w') as f:\n",
    "                yaml.dump(curr_config, f)\n",
    "            print(curr_out)\n",
    "            config_paths.append(curr_out)"
   ]
  },
  {
   "cell_type": "code",
   "execution_count": 22,
   "metadata": {},
   "outputs": [],
   "source": [
    "# Keep only fold_0 configs\n",
    "config_paths = sorted([c for c in config_paths if \"fold_0\" in c])\n",
    "config_paths"
   ]
  },
  {
   "cell_type": "code",
   "execution_count": 23,
   "metadata": {},
   "outputs": [],
   "source": [
    "# Keep only SC.alpha cellypes\n",
    "#config_paths = [c for c in config_paths if \"SC.alpha\" in c]\n",
    "config_paths"
   ]
  },
  {
   "cell_type": "code",
   "execution_count": 25,
   "metadata": {},
   "outputs": [],
   "source": [
    "# Make a dataframe with paths of configs in first column and output directory in second column\n",
    "df = pd.DataFrame()\n",
    "df[\"config\"] = config_paths\n",
    "df[\"out_dir\"] = [os.path.dirname(p) for p in config_paths]\n",
    "df.to_csv(\"/cellar/users/aklie/data/datasets/igvf_sc-islet_10X-Multiome/bin/8_sequence_models/metadata/bpnet_fit_celltype+condition+timepoint.tsv\", sep=\"\\t\", index=False, header=False)"
   ]
  },
  {
   "cell_type": "markdown",
   "metadata": {},
   "source": [
    "# Bias fit configs"
   ]
  },
  {
   "cell_type": "code",
   "execution_count": 16,
   "metadata": {},
   "outputs": [],
   "source": [
    "# path to template config file\n",
    "path_config = \"/cellar/users/aklie/data/datasets/igvf_sc-islet_10X-Multiome/bin/9_sequence_models/configs/bias_fit_template.yaml\""
   ]
  },
  {
   "cell_type": "code",
   "execution_count": 17,
   "metadata": {},
   "outputs": [],
   "source": [
    "# load template config\n",
    "config = yaml.safe_load(open(path_config, 'r'))\n",
    "config"
   ]
  },
  {
   "cell_type": "code",
   "execution_count": 18,
   "metadata": {},
   "outputs": [],
   "source": [
    "seqdatas = {}\n",
    "for f in glob.glob(os.path.join(path_out, \"*\", \"prep_dataset\", \"*\", \"*.minimal.seqdata\")):\n",
    "    signal_beta = float(f.split(\"/\")[-2])\n",
    "    celltype = os.path.basename(f).split(\".minimal.seqdata\")[0]\n",
    "    if celltype not in seqdatas:\n",
    "        seqdatas[celltype] = {}\n",
    "    seqdatas[celltype][signal_beta] = f\n",
    "seqdatas"
   ]
  },
  {
   "cell_type": "code",
   "execution_count": 19,
   "metadata": {},
   "outputs": [],
   "source": [
    "# How many folds?\n",
    "folds = 5"
   ]
  },
  {
   "cell_type": "code",
   "execution_count": 20,
   "metadata": {},
   "outputs": [],
   "source": [
    "# Need to pull out Max Negative Counts: value from the following\n",
    "reports = {}\n",
    "for f in glob.glob(os.path.join(path_out, \"*\", \"prep_dataset\", \"*\", \"*.report.html\"), recursive=True):\n",
    "    signal_beta = float(f.split(\"/\")[-2])\n",
    "    celltype = os.path.basename(f).split(\".report.html\")[0]\n",
    "    with open(f, 'r') as f:\n",
    "        content = f.read()\n",
    "        max_neg_counts = float(content.split(\"Max Negative Counts: \")[1].split(\",\")[0])\n",
    "    if celltype not in reports:\n",
    "        reports[celltype] = {}\n",
    "    reports[celltype][signal_beta] = max_neg_counts        \n",
    "reports"
   ]
  },
  {
   "cell_type": "code",
   "execution_count": 21,
   "metadata": {},
   "outputs": [],
   "source": [
    "signal_betas = [0.5]"
   ]
  },
  {
   "cell_type": "code",
   "execution_count": 22,
   "metadata": {},
   "outputs": [],
   "source": [
    "config_paths = []\n",
    "for i, celltype in enumerate(celltypes):\n",
    "    for signal_beta in signal_betas:\n",
    "        for fold in range(folds):\n",
    "            out_dir = os.path.join(path_out, celltype, \"bias_fit\", f\"fold_{fold}\", f\"{signal_beta}\")\n",
    "            os.makedirs(out_dir, exist_ok=True)\n",
    "            curr_out = os.path.join(out_dir, f\"{celltype}_fold_{fold}.yaml\")\n",
    "            curr_config = config.copy()\n",
    "            curr_config[\"name\"] = celltype\n",
    "            curr_config[\"seqdata\"][\"path\"] = seqdatas[celltype][signal_beta]\n",
    "            curr_config[\"seqdata\"][\"fold\"] = f\"fold_{fold}\"\n",
    "            config[\"seqdata\"][\"max_counts\"] = reports[celltype][signal_beta]\n",
    "            with open(curr_out, 'w') as f:\n",
    "                yaml.dump(curr_config, f)\n",
    "            print(curr_out)\n",
    "            config_paths.append(curr_out)"
   ]
  },
  {
   "cell_type": "code",
   "execution_count": 58,
   "metadata": {},
   "outputs": [],
   "source": [
    "# Keep only fold_0 configs\n",
    "#config_paths = sorted([c for c in config_paths if \"fold_0\" in c])\n",
    "config_paths"
   ]
  },
  {
   "cell_type": "code",
   "execution_count": 61,
   "metadata": {},
   "outputs": [],
   "source": [
    "# Make a dataframe with paths of configs in first column and output directory in second column\n",
    "df = pd.DataFrame()\n",
    "df[\"config\"] = config_paths\n",
    "df[\"out_dir\"] = [os.path.dirname(p) for p in config_paths]\n",
    "df.to_csv(\"/cellar/users/aklie/data/datasets/igvf_sc-islet_10X-Multiome/bin/9_sequence_models/metadata/bias_fit_0.5.tsv\", sep=\"\\t\", index=False, header=False)"
   ]
  },
  {
   "cell_type": "markdown",
   "metadata": {},
   "source": [
    "# Chrombpnet fit configs"
   ]
  },
  {
   "cell_type": "code",
   "execution_count": 23,
   "metadata": {},
   "outputs": [],
   "source": [
    "# path to template config file\n",
    "path_config = \"/cellar/users/aklie/data/datasets/igvf_sc-islet_10X-Multiome/bin/9_sequence_models/configs/chrombpnet_fit_template.yaml\""
   ]
  },
  {
   "cell_type": "code",
   "execution_count": 24,
   "metadata": {},
   "outputs": [],
   "source": [
    "# load template config\n",
    "config = yaml.safe_load(open(path_config, 'r'))\n",
    "config"
   ]
  },
  {
   "cell_type": "code",
   "execution_count": 25,
   "metadata": {},
   "outputs": [],
   "source": [
    "# Grab paths of seqdatas from the previous step\n",
    "seqdatas = {}\n",
    "for f in glob.glob(os.path.join(path_out, \"*\", \"prep_dataset\", \"*\", \"*.minimal.seqdata\")):\n",
    "    signal_beta = float(f.split(\"/\")[-2])\n",
    "    celltype = os.path.basename(f).split(\".minimal.seqdata\")[0]\n",
    "    if celltype not in seqdatas:\n",
    "        seqdatas[celltype] = {}\n",
    "    seqdatas[celltype][signal_beta] = f\n",
    "seqdatas"
   ]
  },
  {
   "cell_type": "code",
   "execution_count": 26,
   "metadata": {},
   "outputs": [],
   "source": [
    "# Need to pull\n",
    "bias_models = {}\n",
    "paths = glob.glob(os.path.join(path_out, \"*\", \"bias_fit\", \"fold_*\", \"*\", \"*.torch\"), recursive=True)\n",
    "paths = [p for p in paths if \"final\" not in p]\n",
    "for f in paths:\n",
    "    \n",
    "    # Grab celltype\n",
    "    celltype = os.path.basename(f).split(\".torch\")[0]\n",
    "    if celltype not in bias_models:\n",
    "        bias_models[celltype] = {}\n",
    "    \n",
    "    # Grab fold\n",
    "    fold = f.split(\"/\")[-3]\n",
    "    if fold not in bias_models[celltype]:\n",
    "        bias_models[celltype][fold] = {}\n",
    "\n",
    "    # Grab signal_beta\n",
    "    signal_beta = float(f.split(\"/\")[-2])\n",
    "    bias_models[celltype][fold][signal_beta] = f\n",
    "    \n",
    "bias_models"
   ]
  },
  {
   "cell_type": "code",
   "execution_count": 27,
   "metadata": {},
   "outputs": [],
   "source": [
    "# How many folds?\n",
    "folds = 5"
   ]
  },
  {
   "cell_type": "code",
   "execution_count": 28,
   "metadata": {},
   "outputs": [],
   "source": [
    "# Which signal betas to use?\n",
    "signal_betas = [0.5]"
   ]
  },
  {
   "cell_type": "code",
   "execution_count": 33,
   "metadata": {},
   "outputs": [],
   "source": [
    "config_paths = []\n",
    "for i, celltype in enumerate(celltypes):\n",
    "    for fold in bias_models[celltype]:\n",
    "        for signal_beta in signal_betas:\n",
    "            out_dir = os.path.join(path_out, celltype, \"chrombpnet_fit\", fold, f\"{signal_beta}\")\n",
    "            os.makedirs(out_dir, exist_ok=True)\n",
    "            curr_out = os.path.join(out_dir, f\"{celltype}_{fold}.yaml\")\n",
    "            curr_config = config.copy()\n",
    "            curr_config[\"name\"] = celltype\n",
    "            curr_config[\"seqdata\"][\"path\"] = seqdatas[celltype][signal_beta]\n",
    "            curr_config[\"seqdata\"][\"fold\"] = fold\n",
    "            curr_config[\"model\"][\"bias_model\"] = bias_models[celltype][fold][signal_beta]\n",
    "            with open(curr_out, 'w') as f:\n",
    "                yaml.dump(curr_config, f)\n",
    "            print(curr_out)\n",
    "            config_paths.append(curr_out)"
   ]
  },
  {
   "cell_type": "code",
   "execution_count": 34,
   "metadata": {},
   "outputs": [],
   "source": [
    "# Keep only fold_0 configs\n",
    "#config_paths = sorted([c for c in config_paths if \"fold_0\" in c])\n",
    "config_paths"
   ]
  },
  {
   "cell_type": "code",
   "execution_count": 35,
   "metadata": {},
   "outputs": [],
   "source": [
    "# Make a dataframe with paths of configs in first column and output directory in second column\n",
    "df = pd.DataFrame()\n",
    "df[\"config\"] = config_paths\n",
    "df[\"out_dir\"] = [os.path.dirname(p) for p in config_paths]\n",
    "df.to_csv(\"/cellar/users/aklie/data/datasets/igvf_sc-islet_10X-Multiome/bin/9_sequence_models/metadata/chrombpnet_fit_0.5.tsv\", sep=\"\\t\", index=False, header=False)"
   ]
  },
  {
   "cell_type": "markdown",
   "metadata": {},
   "source": [
    "# DONE!"
   ]
  },
  {
   "cell_type": "markdown",
   "metadata": {},
   "source": [
    "---"
   ]
  }
 ],
 "metadata": {
  "kernelspec": {
   "display_name": "Python 3.11 eugene_tools",
   "language": "python",
   "name": "eugene_tools"
  }
 },
 "nbformat": 4,
 "nbformat_minor": 2
}
