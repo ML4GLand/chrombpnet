{
 "cells": [
  {
   "cell_type": "markdown",
   "metadata": {},
   "source": [
    "# Set-up"
   ]
  },
  {
   "cell_type": "code",
   "execution_count": 227,
   "metadata": {},
   "outputs": [],
   "source": [
    "# Imports\n",
    "import os\n",
    "import glob\n",
    "import yaml\n",
    "import pandas as pd"
   ]
  },
  {
   "cell_type": "code",
   "execution_count": 228,
   "metadata": {},
   "outputs": [],
   "source": [
    "# Paths\n",
    "path_fragments = \"/cellar/users/aklie/data/datasets/igvf_sc-islet_10X-Multiome/results/4_integration/atac/pseudobulk/rna_celltype/12-1/fragments\"\n",
    "path_narrowPeaks = \"/cellar/users/aklie/data/datasets/igvf_sc-islet_10X-Multiome/results/5_peak_analysis/peak_calls/rna_celltype/12-1/snapatac2\"\n",
    "\n",
    "path_genome_fasta = \"/cellar/users/aklie/data/ref/genomes/hg38/hg38.fa\"\n",
    "path_chromsizes = \"/cellar/users/aklie/data/ref/genomes/hg38/hg38.chrom.sizes\"\n",
    "path_blacklist = \"/cellar/users/aklie/data/ref/genomes/hg38/blacklist/blacklist.bed.gz\"\n",
    "path_fold_dir = \"/cellar/users/aklie/data/ref/genomes/hg38/chrombpnet/splits\"\n",
    "path_out = \"/cellar/users/aklie/data/datasets/igvf_sc-islet_10X-Multiome/results/8_chrombpnet/rna_celltype_250k\"\n",
    "\n",
    "os.makedirs(path_out, exist_ok=True)"
   ]
  },
  {
   "cell_type": "markdown",
   "metadata": {},
   "source": [
    "# Find files"
   ]
  },
  {
   "cell_type": "code",
   "execution_count": 229,
   "metadata": {},
   "outputs": [
    {
     "data": {
      "text/plain": [
       "{'SC.alpha': '/cellar/users/aklie/data/datasets/igvf_sc-islet_10X-Multiome/results/4_integration/atac/pseudobulk/rna_celltype/12-1/fragments/SC.alpha.bed.gz',\n",
       " 'SC.beta': '/cellar/users/aklie/data/datasets/igvf_sc-islet_10X-Multiome/results/4_integration/atac/pseudobulk/rna_celltype/12-1/fragments/SC.beta.bed.gz',\n",
       " 'SC.EC': '/cellar/users/aklie/data/datasets/igvf_sc-islet_10X-Multiome/results/4_integration/atac/pseudobulk/rna_celltype/12-1/fragments/SC.EC.bed.gz',\n",
       " 'SC.delta': '/cellar/users/aklie/data/datasets/igvf_sc-islet_10X-Multiome/results/4_integration/atac/pseudobulk/rna_celltype/12-1/fragments/SC.delta.bed.gz'}"
      ]
     },
     "execution_count": 229,
     "metadata": {},
     "output_type": "execute_result"
    }
   ],
   "source": [
    "# Get count bigwigs\n",
    "fragments = {}\n",
    "for f in glob.glob(f\"{path_fragments}/*.bed.gz\"):\n",
    "    celltype = os.path.basename(f).split(\".bed.gz\")[0]\n",
    "    fragments[celltype] = f\n",
    "fragments"
   ]
  },
  {
   "cell_type": "code",
   "execution_count": 230,
   "metadata": {},
   "outputs": [
    {
     "data": {
      "text/plain": [
       "{'SC.delta': '/cellar/users/aklie/data/datasets/igvf_sc-islet_10X-Multiome/results/5_peak_analysis/peak_calls/rna_celltype/12-1/snapatac2/SC.delta.narrowPeak',\n",
       " 'SC.alpha': '/cellar/users/aklie/data/datasets/igvf_sc-islet_10X-Multiome/results/5_peak_analysis/peak_calls/rna_celltype/12-1/snapatac2/SC.alpha.narrowPeak',\n",
       " 'SC.EC': '/cellar/users/aklie/data/datasets/igvf_sc-islet_10X-Multiome/results/5_peak_analysis/peak_calls/rna_celltype/12-1/snapatac2/SC.EC.narrowPeak',\n",
       " 'SC.beta': '/cellar/users/aklie/data/datasets/igvf_sc-islet_10X-Multiome/results/5_peak_analysis/peak_calls/rna_celltype/12-1/snapatac2/SC.beta.narrowPeak'}"
      ]
     },
     "execution_count": 230,
     "metadata": {},
     "output_type": "execute_result"
    }
   ],
   "source": [
    "# Get narrowPeaks\n",
    "narrowPeaks = {}\n",
    "for f in glob.glob(f\"{path_narrowPeaks}/*.narrowPeak\"):\n",
    "    celltype = os.path.basename(f).split(\".narrowPeak\")[0]\n",
    "    narrowPeaks[celltype] = f\n",
    "narrowPeaks = {k: v for k, v in narrowPeaks.items() if \"top\" not in k}\n",
    "narrowPeaks"
   ]
  },
  {
   "cell_type": "code",
   "execution_count": 231,
   "metadata": {},
   "outputs": [
    {
     "name": "stdout",
     "output_type": "stream",
     "text": [
      "sort -k8,8nr /cellar/users/aklie/data/datasets/igvf_sc-islet_10X-Multiome/results/5_peak_analysis/peak_calls/rna_celltype/12-1/snapatac2/SC.delta.narrowPeak | head -n 250000 > /cellar/users/aklie/data/datasets/igvf_sc-islet_10X-Multiome/results/8_chrombpnet/rna_celltype_250k/SC.delta/SC.delta.top250k.narrowPeak\n",
      "sort -k8,8nr /cellar/users/aklie/data/datasets/igvf_sc-islet_10X-Multiome/results/5_peak_analysis/peak_calls/rna_celltype/12-1/snapatac2/SC.alpha.narrowPeak | head -n 250000 > /cellar/users/aklie/data/datasets/igvf_sc-islet_10X-Multiome/results/8_chrombpnet/rna_celltype_250k/SC.alpha/SC.alpha.top250k.narrowPeak\n",
      "sort -k8,8nr /cellar/users/aklie/data/datasets/igvf_sc-islet_10X-Multiome/results/5_peak_analysis/peak_calls/rna_celltype/12-1/snapatac2/SC.EC.narrowPeak | head -n 250000 > /cellar/users/aklie/data/datasets/igvf_sc-islet_10X-Multiome/results/8_chrombpnet/rna_celltype_250k/SC.EC/SC.EC.top250k.narrowPeak\n",
      "sort -k8,8nr /cellar/users/aklie/data/datasets/igvf_sc-islet_10X-Multiome/results/5_peak_analysis/peak_calls/rna_celltype/12-1/snapatac2/SC.beta.narrowPeak | head -n 250000 > /cellar/users/aklie/data/datasets/igvf_sc-islet_10X-Multiome/results/8_chrombpnet/rna_celltype_250k/SC.beta/SC.beta.top250k.narrowPeak\n"
     ]
    }
   ],
   "source": [
    "# Run for each peak set sort -k8,8nr input.narrowPeak | head -n 250000 > top_250k_peaks.narrowPeak\n",
    "for celltype, narrowPeak in narrowPeaks.items():\n",
    "    os.makedirs(f\"{path_out}/{celltype}\", exist_ok=True)\n",
    "    cmd = f\"sort -k8,8nr {narrowPeak} | head -n 250000 > {path_out}/{celltype}/{celltype}.top250k.narrowPeak\"\n",
    "    print(cmd)\n",
    "    #os.system(cmd)\n",
    "    narrowPeaks[celltype] = f\"{path_out}/{celltype}/{celltype}.top250k.narrowPeak\""
   ]
  },
  {
   "cell_type": "code",
   "execution_count": 232,
   "metadata": {},
   "outputs": [],
   "source": [
    "# Make sure keys are the same\n",
    "assert set(fragments.keys()) == set(narrowPeaks.keys())"
   ]
  },
  {
   "cell_type": "code",
   "execution_count": 233,
   "metadata": {},
   "outputs": [
    {
     "data": {
      "text/plain": [
       "['SC.alpha', 'SC.beta', 'SC.EC', 'SC.delta']"
      ]
     },
     "execution_count": 233,
     "metadata": {},
     "output_type": "execute_result"
    }
   ],
   "source": [
    "# Define the groups to train models on\n",
    "groups = list(fragments.keys())\n",
    "groups"
   ]
  },
  {
   "cell_type": "markdown",
   "metadata": {},
   "source": [
    "# Negatives"
   ]
  },
  {
   "cell_type": "code",
   "execution_count": 234,
   "metadata": {},
   "outputs": [],
   "source": [
    "path_scripts = \"/cellar/users/aklie/data/datasets/igvf_sc-islet_10X-Multiome/bin/8_chrombpnet/scripts/negatives\"\n",
    "name = \"celltype_250k\""
   ]
  },
  {
   "cell_type": "code",
   "execution_count": 235,
   "metadata": {},
   "outputs": [],
   "source": [
    "folds = 1\n",
    "celltypes = []\n",
    "peaks = []\n",
    "output_dirs = []\n",
    "fold_lst = []\n",
    "for group in groups:\n",
    "    for i in range(folds):\n",
    "        outdir = f\"{path_out}/{group}/fold_{i}/negatives\"\n",
    "        os.makedirs(outdir, exist_ok=True)\n",
    "        peakset = narrowPeaks[group]\n",
    "        celltypes.append(group)\n",
    "        peaks.append(peakset)\n",
    "        output_dirs.append(outdir)\n",
    "        fold_lst.append(i)"
   ]
  },
  {
   "cell_type": "code",
   "execution_count": 236,
   "metadata": {},
   "outputs": [
    {
     "name": "stdout",
     "output_type": "stream",
     "text": [
      "celltypes=(\n",
      "\tSC.alpha\n",
      "\tSC.beta\n",
      "\tSC.EC\n",
      "\tSC.delta\n",
      ")\n"
     ]
    }
   ],
   "source": [
    "# Print out celltypes in same way I would write a bash array so I can copy paste into a script\n",
    "celltypes_str=\"celltypes=(\\n\"\n",
    "for celltype in celltypes:\n",
    "    celltypes_str += f\"\\t{celltype}\\n\"\n",
    "celltypes_str += \")\"\n",
    "print(celltypes_str)"
   ]
  },
  {
   "cell_type": "code",
   "execution_count": 237,
   "metadata": {},
   "outputs": [
    {
     "name": "stdout",
     "output_type": "stream",
     "text": [
      "peaks=(\n",
      "\t/cellar/users/aklie/data/datasets/igvf_sc-islet_10X-Multiome/results/8_chrombpnet/rna_celltype_250k/SC.alpha/SC.alpha.top250k.narrowPeak\n",
      "\t/cellar/users/aklie/data/datasets/igvf_sc-islet_10X-Multiome/results/8_chrombpnet/rna_celltype_250k/SC.beta/SC.beta.top250k.narrowPeak\n",
      "\t/cellar/users/aklie/data/datasets/igvf_sc-islet_10X-Multiome/results/8_chrombpnet/rna_celltype_250k/SC.EC/SC.EC.top250k.narrowPeak\n",
      "\t/cellar/users/aklie/data/datasets/igvf_sc-islet_10X-Multiome/results/8_chrombpnet/rna_celltype_250k/SC.delta/SC.delta.top250k.narrowPeak\n",
      ")\n"
     ]
    }
   ],
   "source": [
    "# Samme for peaks\n",
    "peaks_str=\"peaks=(\\n\"\n",
    "for peak in peaks:\n",
    "    peaks_str += f\"\\t{peak}\\n\"\n",
    "peaks_str += \")\"\n",
    "print(peaks_str)"
   ]
  },
  {
   "cell_type": "code",
   "execution_count": 238,
   "metadata": {},
   "outputs": [],
   "source": [
    "# Samme for output_dirs\n",
    "output_dirs_str=\"output_dirs=(\\n\"\n",
    "for output_dir in output_dirs:\n",
    "    output_dirs_str += f\"\\t{output_dir}\\n\"\n",
    "output_dirs_str += \")\""
   ]
  },
  {
   "cell_type": "code",
   "execution_count": 239,
   "metadata": {},
   "outputs": [
    {
     "name": "stdout",
     "output_type": "stream",
     "text": [
      "folds=(\n",
      "\t0\n",
      "\t0\n",
      "\t0\n",
      "\t0\n",
      ")\n"
     ]
    }
   ],
   "source": [
    "#  Samme for fold_lst\n",
    "fold_lst_str=\"folds=(\\n\"\n",
    "for fold in fold_lst:\n",
    "    fold_lst_str += f\"\\t{fold}\\n\"\n",
    "fold_lst_str += \")\"\n",
    "print(fold_lst_str)"
   ]
  },
  {
   "cell_type": "code",
   "execution_count": 240,
   "metadata": {},
   "outputs": [],
   "source": [
    "# Create a template script for negatives that looks like this\n",
    "template = '''#! /bin/bash\n",
    "\n",
    "#####\n",
    "# Script to run chrombpnet negatives command\n",
    "# USAGE: sbatch \\\n",
    "--job-name=negatives \\\n",
    "--partition carter-compute \\\n",
    "--output slurm_logs/%x.%A.%a.out \\\n",
    "--mem=16G \\\n",
    "-n 1 \\\n",
    "-t 02-00:00:00 \\\n",
    "--array=1-12%12 \\\n",
    "chrombpnet_negatives.sh\n",
    "#####\n",
    "\n",
    "date\n",
    "echo -e \"Job ID: $SLURM_JOB_ID\\\\n\"\n",
    "\n",
    "# Set-up env\n",
    "source activate chrombpnet\n",
    "\n",
    "# file lists\n",
    "{}\n",
    "{}\n",
    "{}\n",
    "{}\n",
    "\n",
    "# Grab each for this SLURM task\n",
    "celltype=${{celltypes[$SLURM_ARRAY_TASK_ID - 1]}}\n",
    "peak=${{peaks[$SLURM_ARRAY_TASK_ID - 1]}}\n",
    "fold=${{folds[$SLURM_ARRAY_TASK_ID - 1]}}\n",
    "output_dir=${{output_dirs[$SLURM_ARRAY_TASK_ID - 1]}}\n",
    "\n",
    "# echo the celltype and peak\n",
    "echo -e \"Celltype: $celltype\"\n",
    "echo -e \"Peakset: $peak\"\n",
    "echo -e \"Fold: $fold\"\n",
    "echo -e \"Output directory: $output_dir\\\\n\"\n",
    "\n",
    "# make the output directory\n",
    "mkdir -p $output_dir\n",
    "\n",
    "# Run cmd\n",
    "cmd=\"chrombpnet prep nonpeaks \\\n",
    "-g {} \\\n",
    "-c {} \\\n",
    "-p $peak \\\n",
    "-fl {}/fold_${{fold}}.json \\\n",
    "-br {} \\\n",
    "-o $output_dir/${{celltype}}\"\n",
    "echo -e \"Running command:\\\\n$cmd\\\\n\"\n",
    "eval $cmd\n",
    "\n",
    "# Date\n",
    "date\n",
    "'''"
   ]
  },
  {
   "cell_type": "code",
   "execution_count": 241,
   "metadata": {},
   "outputs": [],
   "source": [
    "# Write the script\n",
    "with open(f\"{path_scripts}/{name}_negatives.sh\", \"w\") as f:\n",
    "    f.write(template.format(\n",
    "        celltypes_str,\n",
    "        peaks_str,\n",
    "        fold_lst_str,\n",
    "        output_dirs_str,\n",
    "        path_genome_fasta,\n",
    "        path_chromsizes,\n",
    "        path_fold_dir,\n",
    "        path_blacklist\n",
    "    ))"
   ]
  },
  {
   "cell_type": "markdown",
   "metadata": {},
   "source": [
    "# Bias models"
   ]
  },
  {
   "cell_type": "code",
   "execution_count": 242,
   "metadata": {},
   "outputs": [],
   "source": [
    "path_scripts = \"/cellar/users/aklie/data/datasets/igvf_sc-islet_10X-Multiome/bin/8_chrombpnet/scripts/bias_pipeline\"\n",
    "os.makedirs(path_scripts, exist_ok=True)\n",
    "name = \"celltype_250k\"\n",
    "beta = 0.8"
   ]
  },
  {
   "cell_type": "code",
   "execution_count": 243,
   "metadata": {},
   "outputs": [],
   "source": [
    "# Find negatives\n",
    "negatives = {}\n",
    "for outdir in output_dirs:\n",
    "    group = outdir.split(\"/\")[-3]\n",
    "    negatives[group] = f\"{outdir}/{group}_negatives.bed\""
   ]
  },
  {
   "cell_type": "code",
   "execution_count": 245,
   "metadata": {},
   "outputs": [
    {
     "data": {
      "text/plain": [
       "['/cellar/users/aklie/data/datasets/igvf_sc-islet_10X-Multiome/results/8_chrombpnet/rna_celltype_250k/SC.alpha/fold_0/bias_model/$beta',\n",
       " '/cellar/users/aklie/data/datasets/igvf_sc-islet_10X-Multiome/results/8_chrombpnet/rna_celltype_250k/SC.beta/fold_0/bias_model/$beta',\n",
       " '/cellar/users/aklie/data/datasets/igvf_sc-islet_10X-Multiome/results/8_chrombpnet/rna_celltype_250k/SC.EC/fold_0/bias_model/$beta',\n",
       " '/cellar/users/aklie/data/datasets/igvf_sc-islet_10X-Multiome/results/8_chrombpnet/rna_celltype_250k/SC.delta/fold_0/bias_model/$beta']"
      ]
     },
     "execution_count": 245,
     "metadata": {},
     "output_type": "execute_result"
    }
   ],
   "source": [
    "# Update output_dirs to replace \"negatives\" with bias_model/$beta\n",
    "output_dirs = [f\"{outdir.replace('/negatives', '')}/bias_model/$beta\" for outdir in output_dirs]\n",
    "output_dirs"
   ]
  },
  {
   "cell_type": "code",
   "execution_count": 246,
   "metadata": {},
   "outputs": [
    {
     "name": "stdout",
     "output_type": "stream",
     "text": [
      "negatives=(\n",
      "\t/cellar/users/aklie/data/datasets/igvf_sc-islet_10X-Multiome/results/8_chrombpnet/rna_celltype_250k/SC.alpha/fold_0/negatives/SC.alpha_negatives.bed\n",
      "\t/cellar/users/aklie/data/datasets/igvf_sc-islet_10X-Multiome/results/8_chrombpnet/rna_celltype_250k/SC.beta/fold_0/negatives/SC.beta_negatives.bed\n",
      "\t/cellar/users/aklie/data/datasets/igvf_sc-islet_10X-Multiome/results/8_chrombpnet/rna_celltype_250k/SC.EC/fold_0/negatives/SC.EC_negatives.bed\n",
      "\t/cellar/users/aklie/data/datasets/igvf_sc-islet_10X-Multiome/results/8_chrombpnet/rna_celltype_250k/SC.delta/fold_0/negatives/SC.delta_negatives.bed\n",
      ")\n"
     ]
    }
   ],
   "source": [
    "# Same for neegatives\n",
    "negatives_str=\"negatives=(\\n\"\n",
    "for negative in negatives.values():\n",
    "    negatives_str += f\"\\t{negative}\\n\"\n",
    "negatives_str += \")\"\n",
    "print(negatives_str)"
   ]
  },
  {
   "cell_type": "code",
   "execution_count": 247,
   "metadata": {},
   "outputs": [
    {
     "name": "stdout",
     "output_type": "stream",
     "text": [
      "output_dirs=(\n",
      "\t/cellar/users/aklie/data/datasets/igvf_sc-islet_10X-Multiome/results/8_chrombpnet/rna_celltype_250k/SC.alpha/fold_0/bias_model/$beta\n",
      "\t/cellar/users/aklie/data/datasets/igvf_sc-islet_10X-Multiome/results/8_chrombpnet/rna_celltype_250k/SC.beta/fold_0/bias_model/$beta\n",
      "\t/cellar/users/aklie/data/datasets/igvf_sc-islet_10X-Multiome/results/8_chrombpnet/rna_celltype_250k/SC.EC/fold_0/bias_model/$beta\n",
      "\t/cellar/users/aklie/data/datasets/igvf_sc-islet_10X-Multiome/results/8_chrombpnet/rna_celltype_250k/SC.delta/fold_0/bias_model/$beta\n",
      ")\n"
     ]
    }
   ],
   "source": [
    "# Same for output_dirs\n",
    "output_dirs_str=\"output_dirs=(\\n\"\n",
    "for output_dir in output_dirs:\n",
    "    output_dirs_str += f\"\\t{output_dir}\\n\"\n",
    "output_dirs_str += \")\"\n",
    "print(output_dirs_str)"
   ]
  },
  {
   "cell_type": "code",
   "execution_count": 248,
   "metadata": {},
   "outputs": [
    {
     "name": "stdout",
     "output_type": "stream",
     "text": [
      "fragments=(\n",
      "\t/cellar/users/aklie/data/datasets/igvf_sc-islet_10X-Multiome/results/4_integration/atac/pseudobulk/rna_celltype/12-1/fragments/SC.alpha.bed.gz\n",
      "\t/cellar/users/aklie/data/datasets/igvf_sc-islet_10X-Multiome/results/4_integration/atac/pseudobulk/rna_celltype/12-1/fragments/SC.beta.bed.gz\n",
      "\t/cellar/users/aklie/data/datasets/igvf_sc-islet_10X-Multiome/results/4_integration/atac/pseudobulk/rna_celltype/12-1/fragments/SC.EC.bed.gz\n",
      "\t/cellar/users/aklie/data/datasets/igvf_sc-islet_10X-Multiome/results/4_integration/atac/pseudobulk/rna_celltype/12-1/fragments/SC.delta.bed.gz\n",
      ")\n"
     ]
    }
   ],
   "source": [
    "# Same for fragments\n",
    "fragments_str=\"fragments=(\\n\"\n",
    "for fragment in fragments.values():\n",
    "    fragments_str += f\"\\t{fragment}\\n\"\n",
    "fragments_str += \")\"\n",
    "print(fragments_str)"
   ]
  },
  {
   "cell_type": "code",
   "execution_count": 249,
   "metadata": {},
   "outputs": [],
   "source": [
    "# Create a template script for negatives that looks like this\n",
    "template = '''#! /bin/bash\n",
    "\n",
    "#####\n",
    "# Script to run chrombpnet bias model pipeline on single input sample in fragment file\n",
    "# USAGE: sbatch \\\n",
    "--job-name=chrombpnet_bias_pipeline \\\n",
    "--account carter-gpu \\\n",
    "--partition carter-gpu \\\n",
    "--gpus=a30:1 \\\n",
    "--output slurm_logs/%x.%A.%a.out \\\n",
    "--mem=128G \\\n",
    "-n 4 \\\n",
    "-t 02-00:00:00 \\\n",
    "--array=1-12%12 \\\n",
    "chrombpnet_bias_pipeline.sh\n",
    "#####\n",
    "\n",
    "date\n",
    "echo -e \"Job ID: $SLURM_JOB_ID\\\\n\"\n",
    "\n",
    "# Set-up env\n",
    "source activate chrombpnet\n",
    "\n",
    "# file lists\n",
    "beta={}\n",
    "{}\n",
    "{}\n",
    "{}\n",
    "{}\n",
    "{}\n",
    "{}\n",
    "\n",
    "# Grab each for this SLURM task\n",
    "celltype=${{celltypes[$SLURM_ARRAY_TASK_ID - 1]}}\n",
    "fragment=${{fragments[$SLURM_ARRAY_TASK_ID - 1]}}\n",
    "peak=${{peaks[$SLURM_ARRAY_TASK_ID - 1]}}\n",
    "fold=${{folds[$SLURM_ARRAY_TASK_ID - 1]}}\n",
    "negative=${{negatives[$SLURM_ARRAY_TASK_ID - 1]}}\n",
    "output_dir=${{output_dirs[$SLURM_ARRAY_TASK_ID - 1]}}\n",
    "\n",
    "# echo the celltype and peak\n",
    "echo -e \"Celltype: $celltype\"\n",
    "echo -e \"Fragment: $fragment\"\n",
    "echo -e \"Peakset: $peak\"\n",
    "echo -e \"Fold: $fold\"\n",
    "echo -e \"Negatives: $negative\"\n",
    "echo -e \"Output directory: $output_dir\\\\n\"\n",
    "\n",
    "# make the output directory\n",
    "mkdir -p $output_dir\n",
    "\n",
    "# Run cmd\n",
    "cmd=\"chrombpnet bias pipeline \\\n",
    "-ifrag $fragment \\\n",
    "-d \"ATAC\" \\\n",
    "-g {} \\\n",
    "-c {} \\\n",
    "-p $peak \\\n",
    "-n $negative \\\n",
    "-fl {}/fold_${{fold}}.json \\\n",
    "-b $beta \\\n",
    "-o $output_dir \\\n",
    "-fp $celltype\"\n",
    "echo -e \"Running command:\\\\n$cmd\\\\n\"\n",
    "eval $cmd\n",
    "\n",
    "# Date\n",
    "date\n",
    "'''"
   ]
  },
  {
   "cell_type": "code",
   "execution_count": 250,
   "metadata": {},
   "outputs": [],
   "source": [
    "# Write the script\n",
    "with open(f\"{path_scripts}/{name}_bias_pipeline.sh\", \"w\") as f:\n",
    "    f.write(template.format(\n",
    "        beta,\n",
    "        celltypes_str,\n",
    "        fragments_str,\n",
    "        peaks_str,\n",
    "        fold_lst_str,\n",
    "        negatives_str,\n",
    "        output_dirs_str,\n",
    "        path_genome_fasta,\n",
    "        path_chromsizes,\n",
    "        path_fold_dir,\n",
    "    ))\n"
   ]
  },
  {
   "cell_type": "markdown",
   "metadata": {},
   "source": [
    "# Prep dataset config"
   ]
  },
  {
   "cell_type": "code",
   "execution_count": 7,
   "metadata": {},
   "outputs": [],
   "source": [
    "# path to template config file\n",
    "path_config = \"/cellar/users/aklie/data/datasets/igvf_sc-islet_10X-Multiome/bin/8_sequence_models/configs/prep_dataset_template.yaml\""
   ]
  },
  {
   "cell_type": "code",
   "execution_count": 8,
   "metadata": {},
   "outputs": [
    {
     "data": {
      "text/plain": [
       "{'name': 'celltype_name',\n",
       " 'threads': 4,\n",
       " 'random_state': 1234,\n",
       " 'seqdata': {'fasta': '/cellar/users/aklie/data/ref/genomes/hg38/hg38.fa',\n",
       "  'seq_var': 'seq',\n",
       "  'bws': ['unstranded.bw'],\n",
       "  'bw_names': ['celltype_name'],\n",
       "  'cov_var': 'cov',\n",
       "  'loci': 'celltype_name.narrowPeak',\n",
       "  'batch_size': 1000,\n",
       "  'fixed_length': 2114,\n",
       "  'target_length': 1000,\n",
       "  'alphabet': 'DNA',\n",
       "  'upper_case': False,\n",
       "  'add_rev_comp': False,\n",
       "  'max_jitter': 512},\n",
       " 'negatives': {'gc_bin_width': 0.02,\n",
       "  'max_n_perc': 0.1,\n",
       "  'signal': 'unstranded.bw',\n",
       "  'signal_beta': 0.5,\n",
       "  'in_window': 2114,\n",
       "  'out_window': 1000,\n",
       "  'random_state': 1234},\n",
       " 'splits': '/cellar/users/aklie/projects/ML4GLand/tutorials/data/splits/ENCODE_cross-val.json'}"
      ]
     },
     "execution_count": 8,
     "metadata": {},
     "output_type": "execute_result"
    }
   ],
   "source": [
    "# load template config\n",
    "config = yaml.safe_load(open(path_config, 'r'))\n",
    "config"
   ]
  },
  {
   "cell_type": "code",
   "execution_count": 9,
   "metadata": {},
   "outputs": [],
   "source": [
    "# Only use these signal betas\n",
    "signal_betas = [0.5]"
   ]
  },
  {
   "cell_type": "code",
   "execution_count": 25,
   "metadata": {},
   "outputs": [
    {
     "name": "stdout",
     "output_type": "stream",
     "text": [
      "/cellar/users/aklie/data/datasets/igvf_sc-islet_10X-Multiome/results/8_sequence_models/atac/rna_celltype+condition+timepoint/SC.EC_dex_72/prep_dataset/0.5/SC.EC_dex_72.yaml\n",
      "/cellar/users/aklie/data/datasets/igvf_sc-islet_10X-Multiome/results/8_sequence_models/atac/rna_celltype+condition+timepoint/SC.delta_palmitate_72/prep_dataset/0.5/SC.delta_palmitate_72.yaml\n",
      "/cellar/users/aklie/data/datasets/igvf_sc-islet_10X-Multiome/results/8_sequence_models/atac/rna_celltype+condition+timepoint/SC.alpha_dex_72/prep_dataset/0.5/SC.alpha_dex_72.yaml\n",
      "/cellar/users/aklie/data/datasets/igvf_sc-islet_10X-Multiome/results/8_sequence_models/atac/rna_celltype+condition+timepoint/SC.beta_Ex-4_HG_24/prep_dataset/0.5/SC.beta_Ex-4_HG_24.yaml\n",
      "/cellar/users/aklie/data/datasets/igvf_sc-islet_10X-Multiome/results/8_sequence_models/atac/rna_celltype+condition+timepoint/SC.beta_control_72/prep_dataset/0.5/SC.beta_control_72.yaml\n",
      "/cellar/users/aklie/data/datasets/igvf_sc-islet_10X-Multiome/results/8_sequence_models/atac/rna_celltype+condition+timepoint/SC.EC_IFNg_72/prep_dataset/0.5/SC.EC_IFNg_72.yaml\n",
      "/cellar/users/aklie/data/datasets/igvf_sc-islet_10X-Multiome/results/8_sequence_models/atac/rna_celltype+condition+timepoint/SC.alpha_IFNg_72/prep_dataset/0.5/SC.alpha_IFNg_72.yaml\n",
      "/cellar/users/aklie/data/datasets/igvf_sc-islet_10X-Multiome/results/8_sequence_models/atac/rna_celltype+condition+timepoint/SC.delta_3-cyt_72/prep_dataset/0.5/SC.delta_3-cyt_72.yaml\n",
      "/cellar/users/aklie/data/datasets/igvf_sc-islet_10X-Multiome/results/8_sequence_models/atac/rna_celltype+condition+timepoint/SC.beta_dex_24/prep_dataset/0.5/SC.beta_dex_24.yaml\n",
      "/cellar/users/aklie/data/datasets/igvf_sc-islet_10X-Multiome/results/8_sequence_models/atac/rna_celltype+condition+timepoint/SC.delta_control_48/prep_dataset/0.5/SC.delta_control_48.yaml\n",
      "/cellar/users/aklie/data/datasets/igvf_sc-islet_10X-Multiome/results/8_sequence_models/atac/rna_celltype+condition+timepoint/SC.delta_Ex-4_HG_6/prep_dataset/0.5/SC.delta_Ex-4_HG_6.yaml\n",
      "/cellar/users/aklie/data/datasets/igvf_sc-islet_10X-Multiome/results/8_sequence_models/atac/rna_celltype+condition+timepoint/SC.delta_palmitate_6/prep_dataset/0.5/SC.delta_palmitate_6.yaml\n",
      "/cellar/users/aklie/data/datasets/igvf_sc-islet_10X-Multiome/results/8_sequence_models/atac/rna_celltype+condition+timepoint/SC.beta_Ex-4_HG_6/prep_dataset/0.5/SC.beta_Ex-4_HG_6.yaml\n",
      "/cellar/users/aklie/data/datasets/igvf_sc-islet_10X-Multiome/results/8_sequence_models/atac/rna_celltype+condition+timepoint/SC.beta_palmitate_24/prep_dataset/0.5/SC.beta_palmitate_24.yaml\n",
      "/cellar/users/aklie/data/datasets/igvf_sc-islet_10X-Multiome/results/8_sequence_models/atac/rna_celltype+condition+timepoint/SC.EC_control_48/prep_dataset/0.5/SC.EC_control_48.yaml\n",
      "/cellar/users/aklie/data/datasets/igvf_sc-islet_10X-Multiome/results/8_sequence_models/atac/rna_celltype+condition+timepoint/SC.alpha_control_48/prep_dataset/0.5/SC.alpha_control_48.yaml\n",
      "/cellar/users/aklie/data/datasets/igvf_sc-islet_10X-Multiome/results/8_sequence_models/atac/rna_celltype+condition+timepoint/SC.beta_Ex-4_HG_48/prep_dataset/0.5/SC.beta_Ex-4_HG_48.yaml\n",
      "/cellar/users/aklie/data/datasets/igvf_sc-islet_10X-Multiome/results/8_sequence_models/atac/rna_celltype+condition+timepoint/SC.beta_control_48/prep_dataset/0.5/SC.beta_control_48.yaml\n",
      "/cellar/users/aklie/data/datasets/igvf_sc-islet_10X-Multiome/results/8_sequence_models/atac/rna_celltype+condition+timepoint/SC.delta_IFNg_48/prep_dataset/0.5/SC.delta_IFNg_48.yaml\n",
      "/cellar/users/aklie/data/datasets/igvf_sc-islet_10X-Multiome/results/8_sequence_models/atac/rna_celltype+condition+timepoint/SC.EC_palmitate_24/prep_dataset/0.5/SC.EC_palmitate_24.yaml\n",
      "/cellar/users/aklie/data/datasets/igvf_sc-islet_10X-Multiome/results/8_sequence_models/atac/rna_celltype+condition+timepoint/SC.alpha_palmitate_24/prep_dataset/0.5/SC.alpha_palmitate_24.yaml\n",
      "/cellar/users/aklie/data/datasets/igvf_sc-islet_10X-Multiome/results/8_sequence_models/atac/rna_celltype+condition+timepoint/SC.beta_control_24/prep_dataset/0.5/SC.beta_control_24.yaml\n",
      "/cellar/users/aklie/data/datasets/igvf_sc-islet_10X-Multiome/results/8_sequence_models/atac/rna_celltype+condition+timepoint/SC.beta_IFNg_72/prep_dataset/0.5/SC.beta_IFNg_72.yaml\n",
      "/cellar/users/aklie/data/datasets/igvf_sc-islet_10X-Multiome/results/8_sequence_models/atac/rna_celltype+condition+timepoint/SC.EC_Ex-4_HG_48/prep_dataset/0.5/SC.EC_Ex-4_HG_48.yaml\n",
      "/cellar/users/aklie/data/datasets/igvf_sc-islet_10X-Multiome/results/8_sequence_models/atac/rna_celltype+condition+timepoint/SC.delta_3-cyt_6/prep_dataset/0.5/SC.delta_3-cyt_6.yaml\n",
      "/cellar/users/aklie/data/datasets/igvf_sc-islet_10X-Multiome/results/8_sequence_models/atac/rna_celltype+condition+timepoint/SC.alpha_Ex-4_HG_48/prep_dataset/0.5/SC.alpha_Ex-4_HG_48.yaml\n",
      "/cellar/users/aklie/data/datasets/igvf_sc-islet_10X-Multiome/results/8_sequence_models/atac/rna_celltype+condition+timepoint/SC.delta_control_24/prep_dataset/0.5/SC.delta_control_24.yaml\n",
      "/cellar/users/aklie/data/datasets/igvf_sc-islet_10X-Multiome/results/8_sequence_models/atac/rna_celltype+condition+timepoint/SC.delta_dex_72/prep_dataset/0.5/SC.delta_dex_72.yaml\n",
      "/cellar/users/aklie/data/datasets/igvf_sc-islet_10X-Multiome/results/8_sequence_models/atac/rna_celltype+condition+timepoint/SC.beta_palmitate_48/prep_dataset/0.5/SC.beta_palmitate_48.yaml\n",
      "/cellar/users/aklie/data/datasets/igvf_sc-islet_10X-Multiome/results/8_sequence_models/atac/rna_celltype+condition+timepoint/SC.EC_3-cyt_48/prep_dataset/0.5/SC.EC_3-cyt_48.yaml\n",
      "/cellar/users/aklie/data/datasets/igvf_sc-islet_10X-Multiome/results/8_sequence_models/atac/rna_celltype+condition+timepoint/SC.alpha_3-cyt_48/prep_dataset/0.5/SC.alpha_3-cyt_48.yaml\n",
      "/cellar/users/aklie/data/datasets/igvf_sc-islet_10X-Multiome/results/8_sequence_models/atac/rna_celltype+condition+timepoint/SC.delta_dex_48/prep_dataset/0.5/SC.delta_dex_48.yaml\n",
      "/cellar/users/aklie/data/datasets/igvf_sc-islet_10X-Multiome/results/8_sequence_models/atac/rna_celltype+condition+timepoint/SC.beta_control_6/prep_dataset/0.5/SC.beta_control_6.yaml\n",
      "/cellar/users/aklie/data/datasets/igvf_sc-islet_10X-Multiome/results/8_sequence_models/atac/rna_celltype+condition+timepoint/SC.beta_palmitate_6/prep_dataset/0.5/SC.beta_palmitate_6.yaml\n",
      "/cellar/users/aklie/data/datasets/igvf_sc-islet_10X-Multiome/results/8_sequence_models/atac/rna_celltype+condition+timepoint/SC.beta_control_0/prep_dataset/0.5/SC.beta_control_0.yaml\n",
      "/cellar/users/aklie/data/datasets/igvf_sc-islet_10X-Multiome/results/8_sequence_models/atac/rna_celltype+condition+timepoint/SC.beta_3-cyt_24/prep_dataset/0.5/SC.beta_3-cyt_24.yaml\n",
      "/cellar/users/aklie/data/datasets/igvf_sc-islet_10X-Multiome/results/8_sequence_models/atac/rna_celltype+condition+timepoint/SC.EC_dex_24/prep_dataset/0.5/SC.EC_dex_24.yaml\n",
      "/cellar/users/aklie/data/datasets/igvf_sc-islet_10X-Multiome/results/8_sequence_models/atac/rna_celltype+condition+timepoint/SC.delta_palmitate_24/prep_dataset/0.5/SC.delta_palmitate_24.yaml\n",
      "/cellar/users/aklie/data/datasets/igvf_sc-islet_10X-Multiome/results/8_sequence_models/atac/rna_celltype+condition+timepoint/SC.alpha_dex_24/prep_dataset/0.5/SC.alpha_dex_24.yaml\n",
      "/cellar/users/aklie/data/datasets/igvf_sc-islet_10X-Multiome/results/8_sequence_models/atac/rna_celltype+condition+timepoint/SC.beta_Ex-4_HG_72/prep_dataset/0.5/SC.beta_Ex-4_HG_72.yaml\n",
      "/cellar/users/aklie/data/datasets/igvf_sc-islet_10X-Multiome/results/8_sequence_models/atac/rna_celltype+condition+timepoint/SC.beta_dex_72/prep_dataset/0.5/SC.beta_dex_72.yaml\n",
      "/cellar/users/aklie/data/datasets/igvf_sc-islet_10X-Multiome/results/8_sequence_models/atac/rna_celltype+condition+timepoint/SC.beta_3-cyt_6/prep_dataset/0.5/SC.beta_3-cyt_6.yaml\n",
      "/cellar/users/aklie/data/datasets/igvf_sc-islet_10X-Multiome/results/8_sequence_models/atac/rna_celltype+condition+timepoint/SC.EC_Ex-4_HG_24/prep_dataset/0.5/SC.EC_Ex-4_HG_24.yaml\n",
      "/cellar/users/aklie/data/datasets/igvf_sc-islet_10X-Multiome/results/8_sequence_models/atac/rna_celltype+condition+timepoint/SC.alpha_Ex-4_HG_24/prep_dataset/0.5/SC.alpha_Ex-4_HG_24.yaml\n",
      "/cellar/users/aklie/data/datasets/igvf_sc-islet_10X-Multiome/results/8_sequence_models/atac/rna_celltype+condition+timepoint/SC.delta_Ex-4_HG_24/prep_dataset/0.5/SC.delta_Ex-4_HG_24.yaml\n",
      "/cellar/users/aklie/data/datasets/igvf_sc-islet_10X-Multiome/results/8_sequence_models/atac/rna_celltype+condition+timepoint/SC.delta_dex_24/prep_dataset/0.5/SC.delta_dex_24.yaml\n",
      "/cellar/users/aklie/data/datasets/igvf_sc-islet_10X-Multiome/results/8_sequence_models/atac/rna_celltype+condition+timepoint/SC.delta_control_0/prep_dataset/0.5/SC.delta_control_0.yaml\n",
      "/cellar/users/aklie/data/datasets/igvf_sc-islet_10X-Multiome/results/8_sequence_models/atac/rna_celltype+condition+timepoint/SC.delta_IFNg_24/prep_dataset/0.5/SC.delta_IFNg_24.yaml\n",
      "/cellar/users/aklie/data/datasets/igvf_sc-islet_10X-Multiome/results/8_sequence_models/atac/rna_celltype+condition+timepoint/SC.beta_IFNg_6/prep_dataset/0.5/SC.beta_IFNg_6.yaml\n",
      "/cellar/users/aklie/data/datasets/igvf_sc-islet_10X-Multiome/results/8_sequence_models/atac/rna_celltype+condition+timepoint/SC.EC_IFNg_6/prep_dataset/0.5/SC.EC_IFNg_6.yaml\n",
      "/cellar/users/aklie/data/datasets/igvf_sc-islet_10X-Multiome/results/8_sequence_models/atac/rna_celltype+condition+timepoint/SC.alpha_IFNg_6/prep_dataset/0.5/SC.alpha_IFNg_6.yaml\n",
      "/cellar/users/aklie/data/datasets/igvf_sc-islet_10X-Multiome/results/8_sequence_models/atac/rna_celltype+condition+timepoint/SC.EC_3-cyt_24/prep_dataset/0.5/SC.EC_3-cyt_24.yaml\n",
      "/cellar/users/aklie/data/datasets/igvf_sc-islet_10X-Multiome/results/8_sequence_models/atac/rna_celltype+condition+timepoint/SC.delta_IFNg_6/prep_dataset/0.5/SC.delta_IFNg_6.yaml\n",
      "/cellar/users/aklie/data/datasets/igvf_sc-islet_10X-Multiome/results/8_sequence_models/atac/rna_celltype+condition+timepoint/SC.alpha_3-cyt_24/prep_dataset/0.5/SC.alpha_3-cyt_24.yaml\n",
      "/cellar/users/aklie/data/datasets/igvf_sc-islet_10X-Multiome/results/8_sequence_models/atac/rna_celltype+condition+timepoint/SC.delta_control_6/prep_dataset/0.5/SC.delta_control_6.yaml\n",
      "/cellar/users/aklie/data/datasets/igvf_sc-islet_10X-Multiome/results/8_sequence_models/atac/rna_celltype+condition+timepoint/SC.EC_palmitate_72/prep_dataset/0.5/SC.EC_palmitate_72.yaml\n",
      "/cellar/users/aklie/data/datasets/igvf_sc-islet_10X-Multiome/results/8_sequence_models/atac/rna_celltype+condition+timepoint/SC.alpha_palmitate_72/prep_dataset/0.5/SC.alpha_palmitate_72.yaml\n",
      "/cellar/users/aklie/data/datasets/igvf_sc-islet_10X-Multiome/results/8_sequence_models/atac/rna_celltype+condition+timepoint/SC.EC_dex_48/prep_dataset/0.5/SC.EC_dex_48.yaml\n",
      "/cellar/users/aklie/data/datasets/igvf_sc-islet_10X-Multiome/results/8_sequence_models/atac/rna_celltype+condition+timepoint/SC.delta_palmitate_48/prep_dataset/0.5/SC.delta_palmitate_48.yaml\n",
      "/cellar/users/aklie/data/datasets/igvf_sc-islet_10X-Multiome/results/8_sequence_models/atac/rna_celltype+condition+timepoint/SC.alpha_dex_48/prep_dataset/0.5/SC.alpha_dex_48.yaml\n",
      "/cellar/users/aklie/data/datasets/igvf_sc-islet_10X-Multiome/results/8_sequence_models/atac/rna_celltype+condition+timepoint/SC.delta_3-cyt_24/prep_dataset/0.5/SC.delta_3-cyt_24.yaml\n",
      "/cellar/users/aklie/data/datasets/igvf_sc-islet_10X-Multiome/results/8_sequence_models/atac/rna_celltype+condition+timepoint/SC.EC_palmitate_6/prep_dataset/0.5/SC.EC_palmitate_6.yaml\n",
      "/cellar/users/aklie/data/datasets/igvf_sc-islet_10X-Multiome/results/8_sequence_models/atac/rna_celltype+condition+timepoint/SC.alpha_palmitate_6/prep_dataset/0.5/SC.alpha_palmitate_6.yaml\n",
      "/cellar/users/aklie/data/datasets/igvf_sc-islet_10X-Multiome/results/8_sequence_models/atac/rna_celltype+condition+timepoint/SC.EC_control_72/prep_dataset/0.5/SC.EC_control_72.yaml\n",
      "/cellar/users/aklie/data/datasets/igvf_sc-islet_10X-Multiome/results/8_sequence_models/atac/rna_celltype+condition+timepoint/SC.EC_3-cyt_6/prep_dataset/0.5/SC.EC_3-cyt_6.yaml\n",
      "/cellar/users/aklie/data/datasets/igvf_sc-islet_10X-Multiome/results/8_sequence_models/atac/rna_celltype+condition+timepoint/SC.alpha_control_72/prep_dataset/0.5/SC.alpha_control_72.yaml\n",
      "/cellar/users/aklie/data/datasets/igvf_sc-islet_10X-Multiome/results/8_sequence_models/atac/rna_celltype+condition+timepoint/SC.alpha_3-cyt_6/prep_dataset/0.5/SC.alpha_3-cyt_6.yaml\n",
      "/cellar/users/aklie/data/datasets/igvf_sc-islet_10X-Multiome/results/8_sequence_models/atac/rna_celltype+condition+timepoint/SC.beta_3-cyt_48/prep_dataset/0.5/SC.beta_3-cyt_48.yaml\n",
      "/cellar/users/aklie/data/datasets/igvf_sc-islet_10X-Multiome/results/8_sequence_models/atac/rna_celltype+condition+timepoint/SC.beta_IFNg_48/prep_dataset/0.5/SC.beta_IFNg_48.yaml\n",
      "/cellar/users/aklie/data/datasets/igvf_sc-islet_10X-Multiome/results/8_sequence_models/atac/rna_celltype+condition+timepoint/SC.beta_3-cyt_72/prep_dataset/0.5/SC.beta_3-cyt_72.yaml\n",
      "/cellar/users/aklie/data/datasets/igvf_sc-islet_10X-Multiome/results/8_sequence_models/atac/rna_celltype+condition+timepoint/SC.EC_Ex-4_HG_72/prep_dataset/0.5/SC.EC_Ex-4_HG_72.yaml\n",
      "/cellar/users/aklie/data/datasets/igvf_sc-islet_10X-Multiome/results/8_sequence_models/atac/rna_celltype+condition+timepoint/SC.beta_dex_48/prep_dataset/0.5/SC.beta_dex_48.yaml\n",
      "/cellar/users/aklie/data/datasets/igvf_sc-islet_10X-Multiome/results/8_sequence_models/atac/rna_celltype+condition+timepoint/SC.alpha_Ex-4_HG_72/prep_dataset/0.5/SC.alpha_Ex-4_HG_72.yaml\n",
      "/cellar/users/aklie/data/datasets/igvf_sc-islet_10X-Multiome/results/8_sequence_models/atac/rna_celltype+condition+timepoint/SC.delta_3-cyt_48/prep_dataset/0.5/SC.delta_3-cyt_48.yaml\n",
      "/cellar/users/aklie/data/datasets/igvf_sc-islet_10X-Multiome/results/8_sequence_models/atac/rna_celltype+condition+timepoint/SC.EC_IFNg_24/prep_dataset/0.5/SC.EC_IFNg_24.yaml\n",
      "/cellar/users/aklie/data/datasets/igvf_sc-islet_10X-Multiome/results/8_sequence_models/atac/rna_celltype+condition+timepoint/SC.alpha_IFNg_24/prep_dataset/0.5/SC.alpha_IFNg_24.yaml\n",
      "/cellar/users/aklie/data/datasets/igvf_sc-islet_10X-Multiome/results/8_sequence_models/atac/rna_celltype+condition+timepoint/SC.delta_Ex-4_HG_48/prep_dataset/0.5/SC.delta_Ex-4_HG_48.yaml\n",
      "/cellar/users/aklie/data/datasets/igvf_sc-islet_10X-Multiome/results/8_sequence_models/atac/rna_celltype+condition+timepoint/SC.beta_palmitate_72/prep_dataset/0.5/SC.beta_palmitate_72.yaml\n",
      "/cellar/users/aklie/data/datasets/igvf_sc-islet_10X-Multiome/results/8_sequence_models/atac/rna_celltype+condition+timepoint/SC.delta_IFNg_72/prep_dataset/0.5/SC.delta_IFNg_72.yaml\n",
      "/cellar/users/aklie/data/datasets/igvf_sc-islet_10X-Multiome/results/8_sequence_models/atac/rna_celltype+condition+timepoint/SC.delta_Ex-4_HG_72/prep_dataset/0.5/SC.delta_Ex-4_HG_72.yaml\n",
      "/cellar/users/aklie/data/datasets/igvf_sc-islet_10X-Multiome/results/8_sequence_models/atac/rna_celltype+condition+timepoint/SC.EC_IFNg_48/prep_dataset/0.5/SC.EC_IFNg_48.yaml\n",
      "/cellar/users/aklie/data/datasets/igvf_sc-islet_10X-Multiome/results/8_sequence_models/atac/rna_celltype+condition+timepoint/SC.alpha_IFNg_48/prep_dataset/0.5/SC.alpha_IFNg_48.yaml\n",
      "/cellar/users/aklie/data/datasets/igvf_sc-islet_10X-Multiome/results/8_sequence_models/atac/rna_celltype+condition+timepoint/SC.EC_control_24/prep_dataset/0.5/SC.EC_control_24.yaml\n",
      "/cellar/users/aklie/data/datasets/igvf_sc-islet_10X-Multiome/results/8_sequence_models/atac/rna_celltype+condition+timepoint/SC.EC_3-cyt_72/prep_dataset/0.5/SC.EC_3-cyt_72.yaml\n",
      "/cellar/users/aklie/data/datasets/igvf_sc-islet_10X-Multiome/results/8_sequence_models/atac/rna_celltype+condition+timepoint/SC.alpha_control_24/prep_dataset/0.5/SC.alpha_control_24.yaml\n",
      "/cellar/users/aklie/data/datasets/igvf_sc-islet_10X-Multiome/results/8_sequence_models/atac/rna_celltype+condition+timepoint/SC.alpha_3-cyt_72/prep_dataset/0.5/SC.alpha_3-cyt_72.yaml\n",
      "/cellar/users/aklie/data/datasets/igvf_sc-islet_10X-Multiome/results/8_sequence_models/atac/rna_celltype+condition+timepoint/SC.EC_Ex-4_HG_6/prep_dataset/0.5/SC.EC_Ex-4_HG_6.yaml\n",
      "/cellar/users/aklie/data/datasets/igvf_sc-islet_10X-Multiome/results/8_sequence_models/atac/rna_celltype+condition+timepoint/SC.alpha_Ex-4_HG_6/prep_dataset/0.5/SC.alpha_Ex-4_HG_6.yaml\n",
      "/cellar/users/aklie/data/datasets/igvf_sc-islet_10X-Multiome/results/8_sequence_models/atac/rna_celltype+condition+timepoint/SC.EC_palmitate_48/prep_dataset/0.5/SC.EC_palmitate_48.yaml\n",
      "/cellar/users/aklie/data/datasets/igvf_sc-islet_10X-Multiome/results/8_sequence_models/atac/rna_celltype+condition+timepoint/SC.alpha_palmitate_48/prep_dataset/0.5/SC.alpha_palmitate_48.yaml\n",
      "/cellar/users/aklie/data/datasets/igvf_sc-islet_10X-Multiome/results/8_sequence_models/atac/rna_celltype+condition+timepoint/SC.delta_control_72/prep_dataset/0.5/SC.delta_control_72.yaml\n",
      "/cellar/users/aklie/data/datasets/igvf_sc-islet_10X-Multiome/results/8_sequence_models/atac/rna_celltype+condition+timepoint/SC.EC_control_6/prep_dataset/0.5/SC.EC_control_6.yaml\n",
      "/cellar/users/aklie/data/datasets/igvf_sc-islet_10X-Multiome/results/8_sequence_models/atac/rna_celltype+condition+timepoint/SC.alpha_control_6/prep_dataset/0.5/SC.alpha_control_6.yaml\n",
      "/cellar/users/aklie/data/datasets/igvf_sc-islet_10X-Multiome/results/8_sequence_models/atac/rna_celltype+condition+timepoint/SC.beta_IFNg_24/prep_dataset/0.5/SC.beta_IFNg_24.yaml\n",
      "/cellar/users/aklie/data/datasets/igvf_sc-islet_10X-Multiome/results/8_sequence_models/atac/rna_celltype+condition+timepoint/SC.EC_control_0/prep_dataset/0.5/SC.EC_control_0.yaml\n",
      "/cellar/users/aklie/data/datasets/igvf_sc-islet_10X-Multiome/results/8_sequence_models/atac/rna_celltype+condition+timepoint/SC.alpha_control_0/prep_dataset/0.5/SC.alpha_control_0.yaml\n"
     ]
    }
   ],
   "source": [
    "config_paths = []\n",
    "for i, group in enumerate(groups):\n",
    "    for signal_beta in signal_betas:\n",
    "        out_dir = os.path.join(path_out, group, \"prep_dataset\", f\"{signal_beta}\")\n",
    "        os.makedirs(out_dir, exist_ok=True)\n",
    "        curr_out = os.path.join(out_dir, f\"{group}.yaml\")\n",
    "        curr_config = config.copy()\n",
    "        curr_config[\"name\"] = group\n",
    "        curr_config[\"seqdata\"][\"bws\"] = [unstranded_bws[group]]\n",
    "        curr_config[\"seqdata\"][\"bw_names\"] = [group]\n",
    "        curr_config[\"seqdata\"][\"loci\"] = narrowPeaks[celltypes[i]]\n",
    "        curr_config[\"negatives\"][\"signal\"] = curr_config[\"seqdata\"][\"bws\"][0]\n",
    "        curr_config['negatives']['signal_beta'] = round(float(signal_beta), 1)\n",
    "        with open(curr_out, 'w') as f:\n",
    "            yaml.dump(curr_config, f)\n",
    "        print(curr_out)\n",
    "        config_paths.append(curr_out)"
   ]
  },
  {
   "cell_type": "code",
   "execution_count": 27,
   "metadata": {},
   "outputs": [],
   "source": [
    "# Make a dataframe with paths of configs in first column and output directory in second column\n",
    "df = pd.DataFrame()\n",
    "df[\"config\"] = config_paths\n",
    "df[\"out_dir\"] = [os.path.dirname(p) for p in config_paths]\n",
    "df.to_csv(\"/cellar/users/aklie/data/datasets/igvf_sc-islet_10X-Multiome/bin/8_sequence_models/metadata/prep_dataset_celltype+condition+timepoint.tsv\", sep=\"\\t\", index=False, header=False)"
   ]
  },
  {
   "cell_type": "markdown",
   "metadata": {},
   "source": [
    "# Bpnet fit configs"
   ]
  },
  {
   "cell_type": "code",
   "execution_count": 12,
   "metadata": {},
   "outputs": [],
   "source": [
    "# path to template config file\n",
    "path_config = \"/cellar/users/aklie/data/datasets/igvf_sc-islet_10X-Multiome/bin/8_sequence_models/configs/bpnet_fit_template.yaml\""
   ]
  },
  {
   "cell_type": "code",
   "execution_count": 13,
   "metadata": {},
   "outputs": [
    {
     "data": {
      "text/plain": [
       "{'name': 'celltype_name',\n",
       " 'threads': 4,\n",
       " 'random_state': 1234,\n",
       " 'seqdata': {'path': 'celltype_name.minimal.seqdata',\n",
       "  'seq_var': 'seq',\n",
       "  'cov_var': 'cov',\n",
       "  'fold': 'fold_0',\n",
       "  'seq_length': 2114,\n",
       "  'target_length': 1000,\n",
       "  'max_jitter': 512,\n",
       "  'max_counts': 999999,\n",
       "  'min_counts': 0,\n",
       "  'outlier_threshold': 0.9999,\n",
       "  'neg_sampling_ratio': 0.1},\n",
       " 'model': {'n_filters': 512, 'n_layers': 8, 'n_outputs': 1, 'alpha': None},\n",
       " 'training': {'learning_rate': 0.001,\n",
       "  'batch_size': 64,\n",
       "  'max_epochs': 50,\n",
       "  'validation_iter': 1000,\n",
       "  'rc_augment': True,\n",
       "  'early_stopping': 10},\n",
       " 'evaluation': {'batch_size': 256},\n",
       " 'attribution': {'batch_size': 32, 'subsample': 20000, 'n_shuffles': 10},\n",
       " 'modisco': {'n_seqlets': 50000,\n",
       "  'window': 500,\n",
       "  'motif_db': '/cellar/users/aklie/projects/ML4GLand/tutorials/data/motifs.meme.txt'}}"
      ]
     },
     "execution_count": 13,
     "metadata": {},
     "output_type": "execute_result"
    }
   ],
   "source": [
    "# load template config\n",
    "config = yaml.safe_load(open(path_config, 'r'))\n",
    "config"
   ]
  },
  {
   "cell_type": "code",
   "execution_count": 16,
   "metadata": {},
   "outputs": [
    {
     "data": {
      "text/plain": [
       "{'SC.delta_palmitate_72': {0.5: '/cellar/users/aklie/data/datasets/igvf_sc-islet_10X-Multiome/results/8_sequence_models/atac/rna_celltype+condition+timepoint/SC.delta_palmitate_72/prep_dataset/0.5/SC.delta_palmitate_72.minimal.seqdata'},\n",
       " 'SC.EC_dex_72': {0.5: '/cellar/users/aklie/data/datasets/igvf_sc-islet_10X-Multiome/results/8_sequence_models/atac/rna_celltype+condition+timepoint/SC.EC_dex_72/prep_dataset/0.5/SC.EC_dex_72.minimal.seqdata'},\n",
       " 'SC.alpha_dex_72': {0.5: '/cellar/users/aklie/data/datasets/igvf_sc-islet_10X-Multiome/results/8_sequence_models/atac/rna_celltype+condition+timepoint/SC.alpha_dex_72/prep_dataset/0.5/SC.alpha_dex_72.minimal.seqdata'}}"
      ]
     },
     "execution_count": 16,
     "metadata": {},
     "output_type": "execute_result"
    }
   ],
   "source": [
    "# Grab paths of seqdatas from the previous step\n",
    "seqdatas = {}\n",
    "for f in glob.glob(os.path.join(path_out, \"*\", \"prep_dataset\", \"*\", \"*.minimal.seqdata\")):\n",
    "    signal_beta = float(f.split(\"/\")[-2])\n",
    "    group = os.path.basename(f).split(\".minimal.seqdata\")[0]\n",
    "    if group not in seqdatas:\n",
    "        seqdatas[group] = {}\n",
    "    seqdatas[group][signal_beta] = f\n",
    "seqdatas"
   ]
  },
  {
   "cell_type": "code",
   "execution_count": 17,
   "metadata": {},
   "outputs": [],
   "source": [
    "# How many folds?\n",
    "folds = 5"
   ]
  },
  {
   "cell_type": "code",
   "execution_count": 18,
   "metadata": {},
   "outputs": [],
   "source": [
    "# Which signal betas to use?\n",
    "signal_betas = [0.5]"
   ]
  },
  {
   "cell_type": "code",
   "execution_count": 21,
   "metadata": {},
   "outputs": [
    {
     "name": "stdout",
     "output_type": "stream",
     "text": [
      "/cellar/users/aklie/data/datasets/igvf_sc-islet_10X-Multiome/results/8_sequence_models/atac/rna_celltype+condition+timepoint/SC.EC_dex_72/bpnet_fit/fold_0/0.5/SC.EC_dex_72_fold_0.yaml\n",
      "/cellar/users/aklie/data/datasets/igvf_sc-islet_10X-Multiome/results/8_sequence_models/atac/rna_celltype+condition+timepoint/SC.EC_dex_72/bpnet_fit/fold_1/0.5/SC.EC_dex_72_fold_1.yaml\n",
      "/cellar/users/aklie/data/datasets/igvf_sc-islet_10X-Multiome/results/8_sequence_models/atac/rna_celltype+condition+timepoint/SC.EC_dex_72/bpnet_fit/fold_2/0.5/SC.EC_dex_72_fold_2.yaml\n",
      "/cellar/users/aklie/data/datasets/igvf_sc-islet_10X-Multiome/results/8_sequence_models/atac/rna_celltype+condition+timepoint/SC.EC_dex_72/bpnet_fit/fold_3/0.5/SC.EC_dex_72_fold_3.yaml\n",
      "/cellar/users/aklie/data/datasets/igvf_sc-islet_10X-Multiome/results/8_sequence_models/atac/rna_celltype+condition+timepoint/SC.EC_dex_72/bpnet_fit/fold_4/0.5/SC.EC_dex_72_fold_4.yaml\n",
      "/cellar/users/aklie/data/datasets/igvf_sc-islet_10X-Multiome/results/8_sequence_models/atac/rna_celltype+condition+timepoint/SC.delta_palmitate_72/bpnet_fit/fold_0/0.5/SC.delta_palmitate_72_fold_0.yaml\n",
      "/cellar/users/aklie/data/datasets/igvf_sc-islet_10X-Multiome/results/8_sequence_models/atac/rna_celltype+condition+timepoint/SC.delta_palmitate_72/bpnet_fit/fold_1/0.5/SC.delta_palmitate_72_fold_1.yaml\n",
      "/cellar/users/aklie/data/datasets/igvf_sc-islet_10X-Multiome/results/8_sequence_models/atac/rna_celltype+condition+timepoint/SC.delta_palmitate_72/bpnet_fit/fold_2/0.5/SC.delta_palmitate_72_fold_2.yaml\n",
      "/cellar/users/aklie/data/datasets/igvf_sc-islet_10X-Multiome/results/8_sequence_models/atac/rna_celltype+condition+timepoint/SC.delta_palmitate_72/bpnet_fit/fold_3/0.5/SC.delta_palmitate_72_fold_3.yaml\n",
      "/cellar/users/aklie/data/datasets/igvf_sc-islet_10X-Multiome/results/8_sequence_models/atac/rna_celltype+condition+timepoint/SC.delta_palmitate_72/bpnet_fit/fold_4/0.5/SC.delta_palmitate_72_fold_4.yaml\n",
      "/cellar/users/aklie/data/datasets/igvf_sc-islet_10X-Multiome/results/8_sequence_models/atac/rna_celltype+condition+timepoint/SC.alpha_dex_72/bpnet_fit/fold_0/0.5/SC.alpha_dex_72_fold_0.yaml\n",
      "/cellar/users/aklie/data/datasets/igvf_sc-islet_10X-Multiome/results/8_sequence_models/atac/rna_celltype+condition+timepoint/SC.alpha_dex_72/bpnet_fit/fold_1/0.5/SC.alpha_dex_72_fold_1.yaml\n",
      "/cellar/users/aklie/data/datasets/igvf_sc-islet_10X-Multiome/results/8_sequence_models/atac/rna_celltype+condition+timepoint/SC.alpha_dex_72/bpnet_fit/fold_2/0.5/SC.alpha_dex_72_fold_2.yaml\n",
      "/cellar/users/aklie/data/datasets/igvf_sc-islet_10X-Multiome/results/8_sequence_models/atac/rna_celltype+condition+timepoint/SC.alpha_dex_72/bpnet_fit/fold_3/0.5/SC.alpha_dex_72_fold_3.yaml\n",
      "/cellar/users/aklie/data/datasets/igvf_sc-islet_10X-Multiome/results/8_sequence_models/atac/rna_celltype+condition+timepoint/SC.alpha_dex_72/bpnet_fit/fold_4/0.5/SC.alpha_dex_72_fold_4.yaml\n"
     ]
    }
   ],
   "source": [
    "# Make config files\n",
    "config_paths = []\n",
    "for i, group in enumerate(groups):\n",
    "    if group not in seqdatas:\n",
    "        continue\n",
    "    for signal_beta in signal_betas:\n",
    "        for fold in range(folds):\n",
    "            out_dir = os.path.join(path_out, group, \"bpnet_fit\", f\"fold_{fold}\", f\"{signal_beta}\")\n",
    "            os.makedirs(out_dir, exist_ok=True)\n",
    "            curr_out = os.path.join(out_dir, f\"{group}_fold_{fold}.yaml\")\n",
    "            curr_config = config.copy()\n",
    "            curr_config[\"name\"] = group\n",
    "            curr_config[\"seqdata\"][\"path\"] = seqdatas[group][signal_beta]\n",
    "            curr_config[\"seqdata\"][\"fold\"] = f\"fold_{fold}\"\n",
    "            with open(curr_out, 'w') as f:\n",
    "                yaml.dump(curr_config, f)\n",
    "            print(curr_out)\n",
    "            config_paths.append(curr_out)"
   ]
  },
  {
   "cell_type": "code",
   "execution_count": 22,
   "metadata": {},
   "outputs": [
    {
     "data": {
      "text/plain": [
       "['/cellar/users/aklie/data/datasets/igvf_sc-islet_10X-Multiome/results/8_sequence_models/atac/rna_celltype+condition+timepoint/SC.EC_dex_72/bpnet_fit/fold_0/0.5/SC.EC_dex_72_fold_0.yaml',\n",
       " '/cellar/users/aklie/data/datasets/igvf_sc-islet_10X-Multiome/results/8_sequence_models/atac/rna_celltype+condition+timepoint/SC.alpha_dex_72/bpnet_fit/fold_0/0.5/SC.alpha_dex_72_fold_0.yaml',\n",
       " '/cellar/users/aklie/data/datasets/igvf_sc-islet_10X-Multiome/results/8_sequence_models/atac/rna_celltype+condition+timepoint/SC.delta_palmitate_72/bpnet_fit/fold_0/0.5/SC.delta_palmitate_72_fold_0.yaml']"
      ]
     },
     "execution_count": 22,
     "metadata": {},
     "output_type": "execute_result"
    }
   ],
   "source": [
    "# Keep only fold_0 configs\n",
    "config_paths = sorted([c for c in config_paths if \"fold_0\" in c])\n",
    "config_paths"
   ]
  },
  {
   "cell_type": "code",
   "execution_count": 23,
   "metadata": {},
   "outputs": [
    {
     "data": {
      "text/plain": [
       "['/cellar/users/aklie/data/datasets/igvf_sc-islet_10X-Multiome/results/8_sequence_models/atac/rna_celltype+condition+timepoint/SC.EC_dex_72/bpnet_fit/fold_0/0.5/SC.EC_dex_72_fold_0.yaml',\n",
       " '/cellar/users/aklie/data/datasets/igvf_sc-islet_10X-Multiome/results/8_sequence_models/atac/rna_celltype+condition+timepoint/SC.alpha_dex_72/bpnet_fit/fold_0/0.5/SC.alpha_dex_72_fold_0.yaml',\n",
       " '/cellar/users/aklie/data/datasets/igvf_sc-islet_10X-Multiome/results/8_sequence_models/atac/rna_celltype+condition+timepoint/SC.delta_palmitate_72/bpnet_fit/fold_0/0.5/SC.delta_palmitate_72_fold_0.yaml']"
      ]
     },
     "execution_count": 23,
     "metadata": {},
     "output_type": "execute_result"
    }
   ],
   "source": [
    "# Keep only SC.alpha cellypes\n",
    "#config_paths = [c for c in config_paths if \"SC.alpha\" in c]\n",
    "config_paths"
   ]
  },
  {
   "cell_type": "code",
   "execution_count": 25,
   "metadata": {},
   "outputs": [],
   "source": [
    "# Make a dataframe with paths of configs in first column and output directory in second column\n",
    "df = pd.DataFrame()\n",
    "df[\"config\"] = config_paths\n",
    "df[\"out_dir\"] = [os.path.dirname(p) for p in config_paths]\n",
    "df.to_csv(\"/cellar/users/aklie/data/datasets/igvf_sc-islet_10X-Multiome/bin/8_sequence_models/metadata/bpnet_fit_celltype+condition+timepoint.tsv\", sep=\"\\t\", index=False, header=False)"
   ]
  },
  {
   "cell_type": "markdown",
   "metadata": {},
   "source": [
    "# Bias fit configs"
   ]
  },
  {
   "cell_type": "code",
   "execution_count": 16,
   "metadata": {},
   "outputs": [],
   "source": [
    "# path to template config file\n",
    "path_config = \"/cellar/users/aklie/data/datasets/igvf_sc-islet_10X-Multiome/bin/9_sequence_models/configs/bias_fit_template.yaml\""
   ]
  },
  {
   "cell_type": "code",
   "execution_count": 17,
   "metadata": {},
   "outputs": [
    {
     "data": {
      "text/plain": [
       "{'name': 'celltype_name',\n",
       " 'threads': 4,\n",
       " 'random_state': 1234,\n",
       " 'seqdata': {'path': 'celltype_name.minimal.seqdata',\n",
       "  'seq_var': 'seq',\n",
       "  'cov_var': 'cov',\n",
       "  'seq_length': 2114,\n",
       "  'target_length': 1000,\n",
       "  'max_jitter': 0,\n",
       "  'max_counts': 0,\n",
       "  'min_counts': 0,\n",
       "  'outlier_threshold': 0.9999},\n",
       " 'model': {'n_filters': 128, 'n_layers': 4, 'n_outputs': 1, 'alpha': None},\n",
       " 'training': {'learning_rate': 0.001,\n",
       "  'batch_size': 64,\n",
       "  'max_epochs': 50,\n",
       "  'validation_iter': 1000,\n",
       "  'rc_augment': True,\n",
       "  'early_stopping': 10},\n",
       " 'evaluation': {'batch_size': 256},\n",
       " 'attribution': {'batch_size': 128, 'subsample': 30000, 'n_shuffles': 20},\n",
       " 'modisco': {'n_seqlets': 50000,\n",
       "  'window': 500,\n",
       "  'motif_db': '/cellar/users/aklie/projects/ML4GLand/tutorials/data/motifs.meme.txt'}}"
      ]
     },
     "execution_count": 17,
     "metadata": {},
     "output_type": "execute_result"
    }
   ],
   "source": [
    "# load template config\n",
    "config = yaml.safe_load(open(path_config, 'r'))\n",
    "config"
   ]
  },
  {
   "cell_type": "code",
   "execution_count": 18,
   "metadata": {},
   "outputs": [
    {
     "data": {
      "text/plain": [
       "{'SC.alpha': {0.5: '/cellar/users/aklie/data/datasets/igvf_sc-islet_10X-Multiome/results/9_sequence_models/atac/3-cyt_rna_celltype/SC.alpha/prep_dataset/0.5/SC.alpha.minimal.seqdata',\n",
       "  0.6: '/cellar/users/aklie/data/datasets/igvf_sc-islet_10X-Multiome/results/9_sequence_models/atac/3-cyt_rna_celltype/SC.alpha/prep_dataset/0.6/SC.alpha.minimal.seqdata',\n",
       "  0.9: '/cellar/users/aklie/data/datasets/igvf_sc-islet_10X-Multiome/results/9_sequence_models/atac/3-cyt_rna_celltype/SC.alpha/prep_dataset/0.9/SC.alpha.minimal.seqdata',\n",
       "  0.7: '/cellar/users/aklie/data/datasets/igvf_sc-islet_10X-Multiome/results/9_sequence_models/atac/3-cyt_rna_celltype/SC.alpha/prep_dataset/0.7/SC.alpha.minimal.seqdata'},\n",
       " 'SC.EC': {0.9: '/cellar/users/aklie/data/datasets/igvf_sc-islet_10X-Multiome/results/9_sequence_models/atac/3-cyt_rna_celltype/SC.EC/prep_dataset/0.9/SC.EC.minimal.seqdata',\n",
       "  0.7: '/cellar/users/aklie/data/datasets/igvf_sc-islet_10X-Multiome/results/9_sequence_models/atac/3-cyt_rna_celltype/SC.EC/prep_dataset/0.7/SC.EC.minimal.seqdata',\n",
       "  0.5: '/cellar/users/aklie/data/datasets/igvf_sc-islet_10X-Multiome/results/9_sequence_models/atac/3-cyt_rna_celltype/SC.EC/prep_dataset/0.5/SC.EC.minimal.seqdata',\n",
       "  0.6: '/cellar/users/aklie/data/datasets/igvf_sc-islet_10X-Multiome/results/9_sequence_models/atac/3-cyt_rna_celltype/SC.EC/prep_dataset/0.6/SC.EC.minimal.seqdata'},\n",
       " 'SC.delta': {0.5: '/cellar/users/aklie/data/datasets/igvf_sc-islet_10X-Multiome/results/9_sequence_models/atac/3-cyt_rna_celltype/SC.delta/prep_dataset/0.5/SC.delta.minimal.seqdata',\n",
       "  0.6: '/cellar/users/aklie/data/datasets/igvf_sc-islet_10X-Multiome/results/9_sequence_models/atac/3-cyt_rna_celltype/SC.delta/prep_dataset/0.6/SC.delta.minimal.seqdata',\n",
       "  0.9: '/cellar/users/aklie/data/datasets/igvf_sc-islet_10X-Multiome/results/9_sequence_models/atac/3-cyt_rna_celltype/SC.delta/prep_dataset/0.9/SC.delta.minimal.seqdata',\n",
       "  0.7: '/cellar/users/aklie/data/datasets/igvf_sc-islet_10X-Multiome/results/9_sequence_models/atac/3-cyt_rna_celltype/SC.delta/prep_dataset/0.7/SC.delta.minimal.seqdata'},\n",
       " 'SC.beta': {0.7: '/cellar/users/aklie/data/datasets/igvf_sc-islet_10X-Multiome/results/9_sequence_models/atac/3-cyt_rna_celltype/SC.beta/prep_dataset/0.7/SC.beta.minimal.seqdata',\n",
       "  0.9: '/cellar/users/aklie/data/datasets/igvf_sc-islet_10X-Multiome/results/9_sequence_models/atac/3-cyt_rna_celltype/SC.beta/prep_dataset/0.9/SC.beta.minimal.seqdata',\n",
       "  0.6: '/cellar/users/aklie/data/datasets/igvf_sc-islet_10X-Multiome/results/9_sequence_models/atac/3-cyt_rna_celltype/SC.beta/prep_dataset/0.6/SC.beta.minimal.seqdata',\n",
       "  0.5: '/cellar/users/aklie/data/datasets/igvf_sc-islet_10X-Multiome/results/9_sequence_models/atac/3-cyt_rna_celltype/SC.beta/prep_dataset/0.5/SC.beta.minimal.seqdata'}}"
      ]
     },
     "execution_count": 18,
     "metadata": {},
     "output_type": "execute_result"
    }
   ],
   "source": [
    "seqdatas = {}\n",
    "for f in glob.glob(os.path.join(path_out, \"*\", \"prep_dataset\", \"*\", \"*.minimal.seqdata\")):\n",
    "    signal_beta = float(f.split(\"/\")[-2])\n",
    "    celltype = os.path.basename(f).split(\".minimal.seqdata\")[0]\n",
    "    if celltype not in seqdatas:\n",
    "        seqdatas[celltype] = {}\n",
    "    seqdatas[celltype][signal_beta] = f\n",
    "seqdatas"
   ]
  },
  {
   "cell_type": "code",
   "execution_count": 19,
   "metadata": {},
   "outputs": [],
   "source": [
    "# How many folds?\n",
    "folds = 5"
   ]
  },
  {
   "cell_type": "code",
   "execution_count": 20,
   "metadata": {},
   "outputs": [
    {
     "data": {
      "text/plain": [
       "{'SC.alpha': {0.5: 110.0, 0.6: 132.0, 0.9: 198.0, 0.7: 154.0},\n",
       " 'SC.EC': {0.9: 151.0, 0.7: 117.0, 0.5: 84.0, 0.6: 100.0},\n",
       " 'SC.delta': {0.5: 6.0, 0.6: 7.0, 0.9: 11.0, 0.7: 9.0},\n",
       " 'SC.beta': {0.7: 144.0, 0.9: 185.0, 0.6: 123.0, 0.5: 103.0}}"
      ]
     },
     "execution_count": 20,
     "metadata": {},
     "output_type": "execute_result"
    }
   ],
   "source": [
    "# Need to pull out Max Negative Counts: value from the following\n",
    "reports = {}\n",
    "for f in glob.glob(os.path.join(path_out, \"*\", \"prep_dataset\", \"*\", \"*.report.html\"), recursive=True):\n",
    "    signal_beta = float(f.split(\"/\")[-2])\n",
    "    celltype = os.path.basename(f).split(\".report.html\")[0]\n",
    "    with open(f, 'r') as f:\n",
    "        content = f.read()\n",
    "        max_neg_counts = float(content.split(\"Max Negative Counts: \")[1].split(\",\")[0])\n",
    "    if celltype not in reports:\n",
    "        reports[celltype] = {}\n",
    "    reports[celltype][signal_beta] = max_neg_counts        \n",
    "reports"
   ]
  },
  {
   "cell_type": "code",
   "execution_count": 21,
   "metadata": {},
   "outputs": [],
   "source": [
    "signal_betas = [0.5]"
   ]
  },
  {
   "cell_type": "code",
   "execution_count": 22,
   "metadata": {},
   "outputs": [
    {
     "name": "stdout",
     "output_type": "stream",
     "text": [
      "/cellar/users/aklie/data/datasets/igvf_sc-islet_10X-Multiome/results/9_sequence_models/atac/3-cyt_rna_celltype/SC.beta/bias_fit/fold_0/0.5/SC.beta_fold_0.yaml\n",
      "/cellar/users/aklie/data/datasets/igvf_sc-islet_10X-Multiome/results/9_sequence_models/atac/3-cyt_rna_celltype/SC.beta/bias_fit/fold_1/0.5/SC.beta_fold_1.yaml\n",
      "/cellar/users/aklie/data/datasets/igvf_sc-islet_10X-Multiome/results/9_sequence_models/atac/3-cyt_rna_celltype/SC.beta/bias_fit/fold_2/0.5/SC.beta_fold_2.yaml\n",
      "/cellar/users/aklie/data/datasets/igvf_sc-islet_10X-Multiome/results/9_sequence_models/atac/3-cyt_rna_celltype/SC.beta/bias_fit/fold_3/0.5/SC.beta_fold_3.yaml\n",
      "/cellar/users/aklie/data/datasets/igvf_sc-islet_10X-Multiome/results/9_sequence_models/atac/3-cyt_rna_celltype/SC.beta/bias_fit/fold_4/0.5/SC.beta_fold_4.yaml\n",
      "/cellar/users/aklie/data/datasets/igvf_sc-islet_10X-Multiome/results/9_sequence_models/atac/3-cyt_rna_celltype/SC.EC/bias_fit/fold_0/0.5/SC.EC_fold_0.yaml\n",
      "/cellar/users/aklie/data/datasets/igvf_sc-islet_10X-Multiome/results/9_sequence_models/atac/3-cyt_rna_celltype/SC.EC/bias_fit/fold_1/0.5/SC.EC_fold_1.yaml\n",
      "/cellar/users/aklie/data/datasets/igvf_sc-islet_10X-Multiome/results/9_sequence_models/atac/3-cyt_rna_celltype/SC.EC/bias_fit/fold_2/0.5/SC.EC_fold_2.yaml\n",
      "/cellar/users/aklie/data/datasets/igvf_sc-islet_10X-Multiome/results/9_sequence_models/atac/3-cyt_rna_celltype/SC.EC/bias_fit/fold_3/0.5/SC.EC_fold_3.yaml\n",
      "/cellar/users/aklie/data/datasets/igvf_sc-islet_10X-Multiome/results/9_sequence_models/atac/3-cyt_rna_celltype/SC.EC/bias_fit/fold_4/0.5/SC.EC_fold_4.yaml\n",
      "/cellar/users/aklie/data/datasets/igvf_sc-islet_10X-Multiome/results/9_sequence_models/atac/3-cyt_rna_celltype/SC.alpha/bias_fit/fold_0/0.5/SC.alpha_fold_0.yaml\n",
      "/cellar/users/aklie/data/datasets/igvf_sc-islet_10X-Multiome/results/9_sequence_models/atac/3-cyt_rna_celltype/SC.alpha/bias_fit/fold_1/0.5/SC.alpha_fold_1.yaml\n",
      "/cellar/users/aklie/data/datasets/igvf_sc-islet_10X-Multiome/results/9_sequence_models/atac/3-cyt_rna_celltype/SC.alpha/bias_fit/fold_2/0.5/SC.alpha_fold_2.yaml\n",
      "/cellar/users/aklie/data/datasets/igvf_sc-islet_10X-Multiome/results/9_sequence_models/atac/3-cyt_rna_celltype/SC.alpha/bias_fit/fold_3/0.5/SC.alpha_fold_3.yaml\n",
      "/cellar/users/aklie/data/datasets/igvf_sc-islet_10X-Multiome/results/9_sequence_models/atac/3-cyt_rna_celltype/SC.alpha/bias_fit/fold_4/0.5/SC.alpha_fold_4.yaml\n",
      "/cellar/users/aklie/data/datasets/igvf_sc-islet_10X-Multiome/results/9_sequence_models/atac/3-cyt_rna_celltype/SC.delta/bias_fit/fold_0/0.5/SC.delta_fold_0.yaml\n",
      "/cellar/users/aklie/data/datasets/igvf_sc-islet_10X-Multiome/results/9_sequence_models/atac/3-cyt_rna_celltype/SC.delta/bias_fit/fold_1/0.5/SC.delta_fold_1.yaml\n",
      "/cellar/users/aklie/data/datasets/igvf_sc-islet_10X-Multiome/results/9_sequence_models/atac/3-cyt_rna_celltype/SC.delta/bias_fit/fold_2/0.5/SC.delta_fold_2.yaml\n",
      "/cellar/users/aklie/data/datasets/igvf_sc-islet_10X-Multiome/results/9_sequence_models/atac/3-cyt_rna_celltype/SC.delta/bias_fit/fold_3/0.5/SC.delta_fold_3.yaml\n",
      "/cellar/users/aklie/data/datasets/igvf_sc-islet_10X-Multiome/results/9_sequence_models/atac/3-cyt_rna_celltype/SC.delta/bias_fit/fold_4/0.5/SC.delta_fold_4.yaml\n"
     ]
    }
   ],
   "source": [
    "config_paths = []\n",
    "for i, celltype in enumerate(celltypes):\n",
    "    for signal_beta in signal_betas:\n",
    "        for fold in range(folds):\n",
    "            out_dir = os.path.join(path_out, celltype, \"bias_fit\", f\"fold_{fold}\", f\"{signal_beta}\")\n",
    "            os.makedirs(out_dir, exist_ok=True)\n",
    "            curr_out = os.path.join(out_dir, f\"{celltype}_fold_{fold}.yaml\")\n",
    "            curr_config = config.copy()\n",
    "            curr_config[\"name\"] = celltype\n",
    "            curr_config[\"seqdata\"][\"path\"] = seqdatas[celltype][signal_beta]\n",
    "            curr_config[\"seqdata\"][\"fold\"] = f\"fold_{fold}\"\n",
    "            config[\"seqdata\"][\"max_counts\"] = reports[celltype][signal_beta]\n",
    "            with open(curr_out, 'w') as f:\n",
    "                yaml.dump(curr_config, f)\n",
    "            print(curr_out)\n",
    "            config_paths.append(curr_out)"
   ]
  },
  {
   "cell_type": "code",
   "execution_count": 58,
   "metadata": {},
   "outputs": [
    {
     "data": {
      "text/plain": [
       "['/cellar/users/aklie/data/datasets/igvf_sc-islet_10X-Multiome/results/9_sequence_models/atac/3-cyt_rna_celltype/SC.beta/bias_fit/fold_0/0.5/SC.beta_fold_0.yaml',\n",
       " '/cellar/users/aklie/data/datasets/igvf_sc-islet_10X-Multiome/results/9_sequence_models/atac/3-cyt_rna_celltype/SC.beta/bias_fit/fold_1/0.5/SC.beta_fold_1.yaml',\n",
       " '/cellar/users/aklie/data/datasets/igvf_sc-islet_10X-Multiome/results/9_sequence_models/atac/3-cyt_rna_celltype/SC.beta/bias_fit/fold_2/0.5/SC.beta_fold_2.yaml',\n",
       " '/cellar/users/aklie/data/datasets/igvf_sc-islet_10X-Multiome/results/9_sequence_models/atac/3-cyt_rna_celltype/SC.beta/bias_fit/fold_3/0.5/SC.beta_fold_3.yaml',\n",
       " '/cellar/users/aklie/data/datasets/igvf_sc-islet_10X-Multiome/results/9_sequence_models/atac/3-cyt_rna_celltype/SC.beta/bias_fit/fold_4/0.5/SC.beta_fold_4.yaml',\n",
       " '/cellar/users/aklie/data/datasets/igvf_sc-islet_10X-Multiome/results/9_sequence_models/atac/3-cyt_rna_celltype/SC.EC/bias_fit/fold_0/0.5/SC.EC_fold_0.yaml',\n",
       " '/cellar/users/aklie/data/datasets/igvf_sc-islet_10X-Multiome/results/9_sequence_models/atac/3-cyt_rna_celltype/SC.EC/bias_fit/fold_1/0.5/SC.EC_fold_1.yaml',\n",
       " '/cellar/users/aklie/data/datasets/igvf_sc-islet_10X-Multiome/results/9_sequence_models/atac/3-cyt_rna_celltype/SC.EC/bias_fit/fold_2/0.5/SC.EC_fold_2.yaml',\n",
       " '/cellar/users/aklie/data/datasets/igvf_sc-islet_10X-Multiome/results/9_sequence_models/atac/3-cyt_rna_celltype/SC.EC/bias_fit/fold_3/0.5/SC.EC_fold_3.yaml',\n",
       " '/cellar/users/aklie/data/datasets/igvf_sc-islet_10X-Multiome/results/9_sequence_models/atac/3-cyt_rna_celltype/SC.EC/bias_fit/fold_4/0.5/SC.EC_fold_4.yaml',\n",
       " '/cellar/users/aklie/data/datasets/igvf_sc-islet_10X-Multiome/results/9_sequence_models/atac/3-cyt_rna_celltype/SC.alpha/bias_fit/fold_0/0.5/SC.alpha_fold_0.yaml',\n",
       " '/cellar/users/aklie/data/datasets/igvf_sc-islet_10X-Multiome/results/9_sequence_models/atac/3-cyt_rna_celltype/SC.alpha/bias_fit/fold_1/0.5/SC.alpha_fold_1.yaml',\n",
       " '/cellar/users/aklie/data/datasets/igvf_sc-islet_10X-Multiome/results/9_sequence_models/atac/3-cyt_rna_celltype/SC.alpha/bias_fit/fold_2/0.5/SC.alpha_fold_2.yaml',\n",
       " '/cellar/users/aklie/data/datasets/igvf_sc-islet_10X-Multiome/results/9_sequence_models/atac/3-cyt_rna_celltype/SC.alpha/bias_fit/fold_3/0.5/SC.alpha_fold_3.yaml',\n",
       " '/cellar/users/aklie/data/datasets/igvf_sc-islet_10X-Multiome/results/9_sequence_models/atac/3-cyt_rna_celltype/SC.alpha/bias_fit/fold_4/0.5/SC.alpha_fold_4.yaml',\n",
       " '/cellar/users/aklie/data/datasets/igvf_sc-islet_10X-Multiome/results/9_sequence_models/atac/3-cyt_rna_celltype/SC.delta/bias_fit/fold_0/0.5/SC.delta_fold_0.yaml',\n",
       " '/cellar/users/aklie/data/datasets/igvf_sc-islet_10X-Multiome/results/9_sequence_models/atac/3-cyt_rna_celltype/SC.delta/bias_fit/fold_1/0.5/SC.delta_fold_1.yaml',\n",
       " '/cellar/users/aklie/data/datasets/igvf_sc-islet_10X-Multiome/results/9_sequence_models/atac/3-cyt_rna_celltype/SC.delta/bias_fit/fold_2/0.5/SC.delta_fold_2.yaml',\n",
       " '/cellar/users/aklie/data/datasets/igvf_sc-islet_10X-Multiome/results/9_sequence_models/atac/3-cyt_rna_celltype/SC.delta/bias_fit/fold_3/0.5/SC.delta_fold_3.yaml',\n",
       " '/cellar/users/aklie/data/datasets/igvf_sc-islet_10X-Multiome/results/9_sequence_models/atac/3-cyt_rna_celltype/SC.delta/bias_fit/fold_4/0.5/SC.delta_fold_4.yaml']"
      ]
     },
     "execution_count": 58,
     "metadata": {},
     "output_type": "execute_result"
    }
   ],
   "source": [
    "# Keep only fold_0 configs\n",
    "#config_paths = sorted([c for c in config_paths if \"fold_0\" in c])\n",
    "config_paths"
   ]
  },
  {
   "cell_type": "code",
   "execution_count": 61,
   "metadata": {},
   "outputs": [],
   "source": [
    "# Make a dataframe with paths of configs in first column and output directory in second column\n",
    "df = pd.DataFrame()\n",
    "df[\"config\"] = config_paths\n",
    "df[\"out_dir\"] = [os.path.dirname(p) for p in config_paths]\n",
    "df.to_csv(\"/cellar/users/aklie/data/datasets/igvf_sc-islet_10X-Multiome/bin/9_sequence_models/metadata/bias_fit_0.5.tsv\", sep=\"\\t\", index=False, header=False)"
   ]
  },
  {
   "cell_type": "markdown",
   "metadata": {},
   "source": [
    "# Chrombpnet fit configs"
   ]
  },
  {
   "cell_type": "code",
   "execution_count": 23,
   "metadata": {},
   "outputs": [],
   "source": [
    "# path to template config file\n",
    "path_config = \"/cellar/users/aklie/data/datasets/igvf_sc-islet_10X-Multiome/bin/9_sequence_models/configs/chrombpnet_fit_template.yaml\""
   ]
  },
  {
   "cell_type": "code",
   "execution_count": 24,
   "metadata": {},
   "outputs": [
    {
     "data": {
      "text/plain": [
       "{'name': 'celltype_name',\n",
       " 'threads': 4,\n",
       " 'random_state': 1234,\n",
       " 'seqdata': {'path': 'celltype_name.minimal.seqdata',\n",
       "  'seq_var': 'seq',\n",
       "  'cov_var': 'cov',\n",
       "  'fold': 'fold_0',\n",
       "  'seq_length': 2114,\n",
       "  'target_length': 1000,\n",
       "  'max_jitter': 512,\n",
       "  'max_counts': 999999,\n",
       "  'min_counts': 0,\n",
       "  'outlier_threshold': 0.9999,\n",
       "  'neg_sampling_ratio': 0.1},\n",
       " 'model': {'n_filters': 512,\n",
       "  'n_layers': 8,\n",
       "  'n_outputs': 1,\n",
       "  'alpha': None,\n",
       "  'bias_model': 'celltype_name.torch'},\n",
       " 'training': {'learning_rate': 0.001,\n",
       "  'batch_size': 64,\n",
       "  'max_epochs': 50,\n",
       "  'validation_iter': 1000,\n",
       "  'rc_augment': True,\n",
       "  'early_stopping': 10},\n",
       " 'evaluation': {'batch_size': 256},\n",
       " 'attribution': {'batch_size': 32, 'subsample': 20000, 'n_shuffles': 10},\n",
       " 'modisco': {'n_seqlets': 50000,\n",
       "  'window': 500,\n",
       "  'motif_db': '/cellar/users/aklie/projects/ML4GLand/tutorials/data/motifs.meme.txt'}}"
      ]
     },
     "execution_count": 24,
     "metadata": {},
     "output_type": "execute_result"
    }
   ],
   "source": [
    "# load template config\n",
    "config = yaml.safe_load(open(path_config, 'r'))\n",
    "config"
   ]
  },
  {
   "cell_type": "code",
   "execution_count": 25,
   "metadata": {},
   "outputs": [
    {
     "data": {
      "text/plain": [
       "{'SC.alpha': {0.5: '/cellar/users/aklie/data/datasets/igvf_sc-islet_10X-Multiome/results/9_sequence_models/atac/3-cyt_rna_celltype/SC.alpha/prep_dataset/0.5/SC.alpha.minimal.seqdata',\n",
       "  0.6: '/cellar/users/aklie/data/datasets/igvf_sc-islet_10X-Multiome/results/9_sequence_models/atac/3-cyt_rna_celltype/SC.alpha/prep_dataset/0.6/SC.alpha.minimal.seqdata',\n",
       "  0.9: '/cellar/users/aklie/data/datasets/igvf_sc-islet_10X-Multiome/results/9_sequence_models/atac/3-cyt_rna_celltype/SC.alpha/prep_dataset/0.9/SC.alpha.minimal.seqdata',\n",
       "  0.7: '/cellar/users/aklie/data/datasets/igvf_sc-islet_10X-Multiome/results/9_sequence_models/atac/3-cyt_rna_celltype/SC.alpha/prep_dataset/0.7/SC.alpha.minimal.seqdata'},\n",
       " 'SC.EC': {0.9: '/cellar/users/aklie/data/datasets/igvf_sc-islet_10X-Multiome/results/9_sequence_models/atac/3-cyt_rna_celltype/SC.EC/prep_dataset/0.9/SC.EC.minimal.seqdata',\n",
       "  0.7: '/cellar/users/aklie/data/datasets/igvf_sc-islet_10X-Multiome/results/9_sequence_models/atac/3-cyt_rna_celltype/SC.EC/prep_dataset/0.7/SC.EC.minimal.seqdata',\n",
       "  0.5: '/cellar/users/aklie/data/datasets/igvf_sc-islet_10X-Multiome/results/9_sequence_models/atac/3-cyt_rna_celltype/SC.EC/prep_dataset/0.5/SC.EC.minimal.seqdata',\n",
       "  0.6: '/cellar/users/aklie/data/datasets/igvf_sc-islet_10X-Multiome/results/9_sequence_models/atac/3-cyt_rna_celltype/SC.EC/prep_dataset/0.6/SC.EC.minimal.seqdata'},\n",
       " 'SC.delta': {0.5: '/cellar/users/aklie/data/datasets/igvf_sc-islet_10X-Multiome/results/9_sequence_models/atac/3-cyt_rna_celltype/SC.delta/prep_dataset/0.5/SC.delta.minimal.seqdata',\n",
       "  0.6: '/cellar/users/aklie/data/datasets/igvf_sc-islet_10X-Multiome/results/9_sequence_models/atac/3-cyt_rna_celltype/SC.delta/prep_dataset/0.6/SC.delta.minimal.seqdata',\n",
       "  0.9: '/cellar/users/aklie/data/datasets/igvf_sc-islet_10X-Multiome/results/9_sequence_models/atac/3-cyt_rna_celltype/SC.delta/prep_dataset/0.9/SC.delta.minimal.seqdata',\n",
       "  0.7: '/cellar/users/aklie/data/datasets/igvf_sc-islet_10X-Multiome/results/9_sequence_models/atac/3-cyt_rna_celltype/SC.delta/prep_dataset/0.7/SC.delta.minimal.seqdata'},\n",
       " 'SC.beta': {0.7: '/cellar/users/aklie/data/datasets/igvf_sc-islet_10X-Multiome/results/9_sequence_models/atac/3-cyt_rna_celltype/SC.beta/prep_dataset/0.7/SC.beta.minimal.seqdata',\n",
       "  0.9: '/cellar/users/aklie/data/datasets/igvf_sc-islet_10X-Multiome/results/9_sequence_models/atac/3-cyt_rna_celltype/SC.beta/prep_dataset/0.9/SC.beta.minimal.seqdata',\n",
       "  0.6: '/cellar/users/aklie/data/datasets/igvf_sc-islet_10X-Multiome/results/9_sequence_models/atac/3-cyt_rna_celltype/SC.beta/prep_dataset/0.6/SC.beta.minimal.seqdata',\n",
       "  0.5: '/cellar/users/aklie/data/datasets/igvf_sc-islet_10X-Multiome/results/9_sequence_models/atac/3-cyt_rna_celltype/SC.beta/prep_dataset/0.5/SC.beta.minimal.seqdata'}}"
      ]
     },
     "execution_count": 25,
     "metadata": {},
     "output_type": "execute_result"
    }
   ],
   "source": [
    "# Grab paths of seqdatas from the previous step\n",
    "seqdatas = {}\n",
    "for f in glob.glob(os.path.join(path_out, \"*\", \"prep_dataset\", \"*\", \"*.minimal.seqdata\")):\n",
    "    signal_beta = float(f.split(\"/\")[-2])\n",
    "    celltype = os.path.basename(f).split(\".minimal.seqdata\")[0]\n",
    "    if celltype not in seqdatas:\n",
    "        seqdatas[celltype] = {}\n",
    "    seqdatas[celltype][signal_beta] = f\n",
    "seqdatas"
   ]
  },
  {
   "cell_type": "code",
   "execution_count": 26,
   "metadata": {},
   "outputs": [
    {
     "data": {
      "text/plain": [
       "{'SC.alpha': {'fold_0': {0.5: '/cellar/users/aklie/data/datasets/igvf_sc-islet_10X-Multiome/results/9_sequence_models/atac/3-cyt_rna_celltype/SC.alpha/bias_fit/fold_0/0.5/SC.alpha.torch',\n",
       "   0.6: '/cellar/users/aklie/data/datasets/igvf_sc-islet_10X-Multiome/results/9_sequence_models/atac/3-cyt_rna_celltype/SC.alpha/bias_fit/fold_0/0.6/SC.alpha.torch',\n",
       "   0.9: '/cellar/users/aklie/data/datasets/igvf_sc-islet_10X-Multiome/results/9_sequence_models/atac/3-cyt_rna_celltype/SC.alpha/bias_fit/fold_0/0.9/SC.alpha.torch',\n",
       "   0.7: '/cellar/users/aklie/data/datasets/igvf_sc-islet_10X-Multiome/results/9_sequence_models/atac/3-cyt_rna_celltype/SC.alpha/bias_fit/fold_0/0.7/SC.alpha.torch'},\n",
       "  'fold_4': {0.5: '/cellar/users/aklie/data/datasets/igvf_sc-islet_10X-Multiome/results/9_sequence_models/atac/3-cyt_rna_celltype/SC.alpha/bias_fit/fold_4/0.5/SC.alpha.torch'},\n",
       "  'fold_3': {0.5: '/cellar/users/aklie/data/datasets/igvf_sc-islet_10X-Multiome/results/9_sequence_models/atac/3-cyt_rna_celltype/SC.alpha/bias_fit/fold_3/0.5/SC.alpha.torch'},\n",
       "  'fold_1': {0.5: '/cellar/users/aklie/data/datasets/igvf_sc-islet_10X-Multiome/results/9_sequence_models/atac/3-cyt_rna_celltype/SC.alpha/bias_fit/fold_1/0.5/SC.alpha.torch'},\n",
       "  'fold_2': {0.5: '/cellar/users/aklie/data/datasets/igvf_sc-islet_10X-Multiome/results/9_sequence_models/atac/3-cyt_rna_celltype/SC.alpha/bias_fit/fold_2/0.5/SC.alpha.torch'}},\n",
       " 'SC.EC': {'fold_4': {0.5: '/cellar/users/aklie/data/datasets/igvf_sc-islet_10X-Multiome/results/9_sequence_models/atac/3-cyt_rna_celltype/SC.EC/bias_fit/fold_4/0.5/SC.EC.torch'},\n",
       "  'fold_3': {0.5: '/cellar/users/aklie/data/datasets/igvf_sc-islet_10X-Multiome/results/9_sequence_models/atac/3-cyt_rna_celltype/SC.EC/bias_fit/fold_3/0.5/SC.EC.torch'},\n",
       "  'fold_0': {0.6: '/cellar/users/aklie/data/datasets/igvf_sc-islet_10X-Multiome/results/9_sequence_models/atac/3-cyt_rna_celltype/SC.EC/bias_fit/fold_0/0.6/SC.EC.torch',\n",
       "   0.5: '/cellar/users/aklie/data/datasets/igvf_sc-islet_10X-Multiome/results/9_sequence_models/atac/3-cyt_rna_celltype/SC.EC/bias_fit/fold_0/0.5/SC.EC.torch',\n",
       "   0.7: '/cellar/users/aklie/data/datasets/igvf_sc-islet_10X-Multiome/results/9_sequence_models/atac/3-cyt_rna_celltype/SC.EC/bias_fit/fold_0/0.7/SC.EC.torch',\n",
       "   0.9: '/cellar/users/aklie/data/datasets/igvf_sc-islet_10X-Multiome/results/9_sequence_models/atac/3-cyt_rna_celltype/SC.EC/bias_fit/fold_0/0.9/SC.EC.torch'},\n",
       "  'fold_2': {0.5: '/cellar/users/aklie/data/datasets/igvf_sc-islet_10X-Multiome/results/9_sequence_models/atac/3-cyt_rna_celltype/SC.EC/bias_fit/fold_2/0.5/SC.EC.torch'},\n",
       "  'fold_1': {0.5: '/cellar/users/aklie/data/datasets/igvf_sc-islet_10X-Multiome/results/9_sequence_models/atac/3-cyt_rna_celltype/SC.EC/bias_fit/fold_1/0.5/SC.EC.torch'}},\n",
       " 'SC.delta': {'fold_4': {0.5: '/cellar/users/aklie/data/datasets/igvf_sc-islet_10X-Multiome/results/9_sequence_models/atac/3-cyt_rna_celltype/SC.delta/bias_fit/fold_4/0.5/SC.delta.torch'},\n",
       "  'fold_3': {0.5: '/cellar/users/aklie/data/datasets/igvf_sc-islet_10X-Multiome/results/9_sequence_models/atac/3-cyt_rna_celltype/SC.delta/bias_fit/fold_3/0.5/SC.delta.torch'},\n",
       "  'fold_0': {0.7: '/cellar/users/aklie/data/datasets/igvf_sc-islet_10X-Multiome/results/9_sequence_models/atac/3-cyt_rna_celltype/SC.delta/bias_fit/fold_0/0.7/SC.delta.torch',\n",
       "   0.9: '/cellar/users/aklie/data/datasets/igvf_sc-islet_10X-Multiome/results/9_sequence_models/atac/3-cyt_rna_celltype/SC.delta/bias_fit/fold_0/0.9/SC.delta.torch',\n",
       "   0.6: '/cellar/users/aklie/data/datasets/igvf_sc-islet_10X-Multiome/results/9_sequence_models/atac/3-cyt_rna_celltype/SC.delta/bias_fit/fold_0/0.6/SC.delta.torch',\n",
       "   0.5: '/cellar/users/aklie/data/datasets/igvf_sc-islet_10X-Multiome/results/9_sequence_models/atac/3-cyt_rna_celltype/SC.delta/bias_fit/fold_0/0.5/SC.delta.torch'},\n",
       "  'fold_2': {0.5: '/cellar/users/aklie/data/datasets/igvf_sc-islet_10X-Multiome/results/9_sequence_models/atac/3-cyt_rna_celltype/SC.delta/bias_fit/fold_2/0.5/SC.delta.torch'},\n",
       "  'fold_1': {0.5: '/cellar/users/aklie/data/datasets/igvf_sc-islet_10X-Multiome/results/9_sequence_models/atac/3-cyt_rna_celltype/SC.delta/bias_fit/fold_1/0.5/SC.delta.torch'}},\n",
       " 'SC.beta': {'fold_1': {0.5: '/cellar/users/aklie/data/datasets/igvf_sc-islet_10X-Multiome/results/9_sequence_models/atac/3-cyt_rna_celltype/SC.beta/bias_fit/fold_1/0.5/SC.beta.torch'},\n",
       "  'fold_2': {0.5: '/cellar/users/aklie/data/datasets/igvf_sc-islet_10X-Multiome/results/9_sequence_models/atac/3-cyt_rna_celltype/SC.beta/bias_fit/fold_2/0.5/SC.beta.torch'},\n",
       "  'fold_0': {0.9: '/cellar/users/aklie/data/datasets/igvf_sc-islet_10X-Multiome/results/9_sequence_models/atac/3-cyt_rna_celltype/SC.beta/bias_fit/fold_0/0.9/SC.beta.torch',\n",
       "   0.7: '/cellar/users/aklie/data/datasets/igvf_sc-islet_10X-Multiome/results/9_sequence_models/atac/3-cyt_rna_celltype/SC.beta/bias_fit/fold_0/0.7/SC.beta.torch',\n",
       "   0.5: '/cellar/users/aklie/data/datasets/igvf_sc-islet_10X-Multiome/results/9_sequence_models/atac/3-cyt_rna_celltype/SC.beta/bias_fit/fold_0/0.5/SC.beta.torch',\n",
       "   0.6: '/cellar/users/aklie/data/datasets/igvf_sc-islet_10X-Multiome/results/9_sequence_models/atac/3-cyt_rna_celltype/SC.beta/bias_fit/fold_0/0.6/SC.beta.torch'},\n",
       "  'fold_4': {0.5: '/cellar/users/aklie/data/datasets/igvf_sc-islet_10X-Multiome/results/9_sequence_models/atac/3-cyt_rna_celltype/SC.beta/bias_fit/fold_4/0.5/SC.beta.torch'},\n",
       "  'fold_3': {0.5: '/cellar/users/aklie/data/datasets/igvf_sc-islet_10X-Multiome/results/9_sequence_models/atac/3-cyt_rna_celltype/SC.beta/bias_fit/fold_3/0.5/SC.beta.torch'}}}"
      ]
     },
     "execution_count": 26,
     "metadata": {},
     "output_type": "execute_result"
    }
   ],
   "source": [
    "# Need to pull\n",
    "bias_models = {}\n",
    "paths = glob.glob(os.path.join(path_out, \"*\", \"bias_fit\", \"fold_*\", \"*\", \"*.torch\"), recursive=True)\n",
    "paths = [p for p in paths if \"final\" not in p]\n",
    "for f in paths:\n",
    "    \n",
    "    # Grab celltype\n",
    "    celltype = os.path.basename(f).split(\".torch\")[0]\n",
    "    if celltype not in bias_models:\n",
    "        bias_models[celltype] = {}\n",
    "    \n",
    "    # Grab fold\n",
    "    fold = f.split(\"/\")[-3]\n",
    "    if fold not in bias_models[celltype]:\n",
    "        bias_models[celltype][fold] = {}\n",
    "\n",
    "    # Grab signal_beta\n",
    "    signal_beta = float(f.split(\"/\")[-2])\n",
    "    bias_models[celltype][fold][signal_beta] = f\n",
    "    \n",
    "bias_models"
   ]
  },
  {
   "cell_type": "code",
   "execution_count": 27,
   "metadata": {},
   "outputs": [],
   "source": [
    "# How many folds?\n",
    "folds = 5"
   ]
  },
  {
   "cell_type": "code",
   "execution_count": 28,
   "metadata": {},
   "outputs": [],
   "source": [
    "# Which signal betas to use?\n",
    "signal_betas = [0.5]"
   ]
  },
  {
   "cell_type": "code",
   "execution_count": 33,
   "metadata": {},
   "outputs": [
    {
     "name": "stdout",
     "output_type": "stream",
     "text": [
      "/cellar/users/aklie/data/datasets/igvf_sc-islet_10X-Multiome/results/9_sequence_models/atac/3-cyt_rna_celltype/SC.beta/chrombpnet_fit/fold_1/0.5/SC.beta_fold_1.yaml\n",
      "/cellar/users/aklie/data/datasets/igvf_sc-islet_10X-Multiome/results/9_sequence_models/atac/3-cyt_rna_celltype/SC.beta/chrombpnet_fit/fold_2/0.5/SC.beta_fold_2.yaml\n",
      "/cellar/users/aklie/data/datasets/igvf_sc-islet_10X-Multiome/results/9_sequence_models/atac/3-cyt_rna_celltype/SC.beta/chrombpnet_fit/fold_0/0.5/SC.beta_fold_0.yaml\n",
      "/cellar/users/aklie/data/datasets/igvf_sc-islet_10X-Multiome/results/9_sequence_models/atac/3-cyt_rna_celltype/SC.beta/chrombpnet_fit/fold_4/0.5/SC.beta_fold_4.yaml\n",
      "/cellar/users/aklie/data/datasets/igvf_sc-islet_10X-Multiome/results/9_sequence_models/atac/3-cyt_rna_celltype/SC.beta/chrombpnet_fit/fold_3/0.5/SC.beta_fold_3.yaml\n",
      "/cellar/users/aklie/data/datasets/igvf_sc-islet_10X-Multiome/results/9_sequence_models/atac/3-cyt_rna_celltype/SC.EC/chrombpnet_fit/fold_4/0.5/SC.EC_fold_4.yaml\n",
      "/cellar/users/aklie/data/datasets/igvf_sc-islet_10X-Multiome/results/9_sequence_models/atac/3-cyt_rna_celltype/SC.EC/chrombpnet_fit/fold_3/0.5/SC.EC_fold_3.yaml\n",
      "/cellar/users/aklie/data/datasets/igvf_sc-islet_10X-Multiome/results/9_sequence_models/atac/3-cyt_rna_celltype/SC.EC/chrombpnet_fit/fold_0/0.5/SC.EC_fold_0.yaml\n",
      "/cellar/users/aklie/data/datasets/igvf_sc-islet_10X-Multiome/results/9_sequence_models/atac/3-cyt_rna_celltype/SC.EC/chrombpnet_fit/fold_2/0.5/SC.EC_fold_2.yaml\n",
      "/cellar/users/aklie/data/datasets/igvf_sc-islet_10X-Multiome/results/9_sequence_models/atac/3-cyt_rna_celltype/SC.EC/chrombpnet_fit/fold_1/0.5/SC.EC_fold_1.yaml\n",
      "/cellar/users/aklie/data/datasets/igvf_sc-islet_10X-Multiome/results/9_sequence_models/atac/3-cyt_rna_celltype/SC.alpha/chrombpnet_fit/fold_0/0.5/SC.alpha_fold_0.yaml\n",
      "/cellar/users/aklie/data/datasets/igvf_sc-islet_10X-Multiome/results/9_sequence_models/atac/3-cyt_rna_celltype/SC.alpha/chrombpnet_fit/fold_4/0.5/SC.alpha_fold_4.yaml\n",
      "/cellar/users/aklie/data/datasets/igvf_sc-islet_10X-Multiome/results/9_sequence_models/atac/3-cyt_rna_celltype/SC.alpha/chrombpnet_fit/fold_3/0.5/SC.alpha_fold_3.yaml\n",
      "/cellar/users/aklie/data/datasets/igvf_sc-islet_10X-Multiome/results/9_sequence_models/atac/3-cyt_rna_celltype/SC.alpha/chrombpnet_fit/fold_1/0.5/SC.alpha_fold_1.yaml\n",
      "/cellar/users/aklie/data/datasets/igvf_sc-islet_10X-Multiome/results/9_sequence_models/atac/3-cyt_rna_celltype/SC.alpha/chrombpnet_fit/fold_2/0.5/SC.alpha_fold_2.yaml\n",
      "/cellar/users/aklie/data/datasets/igvf_sc-islet_10X-Multiome/results/9_sequence_models/atac/3-cyt_rna_celltype/SC.delta/chrombpnet_fit/fold_4/0.5/SC.delta_fold_4.yaml\n",
      "/cellar/users/aklie/data/datasets/igvf_sc-islet_10X-Multiome/results/9_sequence_models/atac/3-cyt_rna_celltype/SC.delta/chrombpnet_fit/fold_3/0.5/SC.delta_fold_3.yaml\n",
      "/cellar/users/aklie/data/datasets/igvf_sc-islet_10X-Multiome/results/9_sequence_models/atac/3-cyt_rna_celltype/SC.delta/chrombpnet_fit/fold_0/0.5/SC.delta_fold_0.yaml\n",
      "/cellar/users/aklie/data/datasets/igvf_sc-islet_10X-Multiome/results/9_sequence_models/atac/3-cyt_rna_celltype/SC.delta/chrombpnet_fit/fold_2/0.5/SC.delta_fold_2.yaml\n",
      "/cellar/users/aklie/data/datasets/igvf_sc-islet_10X-Multiome/results/9_sequence_models/atac/3-cyt_rna_celltype/SC.delta/chrombpnet_fit/fold_1/0.5/SC.delta_fold_1.yaml\n"
     ]
    }
   ],
   "source": [
    "config_paths = []\n",
    "for i, celltype in enumerate(celltypes):\n",
    "    for fold in bias_models[celltype]:\n",
    "        for signal_beta in signal_betas:\n",
    "            out_dir = os.path.join(path_out, celltype, \"chrombpnet_fit\", fold, f\"{signal_beta}\")\n",
    "            os.makedirs(out_dir, exist_ok=True)\n",
    "            curr_out = os.path.join(out_dir, f\"{celltype}_{fold}.yaml\")\n",
    "            curr_config = config.copy()\n",
    "            curr_config[\"name\"] = celltype\n",
    "            curr_config[\"seqdata\"][\"path\"] = seqdatas[celltype][signal_beta]\n",
    "            curr_config[\"seqdata\"][\"fold\"] = fold\n",
    "            curr_config[\"model\"][\"bias_model\"] = bias_models[celltype][fold][signal_beta]\n",
    "            with open(curr_out, 'w') as f:\n",
    "                yaml.dump(curr_config, f)\n",
    "            print(curr_out)\n",
    "            config_paths.append(curr_out)"
   ]
  },
  {
   "cell_type": "code",
   "execution_count": 34,
   "metadata": {},
   "outputs": [
    {
     "data": {
      "text/plain": [
       "['/cellar/users/aklie/data/datasets/igvf_sc-islet_10X-Multiome/results/9_sequence_models/atac/3-cyt_rna_celltype/SC.beta/chrombpnet_fit/fold_1/0.5/SC.beta_fold_1.yaml',\n",
       " '/cellar/users/aklie/data/datasets/igvf_sc-islet_10X-Multiome/results/9_sequence_models/atac/3-cyt_rna_celltype/SC.beta/chrombpnet_fit/fold_2/0.5/SC.beta_fold_2.yaml',\n",
       " '/cellar/users/aklie/data/datasets/igvf_sc-islet_10X-Multiome/results/9_sequence_models/atac/3-cyt_rna_celltype/SC.beta/chrombpnet_fit/fold_0/0.5/SC.beta_fold_0.yaml',\n",
       " '/cellar/users/aklie/data/datasets/igvf_sc-islet_10X-Multiome/results/9_sequence_models/atac/3-cyt_rna_celltype/SC.beta/chrombpnet_fit/fold_4/0.5/SC.beta_fold_4.yaml',\n",
       " '/cellar/users/aklie/data/datasets/igvf_sc-islet_10X-Multiome/results/9_sequence_models/atac/3-cyt_rna_celltype/SC.beta/chrombpnet_fit/fold_3/0.5/SC.beta_fold_3.yaml',\n",
       " '/cellar/users/aklie/data/datasets/igvf_sc-islet_10X-Multiome/results/9_sequence_models/atac/3-cyt_rna_celltype/SC.EC/chrombpnet_fit/fold_4/0.5/SC.EC_fold_4.yaml',\n",
       " '/cellar/users/aklie/data/datasets/igvf_sc-islet_10X-Multiome/results/9_sequence_models/atac/3-cyt_rna_celltype/SC.EC/chrombpnet_fit/fold_3/0.5/SC.EC_fold_3.yaml',\n",
       " '/cellar/users/aklie/data/datasets/igvf_sc-islet_10X-Multiome/results/9_sequence_models/atac/3-cyt_rna_celltype/SC.EC/chrombpnet_fit/fold_0/0.5/SC.EC_fold_0.yaml',\n",
       " '/cellar/users/aklie/data/datasets/igvf_sc-islet_10X-Multiome/results/9_sequence_models/atac/3-cyt_rna_celltype/SC.EC/chrombpnet_fit/fold_2/0.5/SC.EC_fold_2.yaml',\n",
       " '/cellar/users/aklie/data/datasets/igvf_sc-islet_10X-Multiome/results/9_sequence_models/atac/3-cyt_rna_celltype/SC.EC/chrombpnet_fit/fold_1/0.5/SC.EC_fold_1.yaml',\n",
       " '/cellar/users/aklie/data/datasets/igvf_sc-islet_10X-Multiome/results/9_sequence_models/atac/3-cyt_rna_celltype/SC.alpha/chrombpnet_fit/fold_0/0.5/SC.alpha_fold_0.yaml',\n",
       " '/cellar/users/aklie/data/datasets/igvf_sc-islet_10X-Multiome/results/9_sequence_models/atac/3-cyt_rna_celltype/SC.alpha/chrombpnet_fit/fold_4/0.5/SC.alpha_fold_4.yaml',\n",
       " '/cellar/users/aklie/data/datasets/igvf_sc-islet_10X-Multiome/results/9_sequence_models/atac/3-cyt_rna_celltype/SC.alpha/chrombpnet_fit/fold_3/0.5/SC.alpha_fold_3.yaml',\n",
       " '/cellar/users/aklie/data/datasets/igvf_sc-islet_10X-Multiome/results/9_sequence_models/atac/3-cyt_rna_celltype/SC.alpha/chrombpnet_fit/fold_1/0.5/SC.alpha_fold_1.yaml',\n",
       " '/cellar/users/aklie/data/datasets/igvf_sc-islet_10X-Multiome/results/9_sequence_models/atac/3-cyt_rna_celltype/SC.alpha/chrombpnet_fit/fold_2/0.5/SC.alpha_fold_2.yaml',\n",
       " '/cellar/users/aklie/data/datasets/igvf_sc-islet_10X-Multiome/results/9_sequence_models/atac/3-cyt_rna_celltype/SC.delta/chrombpnet_fit/fold_4/0.5/SC.delta_fold_4.yaml',\n",
       " '/cellar/users/aklie/data/datasets/igvf_sc-islet_10X-Multiome/results/9_sequence_models/atac/3-cyt_rna_celltype/SC.delta/chrombpnet_fit/fold_3/0.5/SC.delta_fold_3.yaml',\n",
       " '/cellar/users/aklie/data/datasets/igvf_sc-islet_10X-Multiome/results/9_sequence_models/atac/3-cyt_rna_celltype/SC.delta/chrombpnet_fit/fold_0/0.5/SC.delta_fold_0.yaml',\n",
       " '/cellar/users/aklie/data/datasets/igvf_sc-islet_10X-Multiome/results/9_sequence_models/atac/3-cyt_rna_celltype/SC.delta/chrombpnet_fit/fold_2/0.5/SC.delta_fold_2.yaml',\n",
       " '/cellar/users/aklie/data/datasets/igvf_sc-islet_10X-Multiome/results/9_sequence_models/atac/3-cyt_rna_celltype/SC.delta/chrombpnet_fit/fold_1/0.5/SC.delta_fold_1.yaml']"
      ]
     },
     "execution_count": 34,
     "metadata": {},
     "output_type": "execute_result"
    }
   ],
   "source": [
    "# Keep only fold_0 configs\n",
    "#config_paths = sorted([c for c in config_paths if \"fold_0\" in c])\n",
    "config_paths"
   ]
  },
  {
   "cell_type": "code",
   "execution_count": 35,
   "metadata": {},
   "outputs": [],
   "source": [
    "# Make a dataframe with paths of configs in first column and output directory in second column\n",
    "df = pd.DataFrame()\n",
    "df[\"config\"] = config_paths\n",
    "df[\"out_dir\"] = [os.path.dirname(p) for p in config_paths]\n",
    "df.to_csv(\"/cellar/users/aklie/data/datasets/igvf_sc-islet_10X-Multiome/bin/9_sequence_models/metadata/chrombpnet_fit_0.5.tsv\", sep=\"\\t\", index=False, header=False)"
   ]
  },
  {
   "cell_type": "markdown",
   "metadata": {},
   "source": [
    "# DONE!"
   ]
  },
  {
   "cell_type": "markdown",
   "metadata": {},
   "source": [
    "---"
   ]
  }
 ],
 "metadata": {
  "kernelspec": {
   "display_name": "Python 3.7 get_data",
   "language": "python",
   "name": "get_data"
  }
 },
 "nbformat": 4,
 "nbformat_minor": 2
}
